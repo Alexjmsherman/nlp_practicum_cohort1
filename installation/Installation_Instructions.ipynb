{
 "cells": [
  {
   "cell_type": "markdown",
   "metadata": {},
   "source": [
    "# Installation Instructions\n",
    "\n",
    "Run the below code to confirm that all packages are installed for each lesson and homework\n",
    "\n",
    "##### Author: Alex Sherman | alsherman@deloitte.com"
   ]
  },
  {
   "cell_type": "markdown",
   "metadata": {},
   "source": [
    "### Lesson - SQLAlchemy"
   ]
  },
  {
   "cell_type": "markdown",
   "metadata": {},
   "source": [
    "##### Required Installation\n",
    "In Git Bash, type the following to install package(s) for the lesson:\n",
    "- pip install mysqlclient"
   ]
  },
  {
   "cell_type": "code",
   "execution_count": 1,
   "metadata": {
    "collapsed": true
   },
   "outputs": [],
   "source": [
    "import os\n",
    "import pandas as pd\n",
    "import datetime as dt\n",
    "import zipfile\n",
    "from IPython.core.display import display, HTML\n",
    "from configparser import ConfigParser, ExtendedInterpolation\n",
    "from sqlalchemy import create_engine\n",
    "from sqlalchemy import func\n",
    "from sqlalchemy import Column, Text, Integer\n",
    "from sqlalchemy.sql import text\n",
    "from sqlalchemy.orm import sessionmaker\n",
    "from sqlalchemy.engine import reflection\n",
    "from sqlalchemy.ext.declarative import declarative_base\n",
    "\n",
    "# Installation Sources:\n",
    "# pandas: conda install -c anaconda pandas\n",
    "# sqlalchemy: conda install -c anaconda sqlalchemy "
   ]
  },
  {
   "cell_type": "markdown",
   "metadata": {},
   "source": [
    "### Homework - SQLAlchemy"
   ]
  },
  {
   "cell_type": "code",
   "execution_count": 2,
   "metadata": {
    "collapsed": true
   },
   "outputs": [],
   "source": [
    "import pandas as pd\n",
    "from configparser import ConfigParser, ExtendedInterpolation\n",
    "from sqlalchemy import Column, Text, Integer\n",
    "from sqlalchemy.ext.declarative import declarative_base\n",
    "from sqlalchemy import create_engine\n",
    "from sqlalchemy.orm import sessionmaker"
   ]
  }
 ],
 "metadata": {
  "kernelspec": {
   "display_name": "guild",
   "language": "python",
   "name": "guild"
  },
  "language_info": {
   "codemirror_mode": {
    "name": "ipython",
    "version": 3
   },
   "file_extension": ".py",
   "mimetype": "text/x-python",
   "name": "python",
   "nbconvert_exporter": "python",
   "pygments_lexer": "ipython3",
   "version": "3.6.3"
  }
 },
 "nbformat": 4,
 "nbformat_minor": 2
}
