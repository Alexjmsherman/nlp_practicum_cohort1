{
 "cells": [
  {
   "cell_type": "markdown",
   "metadata": {},
   "source": [
    "## Text Extraction\n",
    "\n",
    "##### Author: Alex Sherman | alsherman@deloitte.com\n",
    "\n",
    "\n",
    "Agenda:\n",
    "- Extract Text from Word Documents\n",
    "- Identify style (e.g. Bold, Font) and metadata (e.g. author) associated with document text\n",
    "- Understand docx XML tag definitions\n",
    "- Learn how to interact with Zip Files\n",
    "- Identify content surrounding key piece of text\n",
    "- Extract text from a pdf with pdfminer.six"
   ]
  },
  {
   "cell_type": "code",
   "execution_count": null,
   "metadata": {
    "collapsed": true
   },
   "outputs": [],
   "source": [
    "from IPython.display import Image\n",
    "Image(\"../../raw_data/images/lesson4_text_extraction.png\", width=800, height=700)"
   ]
  },
  {
   "cell_type": "code",
   "execution_count": null,
   "metadata": {
    "collapsed": true
   },
   "outputs": [],
   "source": [
    "import os\n",
    "from IPython.core.display import display, HTML\n",
    "from configparser import ConfigParser, ExtendedInterpolation\n",
    "\n",
    "config = ConfigParser(interpolation=ExtendedInterpolation())\n",
    "config.read('../../config.ini')\n",
    "\n",
    "DOCX_PATH = config['DOCX']['DOCX_PATH']\n",
    "XML_PATH = config['DOCX']['XML_PATH']\n",
    "EXAMPLE_ZIP = config['DOCX']['EXAMPLE_ZIP']"
   ]
  },
  {
   "cell_type": "markdown",
   "metadata": {},
   "source": [
    "### python-docx\n",
    "\n",
    "python-docx is a Python library for creating, updating, and extracting text from Microsoft Word (.docx) files."
   ]
  },
  {
   "cell_type": "code",
   "execution_count": null,
   "metadata": {
    "collapsed": true,
    "scrolled": true
   },
   "outputs": [],
   "source": [
    "sqlalchemy_url = 'https://python-docx.readthedocs.io/en/latest/'\n",
    "iframe = '<iframe src={} width=1100 height=300></iframe>'.format(sqlalchemy_url)\n",
    "HTML(iframe)"
   ]
  },
  {
   "cell_type": "code",
   "execution_count": null,
   "metadata": {
    "collapsed": true
   },
   "outputs": [],
   "source": [
    "# the Document method reads the text, style, and formatting of a word .docx document\n",
    "import docx\n",
    "doc = docx.Document(DOCX_PATH)"
   ]
  },
  {
   "cell_type": "code",
   "execution_count": null,
   "metadata": {
    "collapsed": true
   },
   "outputs": [],
   "source": [
    "# view the methods and attributes of a doc\n",
    "print(dir(doc))"
   ]
  },
  {
   "cell_type": "markdown",
   "metadata": {},
   "source": [
    "### Paragraphs\n",
    "\n",
    "Word paragraphs contain the text of the document. However, the table text, headers, footers, are not included in paragraphs."
   ]
  },
  {
   "cell_type": "code",
   "execution_count": null,
   "metadata": {
    "collapsed": true
   },
   "outputs": [],
   "source": [
    "# get all paragraphs \n",
    "paragraphs = doc.paragraphs"
   ]
  },
  {
   "cell_type": "code",
   "execution_count": null,
   "metadata": {
    "collapsed": true
   },
   "outputs": [],
   "source": [
    "# view the docx paragraph objects\n",
    "paragraphs[0:5]"
   ]
  },
  {
   "cell_type": "code",
   "execution_count": null,
   "metadata": {
    "collapsed": true
   },
   "outputs": [],
   "source": [
    "# count all paragraphs in the document\n",
    "len(paragraphs)"
   ]
  },
  {
   "cell_type": "code",
   "execution_count": null,
   "metadata": {
    "collapsed": true
   },
   "outputs": [],
   "source": [
    "# only include with text (ignore empty strings)\n",
    "paragraphs = [p for p in paragraphs if p.text.strip() != '']"
   ]
  },
  {
   "cell_type": "code",
   "execution_count": null,
   "metadata": {
    "collapsed": true
   },
   "outputs": [],
   "source": [
    "# view the text of the first paragraph\n",
    "paragraphs[0].text"
   ]
  },
  {
   "cell_type": "markdown",
   "metadata": {},
   "source": [
    "### Style"
   ]
  },
  {
   "cell_type": "code",
   "execution_count": null,
   "metadata": {
    "collapsed": true
   },
   "outputs": [],
   "source": [
    "# view the methods and attributes of a paragraph\n",
    "print(dir(paragraphs[0]))"
   ]
  },
  {
   "cell_type": "code",
   "execution_count": null,
   "metadata": {
    "collapsed": true
   },
   "outputs": [],
   "source": [
    "# get the paragraph style\n",
    "paragraphs[0].style.name"
   ]
  },
  {
   "cell_type": "code",
   "execution_count": null,
   "metadata": {
    "collapsed": true
   },
   "outputs": [],
   "source": [
    "# Identify if paragraph text has 'Heading' style\n",
    "'heading' in paragraphs[0].style.name.lower()"
   ]
  },
  {
   "cell_type": "code",
   "execution_count": null,
   "metadata": {
    "collapsed": true
   },
   "outputs": [],
   "source": [
    "# view all the heading styles in the doc\n",
    "set(p.style.name for p in paragraphs if 'heading' in p.style.name.lower())"
   ]
  },
  {
   "cell_type": "markdown",
   "metadata": {},
   "source": [
    "### Exercise\n",
    " 1. count how many paragraphs have a heading style\n",
    " 2. store the text of all the paragraphs with a heading style"
   ]
  },
  {
   "cell_type": "code",
   "execution_count": null,
   "metadata": {
    "collapsed": true
   },
   "outputs": [],
   "source": [
    "# store all heading paragraphs\n",
    "headings = [p.text.strip() for p in paragraphs if 'heading' in p.style.name.lower()]\n",
    "\n",
    "print('# heading paragraphs: {}\\n'.format(len(headings)))\n",
    "headings[0:10]"
   ]
  },
  {
   "cell_type": "markdown",
   "metadata": {},
   "source": [
    "### Runs\n",
    "\n",
    "Each paragraph may contain one or more runs. A run denotes the style attached to the text in a paragraph. Every time the style change (e.g. from bold to normal text) a new run is added."
   ]
  },
  {
   "cell_type": "code",
   "execution_count": null,
   "metadata": {
    "collapsed": true
   },
   "outputs": [],
   "source": [
    "runs = paragraphs[0].runs\n",
    "runs"
   ]
  },
  {
   "cell_type": "code",
   "execution_count": null,
   "metadata": {
    "collapsed": true
   },
   "outputs": [],
   "source": [
    "# View all the runs in the paragraph\n",
    "[run.text for run in runs]"
   ]
  },
  {
   "cell_type": "code",
   "execution_count": null,
   "metadata": {
    "collapsed": true
   },
   "outputs": [],
   "source": [
    "# each run contains a portion of text from the paragraph\n",
    "run = runs[2]\n",
    "run.text"
   ]
  },
  {
   "cell_type": "markdown",
   "metadata": {},
   "source": [
    "### Run style\n",
    "\n",
    "- Each run contains style information such as bold, italic, or underline. \n",
    "- The style information will be True, False, or None\n",
    "- A value of None indicates the run has no directly-applied style value and so will inherit the value of its containing paragraph."
   ]
  },
  {
   "cell_type": "code",
   "execution_count": null,
   "metadata": {
    "collapsed": true
   },
   "outputs": [],
   "source": [
    "# view the methods and attributes of a run\n",
    "print(dir(run))"
   ]
  },
  {
   "cell_type": "code",
   "execution_count": null,
   "metadata": {
    "collapsed": true
   },
   "outputs": [],
   "source": [
    "# font size\n",
    "run.font.size.pt"
   ]
  },
  {
   "cell_type": "code",
   "execution_count": null,
   "metadata": {
    "collapsed": true
   },
   "outputs": [],
   "source": [
    "print(run.bold)"
   ]
  },
  {
   "cell_type": "code",
   "execution_count": null,
   "metadata": {
    "collapsed": true
   },
   "outputs": [],
   "source": [
    "print(run.italic)"
   ]
  },
  {
   "cell_type": "code",
   "execution_count": null,
   "metadata": {
    "collapsed": true
   },
   "outputs": [],
   "source": [
    "print(run.underline)"
   ]
  },
  {
   "cell_type": "code",
   "execution_count": null,
   "metadata": {
    "collapsed": true
   },
   "outputs": [],
   "source": [
    "# View all the run stlye \n",
    "[run.bold for run in runs]"
   ]
  },
  {
   "cell_type": "markdown",
   "metadata": {},
   "source": [
    "## Exercise"
   ]
  },
  {
   "cell_type": "markdown",
   "metadata": {},
   "source": [
    "#### Find all the bold runs\n",
    "\n",
    "- Iterate through all the runs in all the paragraphs to identify any run with a bold style applied.\n",
    "- Store all the bold text in a list named bold_text\n",
    "- Do not include empty strings (e.g. '') \n",
    "- print the first 10 items in bold_text"
   ]
  },
  {
   "cell_type": "code",
   "execution_count": null,
   "metadata": {
    "collapsed": true
   },
   "outputs": [],
   "source": [
    "# TODO\n"
   ]
  },
  {
   "cell_type": "markdown",
   "metadata": {},
   "source": [
    "### Create a function to determine if all runs in a paragraph are bold\n",
    "\n",
    "- Name the function is_bold\n",
    "- Return True if all runs (with text) in a paragraph are bold\n",
    "- Test the function by adding all the bold paragraphs to a list named bold_paragraphs\n",
    "- Print the first 10 paragraphs in bold_paragraphs"
   ]
  },
  {
   "cell_type": "code",
   "execution_count": null,
   "metadata": {
    "collapsed": true
   },
   "outputs": [],
   "source": [
    "# create the function is_bold\n",
    "def is_bold(paragraph):   \n",
    "    # TODO"
   ]
  },
  {
   "cell_type": "code",
   "execution_count": null,
   "metadata": {
    "collapsed": true
   },
   "outputs": [],
   "source": [
    "# test the is_bold function\n",
    "bold_paragraphs = []\n",
    "for paragraph in paragraphs:\n",
    "    if is_bold(paragraph):\n",
    "        bold_paragraphs.append(paragraph.text)\n",
    "\n",
    "bold_paragraphs[0:10]"
   ]
  },
  {
   "cell_type": "markdown",
   "metadata": {},
   "source": [
    "### Tables"
   ]
  },
  {
   "cell_type": "code",
   "execution_count": null,
   "metadata": {
    "collapsed": true
   },
   "outputs": [],
   "source": [
    "# identify all document tables\n",
    "tables = doc.tables"
   ]
  },
  {
   "cell_type": "code",
   "execution_count": null,
   "metadata": {
    "collapsed": true
   },
   "outputs": [],
   "source": [
    "# view a few table objects\n",
    "tables[0:5]"
   ]
  },
  {
   "cell_type": "code",
   "execution_count": null,
   "metadata": {
    "collapsed": true
   },
   "outputs": [],
   "source": [
    "# count the document tables\n",
    "len(tables)"
   ]
  },
  {
   "cell_type": "code",
   "execution_count": null,
   "metadata": {
    "collapsed": true
   },
   "outputs": [],
   "source": [
    "# view the methods and attributes of a table\n",
    "print(dir(tables[0]))"
   ]
  },
  {
   "cell_type": "code",
   "execution_count": null,
   "metadata": {
    "collapsed": true
   },
   "outputs": [],
   "source": [
    "# view the cells of a table\n",
    "\n",
    "table_cells = [cell.text.strip() for cell in tables[0]._cells if cell.text != '']\n",
    "table_cells[0:10]"
   ]
  },
  {
   "cell_type": "markdown",
   "metadata": {},
   "source": [
    "### Core Properties"
   ]
  },
  {
   "cell_type": "code",
   "execution_count": null,
   "metadata": {
    "collapsed": true
   },
   "outputs": [],
   "source": [
    "print(dir(doc.core_properties))"
   ]
  },
  {
   "cell_type": "code",
   "execution_count": null,
   "metadata": {
    "collapsed": true
   },
   "outputs": [],
   "source": [
    "doc.core_properties.title"
   ]
  },
  {
   "cell_type": "code",
   "execution_count": null,
   "metadata": {
    "collapsed": true
   },
   "outputs": [],
   "source": [
    "doc.core_properties.subject"
   ]
  },
  {
   "cell_type": "code",
   "execution_count": null,
   "metadata": {
    "collapsed": true
   },
   "outputs": [],
   "source": [
    "doc.core_properties.author"
   ]
  },
  {
   "cell_type": "code",
   "execution_count": null,
   "metadata": {
    "collapsed": true
   },
   "outputs": [],
   "source": [
    "doc.core_properties.created"
   ]
  },
  {
   "cell_type": "code",
   "execution_count": null,
   "metadata": {
    "collapsed": true
   },
   "outputs": [],
   "source": [
    "doc.core_properties.revision"
   ]
  },
  {
   "cell_type": "markdown",
   "metadata": {},
   "source": [
    "## Explore docx xml\n",
    "Every word document is a zip of xml files. To test this, change the extension of any word file from .docx to .xml. \n",
    "\n",
    "Inside each zip, a directory named word contains document.xml. This file contains all of the xml for the word document.\n",
    "\n",
    "To open the zip we use the package zipfile"
   ]
  },
  {
   "cell_type": "code",
   "execution_count": null,
   "metadata": {
    "collapsed": true
   },
   "outputs": [],
   "source": [
    "XML_PATH"
   ]
  },
  {
   "cell_type": "markdown",
   "metadata": {},
   "source": [
    "### zipfile\n",
    "\n",
    "ZipFile - The class for reading and writing ZIP files\n",
    "read - Returns the bytes content from a zipfile"
   ]
  },
  {
   "cell_type": "code",
   "execution_count": null,
   "metadata": {
    "collapsed": true
   },
   "outputs": [],
   "source": [
    "sqlalchemy_url = 'https://docs.python.org/2/library/zipfile.html#zipfile-objects'\n",
    "iframe = '<iframe src={} width=1100 height=300></iframe>'.format(sqlalchemy_url)\n",
    "HTML(iframe)"
   ]
  },
  {
   "cell_type": "code",
   "execution_count": null,
   "metadata": {
    "collapsed": true
   },
   "outputs": [],
   "source": [
    "import zipfile\n",
    "\n",
    "zipf = zipfile.ZipFile(XML_PATH, 'r')"
   ]
  },
  {
   "cell_type": "code",
   "execution_count": null,
   "metadata": {
    "collapsed": true
   },
   "outputs": [],
   "source": [
    "for f in zipf.filelist:\n",
    "    print(f.filename)"
   ]
  },
  {
   "cell_type": "code",
   "execution_count": null,
   "metadata": {
    "collapsed": true
   },
   "outputs": [],
   "source": [
    "xml_content = zipf.read('word/document.xml')"
   ]
  },
  {
   "cell_type": "code",
   "execution_count": null,
   "metadata": {
    "collapsed": true
   },
   "outputs": [],
   "source": [
    "from bs4 import BeautifulSoup\n",
    "\n",
    "b = BeautifulSoup(xml_content, 'lxml')"
   ]
  },
  {
   "cell_type": "code",
   "execution_count": null,
   "metadata": {
    "collapsed": true
   },
   "outputs": [],
   "source": [
    "# view the xml from a short document with one heading and one sentence\n",
    "for word in b.find('w:body'):\n",
    "    print(word)\n",
    "    print()"
   ]
  },
  {
   "cell_type": "markdown",
   "metadata": {},
   "source": [
    "### docx XML tag definitions\n",
    "- < w:body > - contains the document paragraphs\n",
    "- < w:p > - Document paragraph\n",
    "- < w:pstyle > Document Style (e.g. Header 1)\n",
    "- < w:t > text in a paragraph or run\n",
    "- < w:bookmarkstart > defines a bookmark, such as a link in a table of contents\n",
    "- < w:r > - Document runs. Every time the style in a paragraph changes, for instance a bold or underline term, a new run is added. Each paragraph may contain multiple runs.\n"
   ]
  },
  {
   "cell_type": "code",
   "execution_count": null,
   "metadata": {
    "collapsed": true
   },
   "outputs": [],
   "source": [
    "# view the lesson directory - notice there is no 'word' directory\n",
    "%ls"
   ]
  },
  {
   "cell_type": "code",
   "execution_count": null,
   "metadata": {
    "collapsed": true
   },
   "outputs": [],
   "source": [
    "# Extract a member from the archive to the current working directory\n",
    "zipf.extract('word/document.xml')"
   ]
  },
  {
   "cell_type": "code",
   "execution_count": null,
   "metadata": {
    "collapsed": true
   },
   "outputs": [],
   "source": [
    "# view the lesson3 directory with a 'word' directory\n",
    "%ls"
   ]
  },
  {
   "cell_type": "markdown",
   "metadata": {},
   "source": [
    "### Exercise\n",
    "\n",
    "In this exercise, we will search through several Oracle annual reports to find selected text throughout all the documents without needing to extract the files from the zip manually. "
   ]
  },
  {
   "cell_type": "code",
   "execution_count": null,
   "metadata": {
    "collapsed": true
   },
   "outputs": [],
   "source": [
    "EXAMPLE_ZIP"
   ]
  },
  {
   "cell_type": "code",
   "execution_count": null,
   "metadata": {
    "collapsed": true
   },
   "outputs": [],
   "source": [
    "# use zipfile to read the EXAMPLE_ZIP\n"
   ]
  },
  {
   "cell_type": "code",
   "execution_count": null,
   "metadata": {
    "collapsed": true
   },
   "outputs": [],
   "source": [
    "# How many documents are in the provided zip?\n"
   ]
  },
  {
   "cell_type": "code",
   "execution_count": null,
   "metadata": {
    "collapsed": true
   },
   "outputs": [],
   "source": [
    "# view the filenames\n",
    "# use the .filename attribute on each file in zip.filelist\n"
   ]
  },
  {
   "cell_type": "code",
   "execution_count": null,
   "metadata": {
    "collapsed": true
   },
   "outputs": [],
   "source": [
    "# Find the five paragraphs scattered in all the documents in the zip\n",
    "# that speak about 'Financial Accounting Standards No. 109'\n",
    "\n",
    "# iterate through the filelist\n",
    "\n",
    "    # use zip.extract the file to the currect working directory\n",
    "\n",
    "    # open the document with docx\n",
    "    \n",
    "    # iterate through the paragraphs in the document\n",
    "    \n",
    "        # check which paragraphs contain 'Financial Accounting Standards No. 109'\n",
    "        \n",
    "            # print the paragraphs that meet the condition\n",
    "            "
   ]
  },
  {
   "cell_type": "markdown",
   "metadata": {},
   "source": [
    "# PDF Text Extraction"
   ]
  },
  {
   "cell_type": "markdown",
   "metadata": {},
   "source": [
    "##### subprocess - use python to interact with the command line\n",
    "\n",
    "\"The subprocess module allows you to spawn new processes, connect to their input/output/error pipes, and obtain their return codes\"\n",
    "\n",
    "**subprocess.check_output()**\n",
    "- Run command with arguments and return its output.\n",
    "- If the return code was non-zero it raises a CalledProcessError. The CalledProcessError object will have the return code in the returncode attribute and any output in the output attribute.\n",
    "\n",
    "**subprocess.call**\n",
    "- Run the command described by args. Wait for command to complete, then return the returncode attribute.\n",
    "\n",
    "SOURCE: https://docs.python.org/3/library/subprocess.html"
   ]
  },
  {
   "cell_type": "code",
   "execution_count": null,
   "metadata": {
    "collapsed": true
   },
   "outputs": [],
   "source": [
    "# run an ls from python\n",
    "import subprocess\n",
    "output = subprocess.check_output('dir', shell=True)\n",
    "output.split()"
   ]
  },
  {
   "cell_type": "code",
   "execution_count": null,
   "metadata": {
    "collapsed": true
   },
   "outputs": [],
   "source": [
    "# view example pdf in raw_data dir to extract text from using pdfminer.six\n",
    "output = subprocess.check_output(['dir','raw_data'], shell=True)\n",
    "output.split()"
   ]
  },
  {
   "cell_type": "markdown",
   "metadata": {},
   "source": [
    "### pdfminer.six\n",
    "\n",
    "##### Installation\n",
    "- conda install -c conda-forge pdfminer.six\n",
    "\n",
    "\"PDFMiner is a tool for extracting information from PDF documents. Unlike other PDF-related tools, it focuses entirely on getting and analyzing text data. PDFMiner allows one to obtain the exact location of text in a page, as well as other information such as fonts or lines. It includes a PDF converter that can transform PDF files into other text formats (such as HTML). It has an extensible PDF parser that can be used for other purposes than text analysis.\"\n",
    "\n",
    "\"The PDFMiner library excels at extracting data and coordinates from a PDF. In most cases, you can use the included command-line scripts to extract text and images (pdf2txt.py) or find objects and their coordinates (dumppdf.py). If you're dealing with a particularly nasty PDF and you need to get more detailed , you can import the package and use it as library.\n",
    "\n",
    "The pdf2txt.py command: \n",
    "- The package includes the pdf2txt.py command-line command, which you can use to extract text and images. The command supports many options and is very flexible. Some popular options are shown below. See the usage information for complete details.\n",
    "\n",
    "**pdf2txt.py [options] filename.pdf**\n",
    "\n",
    "Options:\n",
    "- o output file name\n",
    "- p comma-separated list of page numbers to extract\n",
    "- t output format (text/html/xml/tag[for Tagged PDFs])\n",
    "- O dirname (triggers extraction of images from PDF into directory)\n",
    "- P password\n",
    "\n",
    "Source: https://www.binpress.com/tutorial/manipulating-pdfs-with-python/167"
   ]
  },
  {
   "cell_type": "code",
   "execution_count": null,
   "metadata": {
    "collapsed": true
   },
   "outputs": [],
   "source": [
    "# add your username to read the local pdf\n",
    "username = 'ADD YOUR USERNAME'"
   ]
  },
  {
   "cell_type": "code",
   "execution_count": null,
   "metadata": {
    "collapsed": true
   },
   "outputs": [],
   "source": [
    "# extract the first three pages of the pdf, output to a .txt \n",
    "cmd = [\n",
    "    'python'\n",
    "  , r'C:\\Users\\{}\\AppData\\Local\\Continuum\\anaconda3\\Scripts\\pdf2txt.py'.format(username)  # pdfminer\n",
    "  , 'raw_data\\southwest-airlines-co_annual_report_2016.pdf '  # imput pdf\n",
    "  , '-o'  # output file name\n",
    "  , 'raw_data\\southwest_2016.txt'\n",
    "  , '-t'  # output format\n",
    "  , 'text'\n",
    "  , '-p'  # pages to extract, default is to extract all pages\n",
    "  , '1,2,3'\n",
    "]\n",
    "\n",
    "subprocess.call(cmd, shell=True) "
   ]
  },
  {
   "cell_type": "code",
   "execution_count": null,
   "metadata": {
    "collapsed": true
   },
   "outputs": [],
   "source": [
    "# check the raw_data dir for the extracted text from the pdf\n",
    "output = subprocess.check_output(['dir','raw_data'], shell=True)\n",
    "output.split()"
   ]
  },
  {
   "cell_type": "markdown",
   "metadata": {},
   "source": [
    "# Additional Resources for text extraction\n",
    "- PDF: https://github.com/jsvine/pdfplumber\n",
    "- OCR: https://pypi.org/project/pytesseract\n",
    "- Excel: https://openpyxl.readthedocs.io/en/stable/"
   ]
  }
 ],
 "metadata": {
  "kernelspec": {
   "display_name": "Python 3",
   "language": "python",
   "name": "python3"
  },
  "language_info": {
   "codemirror_mode": {
    "name": "ipython",
    "version": 3
   },
   "file_extension": ".py",
   "mimetype": "text/x-python",
   "name": "python",
   "nbconvert_exporter": "python",
   "pygments_lexer": "ipython3",
   "version": "3.6.3"
  }
 },
 "nbformat": 4,
 "nbformat_minor": 2
}
