{
 "cells": [
  {
   "cell_type": "markdown",
   "metadata": {},
   "source": [
    "# Phrase (collocation) Detection Solution\n",
    "\n",
    "###### Author: Alex Sherman | alsherman@deloitte.com"
   ]
  },
  {
   "cell_type": "markdown",
   "metadata": {},
   "source": [
    "#### Agenda\n",
    "1. Acronym replacement\n",
    "2. SpaCy POS phrases\n",
    "3. Gensim Phrases and Phraser"
   ]
  },
  {
   "cell_type": "code",
   "execution_count": 125,
   "metadata": {},
   "outputs": [],
   "source": [
    "import spacy\n",
    "import pandas as pd\n",
    "from sqlalchemy import create_engine\n",
    "from spacy.matcher import Matcher\n",
    "from spacy.matcher import PhraseMatcher\n",
    "from collections import defaultdict\n",
    "from spacy.lang.en.stop_words import STOP_WORDS\n",
    "from IPython.core.display import display, HTML\n",
    "from configparser import ConfigParser, ExtendedInterpolation"
   ]
  },
  {
   "cell_type": "code",
   "execution_count": 126,
   "metadata": {},
   "outputs": [],
   "source": [
    "# configuration for data, acronyms, and gensim paths\n",
    "config = ConfigParser(interpolation=ExtendedInterpolation())\n",
    "config.read('../../config.ini')\n",
    "\n",
    "DB_PATH = config['DATABASES']['PROJECT_DB_PATH']\n",
    "AIRLINE_ACRONYMS_FILEPATH = config['NLP']['AIRLINE_ACRONYMS_FILEPATH']\n",
    "AIRLINE_MATCHED_TEXT_PATH = config['NLP']['AIRLINE_MATCHED_TEXT_PATH']\n",
    "AIRLINE_CLEANED_TEXT_PATH = config['NLP']['AIRLINE_CLEANED_TEXT_PATH']\n",
    "GENSIM_DICTIONARY_PATH = config['NLP']['GENSIM_DICTIONARY_PATH']\n",
    "GENSIM_CORPUS_PATH = config['NLP']['GENSIM_CORPUS_PATH']"
   ]
  },
  {
   "cell_type": "markdown",
   "metadata": {},
   "source": [
    "#### Load data on airline fees"
   ]
  },
  {
   "cell_type": "code",
   "execution_count": 127,
   "metadata": {},
   "outputs": [
    {
     "data": {
      "text/html": [
       "<div>\n",
       "<style scoped>\n",
       "    .dataframe tbody tr th:only-of-type {\n",
       "        vertical-align: middle;\n",
       "    }\n",
       "\n",
       "    .dataframe tbody tr th {\n",
       "        vertical-align: top;\n",
       "    }\n",
       "\n",
       "    .dataframe thead th {\n",
       "        text-align: right;\n",
       "    }\n",
       "</style>\n",
       "<table border=\"1\" class=\"dataframe\">\n",
       "  <thead>\n",
       "    <tr style=\"text-align: right;\">\n",
       "      <th></th>\n",
       "      <th>section_id</th>\n",
       "      <th>filename</th>\n",
       "      <th>section_name</th>\n",
       "      <th>section_text</th>\n",
       "      <th>criteria</th>\n",
       "      <th>section_length</th>\n",
       "    </tr>\n",
       "  </thead>\n",
       "  <tbody>\n",
       "    <tr>\n",
       "      <th>9</th>\n",
       "      <td>10</td>\n",
       "      <td>southwest-airlines-co_annual_report_1994.docx</td>\n",
       "      <td>DEPARTMENT OF TRANSPORTATION RANKINGS FOR 1994...</td>\n",
       "      <td>A multitude of challenges faced the People of ...</td>\n",
       "      <td>&lt;function heading at 0x000001D4AA492EA0&gt;</td>\n",
       "      <td>2849</td>\n",
       "    </tr>\n",
       "    <tr>\n",
       "      <th>15</th>\n",
       "      <td>16</td>\n",
       "      <td>southwest-airlines-co_annual_report_1994.docx</td>\n",
       "      <td>RESULTS OF OPERATIONS</td>\n",
       "      <td>1994 COMPARED WITH 1993 The Company's consolid...</td>\n",
       "      <td>&lt;function heading at 0x000001D4AA492EA0&gt;</td>\n",
       "      <td>13806</td>\n",
       "    </tr>\n",
       "    <tr>\n",
       "      <th>23</th>\n",
       "      <td>24</td>\n",
       "      <td>southwest-airlines-co_annual_report_1994.docx</td>\n",
       "      <td>ACQUISITION</td>\n",
       "      <td>On December 31, 1993, Southwest exchanged 3,57...</td>\n",
       "      <td>&lt;function heading at 0x000001D4AA492EA0&gt;</td>\n",
       "      <td>2141</td>\n",
       "    </tr>\n",
       "    <tr>\n",
       "      <th>26</th>\n",
       "      <td>27</td>\n",
       "      <td>southwest-airlines-co_annual_report_1994.docx</td>\n",
       "      <td>ACCRUED LIABILITIES (IN THOUSANDS) LONG-TERM D...</td>\n",
       "      <td>On March 1, 1993, the Company redeemed the $10...</td>\n",
       "      <td>&lt;function heading at 0x000001D4AA492EA0&gt;</td>\n",
       "      <td>1855</td>\n",
       "    </tr>\n",
       "    <tr>\n",
       "      <th>77</th>\n",
       "      <td>78</td>\n",
       "      <td>southwest-airlines-co_annual_report_1995.docx</td>\n",
       "      <td>SECRET NUMBER 1 STICK TO WHAT YOU’RE GOOD AT.</td>\n",
       "      <td>Since 1971, Southwest Airlines has offered sin...</td>\n",
       "      <td>&lt;function style at 0x000001D4AA49F048&gt;</td>\n",
       "      <td>2566</td>\n",
       "    </tr>\n",
       "  </tbody>\n",
       "</table>\n",
       "</div>"
      ],
      "text/plain": [
       "    section_id                                       filename  \\\n",
       "9           10  southwest-airlines-co_annual_report_1994.docx   \n",
       "15          16  southwest-airlines-co_annual_report_1994.docx   \n",
       "23          24  southwest-airlines-co_annual_report_1994.docx   \n",
       "26          27  southwest-airlines-co_annual_report_1994.docx   \n",
       "77          78  southwest-airlines-co_annual_report_1995.docx   \n",
       "\n",
       "                                         section_name  \\\n",
       "9   DEPARTMENT OF TRANSPORTATION RANKINGS FOR 1994...   \n",
       "15                              RESULTS OF OPERATIONS   \n",
       "23                                        ACQUISITION   \n",
       "26  ACCRUED LIABILITIES (IN THOUSANDS) LONG-TERM D...   \n",
       "77      SECRET NUMBER 1 STICK TO WHAT YOU’RE GOOD AT.   \n",
       "\n",
       "                                         section_text  \\\n",
       "9   A multitude of challenges faced the People of ...   \n",
       "15  1994 COMPARED WITH 1993 The Company's consolid...   \n",
       "23  On December 31, 1993, Southwest exchanged 3,57...   \n",
       "26  On March 1, 1993, the Company redeemed the $10...   \n",
       "77  Since 1971, Southwest Airlines has offered sin...   \n",
       "\n",
       "                                    criteria  section_length  \n",
       "9   <function heading at 0x000001D4AA492EA0>            2849  \n",
       "15  <function heading at 0x000001D4AA492EA0>           13806  \n",
       "23  <function heading at 0x000001D4AA492EA0>            2141  \n",
       "26  <function heading at 0x000001D4AA492EA0>            1855  \n",
       "77    <function style at 0x000001D4AA49F048>            2566  "
      ]
     },
     "execution_count": 127,
     "metadata": {},
     "output_type": "execute_result"
    }
   ],
   "source": [
    "engine = create_engine(DB_PATH)\n",
    "df = pd.read_sql(\"SELECT * FROM Sections\", con=engine)\n",
    "\n",
    "# filter to relevant sections\n",
    "df = df[df['section_text'].str.contains('fee')]\n",
    "df.head()"
   ]
  },
  {
   "cell_type": "code",
   "execution_count": 128,
   "metadata": {},
   "outputs": [
    {
     "data": {
      "text/plain": [
       "'A multitude of challenges faced the People of Southwest Airlines in 1994. The mark of a true champion is the ability to “rise to the occasion” and meet challenges. We believe our Employees showed their true Southwest Spirit in 1994, accomplishing three- or four-fold what a normal year would  bring.'"
      ]
     },
     "execution_count": 128,
     "metadata": {},
     "output_type": "execute_result"
    }
   ],
   "source": [
    "# store section matches in list\n",
    "text = [section for section in df['section_text'].values]\n",
    "\n",
    "# review first sentence of a section match\n",
    "text[0][0:299]"
   ]
  },
  {
   "cell_type": "markdown",
   "metadata": {},
   "source": [
    "### SpaCy - Preprocessing"
   ]
  },
  {
   "cell_type": "code",
   "execution_count": 129,
   "metadata": {},
   "outputs": [
    {
     "name": "stdout",
     "output_type": "stream",
     "text": [
      "Wall time: 1min 15s\n"
     ]
    }
   ],
   "source": [
    "%%time\n",
    "\n",
    "# load spacy nlp model\n",
    "# use 'en' if you don't have the lg model\n",
    "nlp = spacy.load('en_core_web_lg')"
   ]
  },
  {
   "cell_type": "markdown",
   "metadata": {},
   "source": [
    "##### Text Preprocessing - Acronyms\n",
    "\n",
    "SOURCE: https://www.faa.gov/airports/resources/acronyms/"
   ]
  },
  {
   "cell_type": "code",
   "execution_count": 130,
   "metadata": {},
   "outputs": [
    {
     "data": {
      "text/html": [
       "<div>\n",
       "<style scoped>\n",
       "    .dataframe tbody tr th:only-of-type {\n",
       "        vertical-align: middle;\n",
       "    }\n",
       "\n",
       "    .dataframe tbody tr th {\n",
       "        vertical-align: top;\n",
       "    }\n",
       "\n",
       "    .dataframe thead th {\n",
       "        text-align: right;\n",
       "    }\n",
       "</style>\n",
       "<table border=\"1\" class=\"dataframe\">\n",
       "  <thead>\n",
       "    <tr style=\"text-align: right;\">\n",
       "      <th></th>\n",
       "      <th>Acronym</th>\n",
       "      <th>Definition</th>\n",
       "    </tr>\n",
       "  </thead>\n",
       "  <tbody>\n",
       "    <tr>\n",
       "      <th>0</th>\n",
       "      <td>A/C</td>\n",
       "      <td>Aircraft</td>\n",
       "    </tr>\n",
       "    <tr>\n",
       "      <th>1</th>\n",
       "      <td>A/G</td>\n",
       "      <td>Air to Ground</td>\n",
       "    </tr>\n",
       "    <tr>\n",
       "      <th>2</th>\n",
       "      <td>A/H</td>\n",
       "      <td>Altitude/Height</td>\n",
       "    </tr>\n",
       "    <tr>\n",
       "      <th>3</th>\n",
       "      <td>AAC</td>\n",
       "      <td>Mike Monroney Aeronautical Center</td>\n",
       "    </tr>\n",
       "    <tr>\n",
       "      <th>4</th>\n",
       "      <td>AAF</td>\n",
       "      <td>Army Air Field</td>\n",
       "    </tr>\n",
       "  </tbody>\n",
       "</table>\n",
       "</div>"
      ],
      "text/plain": [
       "  Acronym                          Definition\n",
       "0     A/C                            Aircraft\n",
       "1     A/G                       Air to Ground\n",
       "2     A/H                     Altitude/Height\n",
       "3     AAC   Mike Monroney Aeronautical Center\n",
       "4     AAF                      Army Air Field"
      ]
     },
     "execution_count": 130,
     "metadata": {},
     "output_type": "execute_result"
    }
   ],
   "source": [
    "# read csv with airline industry acronyms\n",
    "airline_acronyms = pd.read_csv(AIRLINE_ACRONYMS_FILEPATH)\n",
    "airline_acronyms.head()"
   ]
  },
  {
   "cell_type": "markdown",
   "metadata": {},
   "source": [
    "##### Exercise\n",
    "\n",
    "**Curate the acronyms:**\n",
    "\n",
    "1. Convert the acronyms into a dict\n",
    "2. Clean acronyms and definitions (replace spaces with underscores, strip text, lowercase)\n",
    "3. Remove any acronyms that are < two characters (e.g. 'at' == 'air traffic')"
   ]
  },
  {
   "cell_type": "code",
   "execution_count": 131,
   "metadata": {},
   "outputs": [
    {
     "data": {
      "text/plain": [
       "[('fire', 'fire_station'),\n",
       " ('noc', 'notice_of_completion'),\n",
       " ('rclr', 'rcl_repeater'),\n",
       " ('fsdps', 'flight_service_data_processing_system'),\n",
       " ('fdp', 'flight_data_processing')]"
      ]
     },
     "execution_count": 131,
     "metadata": {},
     "output_type": "execute_result"
    }
   ],
   "source": [
    "acronyms = {}\n",
    "\n",
    "for ind, row in airline_acronyms.iterrows():\n",
    "    # get the acronym and convert it to lowercase\n",
    "    acronym = row['Acronym'].lower()\n",
    "    \n",
    "    # clean acronym definition: \n",
    "    # lower case, strip excess space, replace spaces with underscores to create a single term\n",
    "    definition = row['Definition'].lower().strip().replace(' ','_')\n",
    "    \n",
    "    # add acronyms/definitions pairs to the acronyms dict\n",
    "    # ignore two character acronyms as they often match actual words\n",
    "    # e.g. 'at' == 'air traffic'\n",
    "    if len(acronym) > 2:\n",
    "        acronyms[acronym] = definition\n",
    "\n",
    "# view the first few acronyms\n",
    "list(acronyms.items())[0:5]  # convert to list as dict is not subscriptable"
   ]
  },
  {
   "cell_type": "markdown",
   "metadata": {},
   "source": [
    "##### Identify acronyms that exist in text\n",
    "WARNING SLOW!"
   ]
  },
  {
   "cell_type": "code",
   "execution_count": 132,
   "metadata": {},
   "outputs": [
    {
     "name": "stdout",
     "output_type": "stream",
     "text": [
      "('cat', 'clear')\n",
      "('did', 'direct_inward_dial')\n",
      "('ata', 'air_transport_association_of_america')\n",
      "('asm', 'available_seat_mile')\n",
      "('gps', 'global_positioning_system')\n",
      "('moa', 'military_operations_area')\n",
      "('rnav', 'area_navigation')\n",
      "('dot', 'department_of_transportation')\n",
      "('grade', 'graphical_airspace_design_environment')\n",
      "('tops', 'telecommunications_ordering_and_pricing_system_(gsa_software_tool)')\n",
      "('asr', 'airport_surveillance_radar')\n",
      "('par', 'preferential_arrival_route')\n",
      "('faa', 'federal_aviation_administration')\n",
      "('app', 'approach')\n",
      "('soc', 'service_oversight_center')\n",
      "('rnp', 'required_navigation_performance')\n",
      "('aid', 'airport_information_desk')\n",
      "('mou', 'memorandum_of_understanding')\n",
      "('self', 'simplified_short_approach_lighting_system_with_sequenced_flashing_lights')\n",
      "('tsa', 'taxiway_safety_area')\n",
      "('far', 'federal_aviation_regulation')\n",
      "('basic', 'basic_contract_observing_station')\n",
      "Wall time: 7min 36s\n"
     ]
    }
   ],
   "source": [
    "%%time\n",
    "\n",
    "if 1 == 0:\n",
    "    # review the acronyms\n",
    "    acronym_matches = []\n",
    "\n",
    "    # create a nlp pipe to iterate through the text\n",
    "    for doc in nlp.pipe(text, disable=['tagger','ner']):    \n",
    "        # iterate through each word in the sentence\n",
    "        for token in doc:\n",
    "            token = token.text.lower()\n",
    "            # check if token is an acronym\n",
    "            # add matches (acronym and definition) to acronym_matches\n",
    "            if token in acronyms:\n",
    "                acronym_matches.append((token, acronyms[token]))\n",
    "\n",
    "    # review all matching acronyms      \n",
    "    for match in set(acronym_matches):\n",
    "        print(match)"
   ]
  },
  {
   "cell_type": "code",
   "execution_count": 133,
   "metadata": {},
   "outputs": [],
   "source": [
    "# update acronyms list to remove ambiguous acronyms\n",
    "acronyms_to_remove = ['cat','app','grade','self','basic','did','far']\n",
    "for term in acronyms_to_remove:\n",
    "    acronyms.pop(term)"
   ]
  },
  {
   "cell_type": "markdown",
   "metadata": {},
   "source": [
    "###### collect sentences about fees for phrase model"
   ]
  },
  {
   "cell_type": "code",
   "execution_count": 134,
   "metadata": {},
   "outputs": [],
   "source": [
    "def collect_phrase_model_sents(matcher, doc, i, matches):\n",
    "    # identify matching spans (phrases)\n",
    "    match_id, start, end = matches[i]\n",
    "    span = doc[start:end]\n",
    "    \n",
    "    # keep only words, lemmatize tokens, remove punctuation\n",
    "    sent = [str(token.lemma_).lower() \n",
    "            for token in span.sent if token.is_alpha]\n",
    "    \n",
    "    # replace acronyms\n",
    "    sent = [acronyms[token] if token in acronyms else token \n",
    "            for token in sent]\n",
    "    \n",
    "    # collect matching (cleaned) sents\n",
    "    matched_sents.append(sent)"
   ]
  },
  {
   "cell_type": "markdown",
   "metadata": {},
   "source": [
    "##### match sentences with the word fee or fees\n",
    "\n",
    "WARNING SLOW!"
   ]
  },
  {
   "cell_type": "code",
   "execution_count": 135,
   "metadata": {},
   "outputs": [
    {
     "name": "stdout",
     "output_type": "stream",
     "text": [
      "Wall time: 7min 8s\n"
     ]
    }
   ],
   "source": [
    "%%time \n",
    "\n",
    "if 1 == 0:\n",
    "    # match sentences with the word fee or fees\n",
    "    matched_sents = []\n",
    "    pattern = [[{'LOWER': 'fee'}], [{'LOWER': 'fees'}]]\n",
    "\n",
    "    matcher = Matcher(nlp.vocab)\n",
    "    \n",
    "    # use *patterns to add more than one pattern at once\n",
    "    matcher.add('fees', collect_phrase_model_sents, *pattern)\n",
    "\n",
    "    for doc in nlp.pipe(text, disable=['tagger','ner']):    \n",
    "        matcher(doc)"
   ]
  },
  {
   "cell_type": "code",
   "execution_count": 137,
   "metadata": {},
   "outputs": [
    {
     "name": "stdout",
     "output_type": "stream",
     "text": [
      "Number of matches: 454 \n",
      "\n",
      "Example Match:\n",
      "['rather', 'than', 'pay', 'the', 'fee', 'demand', 'by', 'this', 'crss', 'we', 'respond', 'quickly', 'with', 'our', 'own', 'travel', 'agency', 'solution', 'direct', 'access', 'and', 'ticket', 'for', 'the', 'large', 'agency', 'swat', 'overnight', 'delivery', 'of', 'southwest', 'produce', 'ticket', 'for', 'approximately', 'large', 'travel', 'agency', 'improve', 'access', 'to', 'ticket', 'by', 'mail', 'for', 'direct', 'customers', 'by', 'reduce', 'the', 'time', 'limit', 'from', 'seven', 'day', 'out', 'from', 'the', 'date', 'of', 'travel', 'to', 'three', 'day', 'and', 'ticketless', 'travel', 'which', 'eliminate', 'the', 'need', 'to', 'print', 'a', 'paper', 'ticket', 'altogether']\n"
     ]
    }
   ],
   "source": [
    "print('Number of matches: {} \\n'.format(len(matched_sents)))\n",
    "\n",
    "print('Example Match:')\n",
    "print(matched_sents[0])"
   ]
  },
  {
   "cell_type": "markdown",
   "metadata": {},
   "source": [
    "##### Export matched text to avoid repeating processing"
   ]
  },
  {
   "cell_type": "code",
   "execution_count": 138,
   "metadata": {},
   "outputs": [],
   "source": [
    "# uncomment below to write the matched text to a .txt file for later use \n",
    "\n",
    "# with open(AIRLINE_MATCHED_TEXT_PATH, 'w') as f:\n",
    "#    for line in matched_sents:\n",
    "#        line = ' '.join(line) + '\\n'\n",
    "#        line = line.encode('ascii', errors='ignore').decode('ascii') \n",
    "#        f.write(line)"
   ]
  },
  {
   "cell_type": "code",
   "execution_count": 140,
   "metadata": {},
   "outputs": [],
   "source": [
    "# read matched text\n",
    "with open(AIRLINE_MATCHED_TEXT_PATH, 'r') as f:\n",
    "    matched_sents_full = [line for line in f.readlines()]\n",
    "    matched_sents = [line.split() for line in matched_sents_full]"
   ]
  },
  {
   "cell_type": "code",
   "execution_count": 141,
   "metadata": {},
   "outputs": [
    {
     "data": {
      "text/html": [
       "<div>\n",
       "<style scoped>\n",
       "    .dataframe tbody tr th:only-of-type {\n",
       "        vertical-align: middle;\n",
       "    }\n",
       "\n",
       "    .dataframe tbody tr th {\n",
       "        vertical-align: top;\n",
       "    }\n",
       "\n",
       "    .dataframe thead th {\n",
       "        text-align: right;\n",
       "    }\n",
       "</style>\n",
       "<table border=\"1\" class=\"dataframe\">\n",
       "  <thead>\n",
       "    <tr style=\"text-align: right;\">\n",
       "      <th></th>\n",
       "      <th>sentences</th>\n",
       "    </tr>\n",
       "  </thead>\n",
       "  <tbody>\n",
       "    <tr>\n",
       "      <th>0</th>\n",
       "      <td>rather than pay the fee demand by this crss we...</td>\n",
       "    </tr>\n",
       "    <tr>\n",
       "      <th>1</th>\n",
       "      <td>these expense include million of various profe...</td>\n",
       "    </tr>\n",
       "    <tr>\n",
       "      <th>2</th>\n",
       "      <td>included in this one time cost result from the...</td>\n",
       "    </tr>\n",
       "    <tr>\n",
       "      <th>3</th>\n",
       "      <td>the commitment fee be per annum\\n</td>\n",
       "    </tr>\n",
       "    <tr>\n",
       "      <th>5</th>\n",
       "      <td>landing fee and other rental per available_sea...</td>\n",
       "    </tr>\n",
       "  </tbody>\n",
       "</table>\n",
       "</div>"
      ],
      "text/plain": [
       "                                           sentences\n",
       "0  rather than pay the fee demand by this crss we...\n",
       "1  these expense include million of various profe...\n",
       "2  included in this one time cost result from the...\n",
       "3                  the commitment fee be per annum\\n\n",
       "5  landing fee and other rental per available_sea..."
      ]
     },
     "execution_count": 141,
     "metadata": {},
     "output_type": "execute_result"
    }
   ],
   "source": [
    "# store all matched sentences in a dataframe\n",
    "matches_df = pd.DataFrame(matched_sents_full, columns=['sentences'])\n",
    "\n",
    "# remove duplicates\n",
    "matches_df = matches_df.drop_duplicates()\n",
    "\n",
    "matches_df.head()"
   ]
  },
  {
   "cell_type": "markdown",
   "metadata": {},
   "source": [
    "### Use SpaCy part of speech (POS) to create phrases"
   ]
  },
  {
   "cell_type": "code",
   "execution_count": 142,
   "metadata": {},
   "outputs": [
    {
     "data": {
      "text/plain": [
       "'rather than pay the fee demand by this crss we respond quickly with our own travel agency solution direct access and ticket for the large agency swat overnight delivery of southwest produce ticket for approximately large travel agency improve access to ticket by mail for direct customers by reduce the time limit from seven day out from the date of travel to three day and ticketless travel which eliminate the need to print a paper ticket altogether'"
      ]
     },
     "execution_count": 142,
     "metadata": {},
     "output_type": "execute_result"
    }
   ],
   "source": [
    "# combine the matched sentence tokens and parse it with SpaCy\n",
    "text = ' '.join(matched_sents[0])\n",
    "text"
   ]
  },
  {
   "cell_type": "markdown",
   "metadata": {},
   "source": [
    "##### Determine which NLP components can be disabled"
   ]
  },
  {
   "cell_type": "code",
   "execution_count": 26,
   "metadata": {},
   "outputs": [],
   "source": [
    "def view_pos(doc, n_tokens=5):\n",
    "    \"\"\" print SpaCy POS information about each token in a provided document \"\"\"\n",
    "    print('{:15} | {:10} | {:10} | {:30}'.format('TOKEN','POS','DEP_','LEFTS'))\n",
    "    for token in doc[0:n_tokens]:\n",
    "        print('{:15} | {:10} | {:10} | {:30}'.format(\n",
    "            token.text, token.head.pos_,token.dep_, str([t.text for t in token.lefts])))"
   ]
  },
  {
   "cell_type": "code",
   "execution_count": 27,
   "metadata": {},
   "outputs": [
    {
     "name": "stdout",
     "output_type": "stream",
     "text": [
      "TOKEN           | POS        | DEP_       | LEFTS                         \n",
      "rather          | ADP        | advmod     | []                            \n",
      "than            | VERB       | advmod     | ['rather']                    \n",
      "pay             | VERB       | ROOT       | ['than']                      \n",
      "the             | NOUN       | det        | []                            \n",
      "fee             | NOUN       | compound   | []                            \n"
     ]
    }
   ],
   "source": [
    "# observe which part of speech (pos) attributes are disabled by named entity recognition (ner)\n",
    "pos_doc = nlp(text, disable=['ner'])\n",
    "view_pos(pos_doc)"
   ]
  },
  {
   "cell_type": "code",
   "execution_count": 28,
   "metadata": {},
   "outputs": [
    {
     "name": "stdout",
     "output_type": "stream",
     "text": [
      "TOKEN           | POS        | DEP_       | LEFTS                         \n",
      "rather          | ADV        |            | []                            \n",
      "than            | ADP        |            | []                            \n",
      "pay             | VERB       |            | []                            \n",
      "the             | DET        |            | []                            \n",
      "fee             | NOUN       |            | []                            \n"
     ]
    }
   ],
   "source": [
    "# observe which part of speech (pos) attributes are disabled by parser\n",
    "pos_doc = nlp(text, disable=['ner','parser'])\n",
    "view_pos(pos_doc)"
   ]
  },
  {
   "cell_type": "code",
   "execution_count": 29,
   "metadata": {},
   "outputs": [
    {
     "name": "stdout",
     "output_type": "stream",
     "text": [
      "TOKEN           | POS        | DEP_       | LEFTS                         \n",
      "rather          |            | advmod     | []                            \n",
      "than            |            | advmod     | ['rather']                    \n",
      "pay             |            | ROOT       | ['than']                      \n",
      "the             |            | det        | []                            \n",
      "fee             |            | compound   | []                            \n",
      "demand          |            | dobj       | ['the', 'fee']                \n",
      "by              |            | prep       | []                            \n",
      "this            |            | det        | []                            \n",
      "crss            |            | pobj       | ['this']                      \n",
      "we              |            | nsubj      | []                            \n"
     ]
    }
   ],
   "source": [
    "# observe which part of speech (pos) attributes are disabled by tagger\n",
    "pos_doc = nlp(text, disable=['ner','tagger'])\n",
    "view_pos(pos_doc, n_tokens=10)"
   ]
  },
  {
   "cell_type": "code",
   "execution_count": 30,
   "metadata": {},
   "outputs": [
    {
     "data": {
      "text/plain": [
       "'direct object'"
      ]
     },
     "execution_count": 30,
     "metadata": {},
     "output_type": "execute_result"
    }
   ],
   "source": [
    "# use explain to define any token.dep_ attributes\n",
    "spacy.explain('dobj')"
   ]
  },
  {
   "cell_type": "code",
   "execution_count": 19,
   "metadata": {},
   "outputs": [
    {
     "data": {
      "text/html": [
       "<iframe src=https://spacy.io/api/annotation#dependency-parsing width=1000 height=400></iframe>"
      ],
      "text/plain": [
       "<IPython.core.display.HTML object>"
      ]
     },
     "execution_count": 19,
     "metadata": {},
     "output_type": "execute_result"
    }
   ],
   "source": [
    "dependency_parsing_labels_url = 'https://spacy.io/api/annotation#dependency-parsing'\n",
    "iframe = '<iframe src={} width=1000 height=400></iframe>'.format(dependency_parsing_labels_url)\n",
    "HTML(iframe)"
   ]
  },
  {
   "cell_type": "markdown",
   "metadata": {},
   "source": [
    "##### Extract phrases by identifying tokens describing an object"
   ]
  },
  {
   "cell_type": "code",
   "execution_count": 41,
   "metadata": {},
   "outputs": [],
   "source": [
    "# add stop words to SpaCy\n",
    "# this enables the .is_stop attribute with common stop words\n",
    "from spacy.lang.en.stop_words import STOP_WORDS\n",
    "\n",
    "for word in STOP_WORDS:\n",
    "    lex = nlp.vocab[word]\n",
    "    lex.is_stop = True"
   ]
  },
  {
   "cell_type": "code",
   "execution_count": 44,
   "metadata": {},
   "outputs": [
    {
     "name": "stdout",
     "output_type": "stream",
     "text": [
      "paper_ticket agency_swat large_swat seven_day fee_demand produce_ticket large_agency agency_solution travel_agency time_limit direct_customer\n"
     ]
    }
   ],
   "source": [
    "def create_pos_phrases(doc):\n",
    "\n",
    "    phrases = [] \n",
    "\n",
    "    doc = nlp(doc, disable=['ner','tagger'])\n",
    "    for token in doc:\n",
    "        # find any objects (e.g. direct objects )\n",
    "        if 'obj' in token.dep_:\n",
    "            token_text = token.lemma_.lower()\n",
    "            \n",
    "            # find any dependent terms to the left of (preceeding) the object\n",
    "            # ignore dependent terms that are not stop words\n",
    "            for left_term in (t.text for t in token.lefts if t.is_stop is False):\n",
    "                # combine the dependent term and object, separated by an underscore\n",
    "                # e.g. travel agency ==> travel_agency\n",
    "                phrase = '{}_{}'.format(left_term,token_text)\n",
    "                phrases.append(phrase)\n",
    "    \n",
    "    # convert list of distinct phrases into a sentence\n",
    "    return ' '.join(set(phrases))\n",
    "\n",
    "print(create_pos_phrases(matched_sents_full[0]))"
   ]
  },
  {
   "cell_type": "code",
   "execution_count": 46,
   "metadata": {},
   "outputs": [
    {
     "name": "stdout",
     "output_type": "stream",
     "text": [
      "Wall time: 24.2 s\n"
     ]
    }
   ],
   "source": [
    "%%time\n",
    "\n",
    "# apply the custom function to every element in the dataframe\n",
    "matches_df['pos_phrases'] = matches_df.sentences.apply(create_pos_phrases)"
   ]
  },
  {
   "cell_type": "code",
   "execution_count": 47,
   "metadata": {},
   "outputs": [
    {
     "data": {
      "text/html": [
       "<div>\n",
       "<style scoped>\n",
       "    .dataframe tbody tr th:only-of-type {\n",
       "        vertical-align: middle;\n",
       "    }\n",
       "\n",
       "    .dataframe tbody tr th {\n",
       "        vertical-align: top;\n",
       "    }\n",
       "\n",
       "    .dataframe thead th {\n",
       "        text-align: right;\n",
       "    }\n",
       "</style>\n",
       "<table border=\"1\" class=\"dataframe\">\n",
       "  <thead>\n",
       "    <tr style=\"text-align: right;\">\n",
       "      <th></th>\n",
       "      <th>sentences</th>\n",
       "      <th>pos_phrases</th>\n",
       "    </tr>\n",
       "  </thead>\n",
       "  <tbody>\n",
       "    <tr>\n",
       "      <th>0</th>\n",
       "      <td>rather than pay the fee demand by this crss we...</td>\n",
       "      <td>paper_ticket agency_swat large_swat seven_day ...</td>\n",
       "    </tr>\n",
       "    <tr>\n",
       "      <th>1</th>\n",
       "      <td>these expense include million of various profe...</td>\n",
       "      <td>relocation_cost fee_million duplicate_property...</td>\n",
       "    </tr>\n",
       "    <tr>\n",
       "      <th>2</th>\n",
       "      <td>included in this one time cost result from the...</td>\n",
       "      <td>relocation_cost cost_result duplicate_property...</td>\n",
       "    </tr>\n",
       "    <tr>\n",
       "      <th>3</th>\n",
       "      <td>the commitment fee be per annum\\n</td>\n",
       "      <td></td>\n",
       "    </tr>\n",
       "    <tr>\n",
       "      <th>5</th>\n",
       "      <td>landing fee and other rental per available_sea...</td>\n",
       "      <td>airport_credit</td>\n",
       "    </tr>\n",
       "  </tbody>\n",
       "</table>\n",
       "</div>"
      ],
      "text/plain": [
       "                                           sentences  \\\n",
       "0  rather than pay the fee demand by this crss we...   \n",
       "1  these expense include million of various profe...   \n",
       "2  included in this one time cost result from the...   \n",
       "3                  the commitment fee be per annum\\n   \n",
       "5  landing fee and other rental per available_sea...   \n",
       "\n",
       "                                         pos_phrases  \n",
       "0  paper_ticket agency_swat large_swat seven_day ...  \n",
       "1  relocation_cost fee_million duplicate_property...  \n",
       "2  relocation_cost cost_result duplicate_property...  \n",
       "3                                                     \n",
       "5                                     airport_credit  "
      ]
     },
     "execution_count": 47,
     "metadata": {},
     "output_type": "execute_result"
    }
   ],
   "source": [
    "matches_df.head()"
   ]
  },
  {
   "cell_type": "markdown",
   "metadata": {},
   "source": [
    "##### Pandas Apply\n",
    "\n",
    "apply is an efficient and fast approach to 'apply' a function to every element in a row. applymap does the same to every element in the entire dataframe (e.g. convert all ints to floats)\n",
    "\n",
    "Example: https://chrisalbon.com/python/data_wrangling/pandas_apply_operations_to_dataframes/"
   ]
  },
  {
   "cell_type": "code",
   "execution_count": 37,
   "metadata": {},
   "outputs": [
    {
     "data": {
      "text/html": [
       "<div>\n",
       "<style scoped>\n",
       "    .dataframe tbody tr th:only-of-type {\n",
       "        vertical-align: middle;\n",
       "    }\n",
       "\n",
       "    .dataframe tbody tr th {\n",
       "        vertical-align: top;\n",
       "    }\n",
       "\n",
       "    .dataframe thead th {\n",
       "        text-align: right;\n",
       "    }\n",
       "</style>\n",
       "<table border=\"1\" class=\"dataframe\">\n",
       "  <thead>\n",
       "    <tr style=\"text-align: right;\">\n",
       "      <th></th>\n",
       "      <th>col1</th>\n",
       "      <th>col2</th>\n",
       "    </tr>\n",
       "  </thead>\n",
       "  <tbody>\n",
       "    <tr>\n",
       "      <th>0</th>\n",
       "      <td>0</td>\n",
       "      <td>3</td>\n",
       "    </tr>\n",
       "    <tr>\n",
       "      <th>1</th>\n",
       "      <td>1</td>\n",
       "      <td>4</td>\n",
       "    </tr>\n",
       "    <tr>\n",
       "      <th>2</th>\n",
       "      <td>2</td>\n",
       "      <td>5</td>\n",
       "    </tr>\n",
       "  </tbody>\n",
       "</table>\n",
       "</div>"
      ],
      "text/plain": [
       "   col1  col2\n",
       "0     0     3\n",
       "1     1     4\n",
       "2     2     5"
      ]
     },
     "execution_count": 37,
     "metadata": {},
     "output_type": "execute_result"
    }
   ],
   "source": [
    "# create a small dataframe with example data\n",
    "test_df = pd.DataFrame({'col1':range(0,3),'col2':range(3,6)})\n",
    "test_df"
   ]
  },
  {
   "cell_type": "code",
   "execution_count": 39,
   "metadata": {},
   "outputs": [
    {
     "data": {
      "text/plain": [
       "0    0.0\n",
       "1    1.0\n",
       "2    2.0\n",
       "Name: col1, dtype: float64"
      ]
     },
     "execution_count": 39,
     "metadata": {},
     "output_type": "execute_result"
    }
   ],
   "source": [
    "# apply a built-in function to each element in a column\n",
    "test_df['col1'].apply(float)"
   ]
  },
  {
   "cell_type": "code",
   "execution_count": 348,
   "metadata": {},
   "outputs": [
    {
     "data": {
      "text/plain": [
       "0    5\n",
       "1    6\n",
       "2    7\n",
       "Name: col1, dtype: int64"
      ]
     },
     "execution_count": 348,
     "metadata": {},
     "output_type": "execute_result"
    }
   ],
   "source": [
    "# apply a custom function to every element in a column\n",
    "def add_five(row):\n",
    "    return row + 5\n",
    "\n",
    "test_df['col1'].apply(add_five)"
   ]
  },
  {
   "cell_type": "code",
   "execution_count": 349,
   "metadata": {},
   "outputs": [
    {
     "data": {
      "text/plain": [
       "0    5\n",
       "1    6\n",
       "2    7\n",
       "Name: col1, dtype: int64"
      ]
     },
     "execution_count": 349,
     "metadata": {},
     "output_type": "execute_result"
    }
   ],
   "source": [
    "# apply an annonomous function to every element in a column\n",
    "test_df['col1'].apply(lambda x: x+5)"
   ]
  },
  {
   "cell_type": "code",
   "execution_count": 350,
   "metadata": {},
   "outputs": [
    {
     "data": {
      "text/html": [
       "<div>\n",
       "<style scoped>\n",
       "    .dataframe tbody tr th:only-of-type {\n",
       "        vertical-align: middle;\n",
       "    }\n",
       "\n",
       "    .dataframe tbody tr th {\n",
       "        vertical-align: top;\n",
       "    }\n",
       "\n",
       "    .dataframe thead th {\n",
       "        text-align: right;\n",
       "    }\n",
       "</style>\n",
       "<table border=\"1\" class=\"dataframe\">\n",
       "  <thead>\n",
       "    <tr style=\"text-align: right;\">\n",
       "      <th></th>\n",
       "      <th>col1</th>\n",
       "      <th>col2</th>\n",
       "    </tr>\n",
       "  </thead>\n",
       "  <tbody>\n",
       "    <tr>\n",
       "      <th>0</th>\n",
       "      <td>0.0</td>\n",
       "      <td>3.0</td>\n",
       "    </tr>\n",
       "    <tr>\n",
       "      <th>1</th>\n",
       "      <td>1.0</td>\n",
       "      <td>4.0</td>\n",
       "    </tr>\n",
       "    <tr>\n",
       "      <th>2</th>\n",
       "      <td>2.0</td>\n",
       "      <td>5.0</td>\n",
       "    </tr>\n",
       "  </tbody>\n",
       "</table>\n",
       "</div>"
      ],
      "text/plain": [
       "   col1  col2\n",
       "0   0.0   3.0\n",
       "1   1.0   4.0\n",
       "2   2.0   5.0"
      ]
     },
     "execution_count": 350,
     "metadata": {},
     "output_type": "execute_result"
    }
   ],
   "source": [
    "# apply a built-in function to every element in a dataframe \n",
    "test_df.applymap(float)  # applymap"
   ]
  },
  {
   "cell_type": "markdown",
   "metadata": {},
   "source": [
    "### Collocations\n",
    "\n",
    "\"A collocation is an expression consisting of two or more words that\n",
    "correspond to some conventional way of saying things. Or in the words\n",
    "of Firth (1957: 181): “Collocations of a given word are statements of the\n",
    "habitual or customary places of that word.” Collocations include noun\n",
    "phrases like strong tea and weapons of mass destruction, phrasal verbs like\n",
    "to make up, and other stock phrases like the rich and powerful. Particularly\n",
    "interesting are the subtle and not-easily-explainable patterns of word usage\n",
    "that native speakers all know: why we say a stiff breeze but not a stiff wind\n",
    "(while either a strong breeze or a strong wind is okay), or why we speak of\n",
    "broad daylight (but not bright daylight or narrow darkness)\n",
    "\n",
    "\n",
    "\n",
    "There are actually different definitions of the notion of collocation. Some\n",
    "authors in the computational and statistical literature define a collocation\n",
    "as two or more consecutive words with a special behavior, for example\n",
    "Choueka (1988):\n",
    "[A collocation is defined as] a sequence of two or more consecutive\n",
    "words, that has characteristics of a syntactic and semantic\n",
    "unit, and whose exact and unambiguous meaning or connotation\n",
    "cannot be derived directly from the meaning or connotation of its\n",
    "components. In most linguistically oriented research, a phrase\n",
    "can be a collocation even if it is not consecutive (as in the example knock\n",
    ". . . door). The following criteria are typical of linguistic treatments of collocations:\n",
    "\n",
    "**Non-compositionality**: The meaning of a collocation is not a straightforward\n",
    "composition of the meanings of its parts. Either the meaning\n",
    "is completely different from the free combination (as in the case of idioms\n",
    "like kick the bucket) or there is a connotation or added element of\n",
    "meaning that cannot be predicted from the parts. For example, white\n",
    "wine, white hair and white woman all refer to slightly different colors, so\n",
    "we can regard them as collocations. \n",
    "\n",
    "**Non-substitutability**: We cannot substitute near-synonyms for the\n",
    "components of a colloction. For example, we can’t say yellow wine\n",
    "instead of white wine even though yellow is as good a description of the\n",
    "color of white wine as white is (it is kind of a yellowish white).\n",
    "\n",
    "**Non-modifiability**: Many collocations cannot be freely modified with\n",
    "additional lexical material or through grammatical transformations.\n",
    "This is especially true for frozen expressions like idioms. For example,\n",
    "we can’t modify frog in to get a frog in one’s throat into to get an ugly\n",
    "frog in one’s throat although usually nouns like frog can be modified by\n",
    "adjectives like ugly. Similarly, going from singular to plural can make\n",
    "an idiom ill-formed, for example in people as poor as church mice.\"\n",
    "\n",
    "SOURCE: https://nlp.stanford.edu/fsnlp/promo/colloc.pdf"
   ]
  },
  {
   "cell_type": "markdown",
   "metadata": {},
   "source": [
    "### Exercise\n",
    "\n",
    "Create a function that returns a window of size n over a given sentence. \n",
    "\n",
    "For the sentence **'rather than pay the fee'** return the following if the window is n=3:\n",
    "- ['rather', 'than', 'pay'],\n",
    "- ['than','pay','the']\n",
    "- ['pay', 'the','fee']\n",
    "- ...\n"
   ]
  },
  {
   "cell_type": "code",
   "execution_count": 48,
   "metadata": {},
   "outputs": [
    {
     "name": "stdout",
     "output_type": "stream",
     "text": [
      "['rather', 'than', 'pay', 'the', 'fee', 'demand', 'by', 'this', 'crss', 'we', 'respond', 'quickly', 'with', 'our', 'own', 'travel', 'agency', 'solution', 'direct', 'access', 'and', 'ticket', 'for', 'the', 'large', 'agency', 'swat', 'overnight', 'delivery', 'of', 'southwest', 'produce', 'ticket', 'for', 'approximately', 'large', 'travel', 'agency', 'improve', 'access', 'to', 'ticket', 'by', 'mail', 'for', 'direct', 'customers', 'by', 'reduce', 'the', 'time', 'limit', 'from', 'seven', 'day', 'out', 'from', 'the', 'date', 'of', 'travel', 'to', 'three', 'day', 'and', 'ticketless', 'travel', 'which', 'eliminate', 'the', 'need', 'to', 'print', 'a', 'paper', 'ticket', 'altogether']\n"
     ]
    }
   ],
   "source": [
    "# example sentence\n",
    "sent = ' '.join(matches_df['sentences'][0:1]).split()\n",
    "print(sent)"
   ]
  },
  {
   "cell_type": "code",
   "execution_count": 49,
   "metadata": {},
   "outputs": [
    {
     "data": {
      "text/plain": [
       "[['rather', 'than', 'pay'],\n",
       " ['than', 'pay', 'the'],\n",
       " ['pay', 'the', 'fee'],\n",
       " ['the', 'fee', 'demand'],\n",
       " ['fee', 'demand', 'by']]"
      ]
     },
     "execution_count": 49,
     "metadata": {},
     "output_type": "execute_result"
    }
   ],
   "source": [
    "def create_sentence_windows(sentence, n=3):\n",
    "    \"create a sliding window over the n terms in a list of terms\"\n",
    "        \n",
    "    # create a window on the first n terms by slicing the sentence into the first n terms\n",
    "    window = sentence[0:n]\n",
    "    \n",
    "    # create a list to store all windows\n",
    "    # add the first window that was created above\n",
    "    sentence_windows = [window]\n",
    "\n",
    "    # iterate through the rest of the terms of the sentence\n",
    "    # e.g. if n=3, then create a new window with terms 2 to 4\n",
    "    for term in sentence[n:]:\n",
    "        # remove the first terms of the window and add the next term from the sentence\n",
    "        window = window[1:] + [term]\n",
    "        # add the updated window to the master list\n",
    "        sentence_windows.append(window)\n",
    "\n",
    "    return sentence_windows\n",
    "\n",
    "# execute the function\n",
    "sentence_window = create_sentence_windows(sent, n=3)\n",
    "# view the first few results\n",
    "sentence_window[0:5]"
   ]
  },
  {
   "cell_type": "code",
   "execution_count": 52,
   "metadata": {},
   "outputs": [
    {
     "data": {
      "text/plain": [
       "[['rather', 'than', 'pay'],\n",
       " ['than', 'pay', 'the'],\n",
       " ['pay', 'the', 'fee'],\n",
       " ['the', 'fee', 'demand'],\n",
       " ['fee', 'demand', 'by']]"
      ]
     },
     "execution_count": 52,
     "metadata": {},
     "output_type": "execute_result"
    }
   ],
   "source": [
    "# execute the function for all sentences\n",
    "\n",
    "# create a list to store all windows\n",
    "sentence_window = []\n",
    "\n",
    "for sent in matches_df['sentences']:\n",
    "    # convert the sentence string into a list of terms\n",
    "    sent = sent.split()\n",
    "    \n",
    "    # create the sentence windows and append to the sentence_windows list\n",
    "    windows = create_sentence_windows(sent, n=3)\n",
    "    \n",
    "    # add each window to the sentence_window list\n",
    "    # iterate through windows to make each item in sentence window a window, not a list of windows\n",
    "    for window in windows:\n",
    "        sentence_window.append(window)\n",
    "\n",
    "# view the first five results\n",
    "sentence_window[0:5]"
   ]
  },
  {
   "cell_type": "code",
   "execution_count": 143,
   "metadata": {},
   "outputs": [
    {
     "data": {
      "text/plain": [
       "[('landing_fee', 55),\n",
       " ('security_fee', 50),\n",
       " ('check_bag', 41),\n",
       " ('rental_expense', 36),\n",
       " ('1_quarter', 33),\n",
       " ('bag_fee', 30),\n",
       " ('require_airline', 28),\n",
       " ('additional_fee', 28),\n",
       " ('land_fee', 26),\n",
       " ('increase_percent', 26),\n",
       " ('fee_pay', 25),\n",
       " ('available_seat_mile_basis', 24),\n",
       " ('2_check', 24),\n",
       " ('aviation_security', 24),\n",
       " ('seat_selection', 24),\n",
       " ('baggage_fee', 24),\n",
       " ('ancillary_service', 22),\n",
       " ('passenger_protection', 20),\n",
       " ('percent_compare', 19),\n",
       " ('company_currently', 18)]"
      ]
     },
     "execution_count": 143,
     "metadata": {},
     "output_type": "execute_result"
    }
   ],
   "source": [
    "from itertools import combinations\n",
    "from collections import defaultdict\n",
    "\n",
    "# create a defaultdict to keep track of common phrases\n",
    "window_count = defaultdict(int)\n",
    "\n",
    "for sent in sentence_window:\n",
    "    # remove stop words\n",
    "    sentence = [term for term in sent if term not in STOP_WORDS]\n",
    "    \n",
    "    # create a combination of terms\n",
    "    # e.g. (rather, than, pay) --> (rather,than), (than,pay), (rather,pay)\n",
    "    for combo in combinations(sentence, 2):\n",
    "        # convert the tuple to a term\n",
    "        # e.g. (rather, than) --> 'rather_than'\n",
    "        phrase = '_'.join(combo)\n",
    "        \n",
    "        # increment the count for the term each time it appears to identify the most common terms\n",
    "        window_count[phrase] += 1\n",
    "\n",
    "# sort to view the most common terms\n",
    "# the key (lambda x: x[1]) sorts by the count\n",
    "sorted(window_count.items(), key=lambda x: x[1], reverse=True)[0:20]"
   ]
  },
  {
   "cell_type": "markdown",
   "metadata": {},
   "source": [
    "### Phrase (collocation) Detection\n",
    "\n",
    "Phrase modeling is another approach to learning combinations of tokens that together represent meaningful multi-word concepts. We can develop phrase models by looping over the the words in our reviews and looking for words that co-occur (i.e., appear one after another) together much more frequently than you would expect them to by random chance. The formula our phrase models will use to determine whether two tokens $A$ and $B$ constitute a phrase is:\n",
    "\n",
    "$$\\frac{count(A\\ B) - count_{min}}{count(A) * count(B)} > threshold$$\n",
    "\n",
    "- $count(A\\ B)$ is the number of times the tokens $A\\ B$ appear in the corpus in order\n",
    "- $count_{min}$ is a user-defined parameter to ensure that accepted phrases occur a minimum number of times\n",
    "- $count(A)$ is the number of times token $A$ appears in the corpus\n",
    "- $count(B)$ is the number of times token $B$ appears in the corpus\n",
    "- $threshold$ is a user-defined parameter to control how strong of a relationship between two tokens the model requires before accepting them as a phrase\n",
    "\n",
    "Once our phrase model has been trained on our corpus, we can apply it to new text. When our model encounters two tokens in new text that identifies as a phrase, it will merge the two into a single new token.\n",
    "\n",
    "Phrase modeling is superficially similar to named entity detection in that you would expect named entities to become phrases in the model (so new york would become new_york). But you would also expect multi-word expressions that represent common concepts, but aren't specifically named entities (such as happy hour) to also become phrases in the model.\n",
    "\n",
    "We turn to the indispensible gensim library to help us with phrase modeling — the Phrases class in particular.\n",
    "\n",
    "SOURCE: \n",
    "- https://github.com/skipgram/modern-nlp-in-python/blob/master/executable/Modern_NLP_in_Python.ipynb\n",
    "- https://papers.nips.cc/paper/5021-distributed-representations-of-words-and-phrases-and-their-compositionality.pdf"
   ]
  },
  {
   "cell_type": "markdown",
   "metadata": {},
   "source": [
    "##### Scikit-learn API for Gensim"
   ]
  },
  {
   "cell_type": "code",
   "execution_count": 144,
   "metadata": {},
   "outputs": [
    {
     "data": {
      "text/plain": [
       "PhrasesTransformer(delimiter=b'_', max_vocab_size=40000000, min_count=3,\n",
       "          progress_per=10000, scoring='default', threshold=3)"
      ]
     },
     "execution_count": 144,
     "metadata": {},
     "output_type": "execute_result"
    }
   ],
   "source": [
    "from gensim.sklearn_api.phrases import PhrasesTransformer\n",
    "\n",
    "sklearn_phrases = PhrasesTransformer(min_count=3, threshold=3)\n",
    "sklearn_phrases.fit(matched_sents)"
   ]
  },
  {
   "cell_type": "code",
   "execution_count": 146,
   "metadata": {},
   "outputs": [
    {
     "name": "stdout",
     "output_type": "stream",
     "text": [
      "[['rather', 'than', 'pay', 'the', 'fee', 'demand', 'by', 'this', 'crss', 'we', 'respond', 'quickly', 'with', 'our', 'own', 'travel', 'agency', 'solution', 'direct', 'access', 'and', 'ticket', 'for', 'the', 'large', 'agency', 'swat', 'overnight', 'delivery', 'of', 'southwest', 'produce', 'ticket', 'for', 'approximately', 'large', 'travel', 'agency', 'improve', 'access', 'to', 'ticket', 'by', 'mail', 'for', 'direct', 'customers', 'by', 'reduce', 'the', 'time', 'limit', 'from', 'seven', 'day', 'out', 'from', 'the', 'date', 'of', 'travel', 'to', 'three', 'day', 'and', 'ticketless', 'travel', 'which', 'eliminate', 'the', 'need', 'to', 'print', 'a', 'paper', 'ticket', 'altogether'], ['these', 'expense', 'include', 'million', 'of', 'various', 'professional', 'fee', 'million', 'for', 'disposal', 'of', 'duplicate', 'or', 'incompatible', 'property', 'and', 'equipment', 'and', 'million', 'for', 'employee', 'relocation', 'and', 'severance', 'cost', 'relate', 'to', 'elimination', 'of', 'duplicate', 'or', 'incompatible', 'operation'], ['included', 'in', 'this', 'one', 'time', 'cost', 'result', 'from', 'the', 'merger', 'be', 'of', 'various', 'professional', 'fee', 'for', 'disposal', 'of', 'duplicate', 'or', 'incompatible', 'property', 'and', 'equipment', 'and', 'for', 'employee', 'relocation', 'and', 'severance', 'cost', 'relate', 'to', 'elimination', 'of', 'duplicate', 'or', 'incompatible', 'operation'], ['the', 'commitment', 'fee', 'be', 'per', 'annum'], ['the', 'commitment', 'fee', 'be', 'per', 'annum'], ['landing', 'fee', 'and', 'other', 'rental', 'per', 'available_seat_mile', 'increase', 'percent', 'in', 'compare', 'to', 'which', 'include', 'a', 'airport', 'credit', 'of', 'million'], ['the', 'commitment', 'fee', 'be', 'per', 'annum'], ['the', 'legislation', 'conjurer', 'include', 'a', 'new', 'tax', 'on', 'the', 'sale', 'of', 'frequent', 'flyer', 'mile', 'raise', 'the', 'international', 'departure', 'fee', 'and', 'institute', 'a', 'new', 'international', 'arrival', 'fee'], ['the', 'legislation', 'conjurer', 'include', 'a', 'new', 'tax', 'on', 'the', 'sale', 'of', 'frequent', 'flyer', 'mile', 'raise', 'the', 'international', 'departure', 'fee', 'and', 'institute', 'a', 'new', 'international', 'arrival', 'fee'], ['landing', 'fee', 'and', 'other', 'rental', 'per', 'available_seat_mile', 'increase', 'percent', 'in', 'compare', 'to', 'which', 'include', 'a', 'airport', 'credit', 'of', 'million'], ['the', 'commitment', 'fee', 'be', 'percent', 'per', 'annum'], ['in', 'fact', 'even', 'our', 'discount', 'restrict', 'ticket', 'be', 'customer', 'friendly', 'a', 'they', 'be', 'reusable', 'without', 'a', 'rebook', 'fee'], ['the', 'commitment', 'fee', 'be', 'percent', 'per', 'annum'], ['however', 'the', 'company', 'continue', 'to', 'incur', 'nearly', 'all', 'of', 'its', 'normal', 'operate', 'expense', 'with', 'the', 'exception', 'of', 'certain', 'direct', 'trip', 'relate', 'expenditure', 'such', 'a', 'fuel', 'land', 'fee', 'etc'], ['landing', 'fee', 'and'], ['landing', 'fee', 'and', 'other', 'rental', 'per', 'available_seat_mile', 'increase', 'percent', 'primarily', 'a', 'a', 'result', 'of', 'the', 'company', 'expansion', 'of', 'facility', 'at', 'several', 'airport', 'include', 'baltimore', 'washington', 'international', 'airport', 'and', 'chicago', 'midway', 'airport'], ['since', 'southwest', 'have', 'not', 'reduce', 'the', 'numb', 'of', 'flight', 'it', 'offer', 'the', 'company', 'expect', 'that', 'the', 'airport', 'cost', 'it', 'share', 'with', 'other', 'airline', 'on', 'the', 'basis', 'of', 'relative', 'flight', 'land', 'or', 'passenger', 'carry', 'such', 'a', 'land', 'fee', 'and', 'common', 'space', 'rental', 'will', 'increase', 'on', 'a', 'per', 'available_seat_mile', 'basis', 'in', 'future', 'period'], ['in', '4', 'quarter', 'land', 'fee', 'and', 'other', 'rental', 'per', 'available_seat_mile', 'increase', 'percent'], ['landing', 'fee', 'and', 'other', 'rental', 'per', 'available_seat_mile', 'decrease', 'percent', 'primarily', 'a', 'a', 'result', 'of', 'a', 'decrease', 'in', 'land', 'fee', 'per', 'available_seat_mile', 'of', 'percent', 'partially', 'offset', 'by', 'a', 'slight', 'increase', 'in', 'other', 'rental'], ['landing', 'fee', 'and', 'other', 'rental', 'per', 'available_seat_mile', 'decrease', 'percent', 'primarily', 'a', 'a', 'result', 'of', 'a', 'decrease', 'in', 'land', 'fee', 'per', 'available_seat_mile', 'of', 'percent', 'partially', 'offset', 'by', 'a', 'slight', 'increase', 'in', 'other', 'rental'], ['although', 'land', 'fee', 'decline', 'on', 'a', 'per', 'available_seat_mile', 'basis', 'they', 'be', 'basically', 'flat', 'on', 'a', 'per', 'trip', 'basis'], ['interest', 'rate', 'on', 'the', 'notes', 'be', 'base', 'on', 'the', 'conduit', 'actual', 'commercial', 'paper', 'rate', 'plus', 'fee', 'for', 'each', 'period', 'and', 'be', 'expect', 'to', 'average', 'approximately', 'libor', 'plus', 'basis', 'point', 'over', 'the', 'term', 'of', 'the', 'notes'], ['beginning', 'february', 'a', 'per', 'enplanement', 'security', 'fee', 'be', 'impose', 'on', 'passenger', 'maximum', 'of', 'per', 'one', 'way', 'trip'], ['pursuant', 'to', 'authority', 'grant', 'to', 'the', 'taxiway_safety_area', 'to', 'impose', 'additional', 'fee', 'on', 'air', 'carrier', 'if', 'necessary', 'to', 'cover', 'additional', 'federal', 'aviation', 'security', 'cost', 'the', 'taxiway_safety_area', 'have', 'impose', 'a', 'annual', 'security', 'infrastructure', 'fee', 'which', 'approximate', 'million', 'for', 'southwest', 'in', 'and', 'be', 'expect', 'to', 'approximate', 'million', 'in'], ['pursuant', 'to', 'authority', 'grant', 'to', 'the', 'taxiway_safety_area', 'to', 'impose', 'additional', 'fee', 'on', 'air', 'carrier', 'if', 'necessary', 'to', 'cover', 'additional', 'federal', 'aviation', 'security', 'cost', 'the', 'taxiway_safety_area', 'have', 'impose', 'a', 'annual', 'security', 'infrastructure', 'fee', 'which', 'approximate', 'million', 'for', 'southwest', 'in', 'and', 'be', 'expect', 'to', 'approximate', 'million', 'in'], ['however', 'the', 'company', 'continue', 'to', 'incur', 'nearly', 'all', 'of', 'its', 'normal', 'operate', 'expense', 'with', 'the', 'exception', 'of', 'certain', 'direct', 'trip', 'relate', 'expenditure', 'such', 'a', 'fuel', 'land', 'fee', 'etc'], ['landing', 'fee', 'and', 'other', 'rental', 'per', 'available_seat_mile', 'increase', 'percent', 'primarily', 'a', 'a', 'result', 'of', 'airport', 'rate', 'increase', 'throughout', 'the', 'company', 'system'], ['landing', 'fee', 'and', 'other', 'rental', 'per', 'available_seat_mile', 'increase', 'percent', 'primarily', 'a', 'a', 'result', 'of', 'the', 'company', 'expansion', 'of', 'facility', 'at', 'several', 'airport', 'include', 'baltimore', 'washington', 'tional', 'airport', 'and', 'chicago', 'midway', 'airport'], ['interest', 'rate', 'on', 'the', 'notes', 'be', 'base', 'on', 'the', 'conduit', 'actual', 'commercial', 'paper', 'rate', 'plus', 'fee', 'for', 'each', 'period', 'and', 'be', 'expect', 'to', 'average', 'approximately', 'libor', 'plus', 'basis', 'point', 'over', 'the', 'term', 'of', 'the', 'notes'], ['the', 'government', 'conjurer', 'waive', 'the', 'requirement', 'that', 'security', 'fee', 'be', 'collect', 'on', 'airline', 'ticket', 'issue', 'from', 'june', 'to', 'september'], ['beginning', 'february', 'a', 'per', 'enplanement', 'security', 'fee', 'be', 'impose', 'on', 'passenger', 'maximum', 'of', 'per', 'one', 'way', 'trip'], ['this', 'fee', 'be', 'suspend', 'by', 'congress', 'from', 'june', 'through', 'september'], ['pursuant', 'to', 'authority', 'grant', 'to', 'the', 'taxiway_safety_area', 'to', 'impose', 'additional', 'fee', 'on', 'air', 'carrier', 'if', 'necessary', 'to', 'cover', 'additional', 'federal', 'aviation', 'security', 'cost', 'the', 'taxiway_safety_area', 'have', 'impose', 'a', 'annual', 'security', 'infrastructure', 'fee', 'which', 'approximate', 'million', 'for', 'southwest', 'in', 'and', 'million', 'in'], ['pursuant', 'to', 'authority', 'grant', 'to', 'the', 'taxiway_safety_area', 'to', 'impose', 'additional', 'fee', 'on', 'air', 'carrier', 'if', 'necessary', 'to', 'cover', 'additional', 'federal', 'aviation', 'security', 'cost', 'the', 'taxiway_safety_area', 'have', 'impose', 'a', 'annual', 'security', 'infrastructure', 'fee', 'which', 'approximate', 'million', 'for', 'southwest', 'in', 'and', 'million', 'in'], ['this', 'fee', 'be', 'conjurer', 'suspend', 'by', 'congress', 'from', 'june', 'through', 'september'], ['landing', 'fee', 'and', 'other', 'rental', 'per', 'available_seat_mile', 'increase', 'percent', 'primarily', 'a', 'a', 'result', 'of', 'high', 'space', 'rental', 'rate', 'throughout', 'the', 'company', 'system'], ['however', 'the', 'company', 'continue', 'to', 'incur', 'nearly', 'all', 'of', 'its', 'normal', 'operate', 'expense', 'with', 'the', 'exception', 'of', 'certain', 'direct', 'trip', 'relate', 'expenditure', 'such', 'a', 'fuel', 'land', 'fee', 'etc'], ['landing', 'fee', 'and', 'other', 'rental', 'per', 'available_seat_mile', 'increase', 'percent', 'primarily', 'a', 'a', 'result', 'of', 'airport', 'rate', 'increase', 'throughout', 'the', 'company', 'system'], ['interest', 'rate', 'on', 'the', 'notes', 'be', 'base', 'on', 'the', 'conduit', 'actual', 'commercial', 'paper', 'rate', 'plus', 'fee', 'for', 'each', 'period', 'and', 'be', 'expect', 'to', 'average', 'approximately', 'libor', 'plus', 'basis', 'point', 'over', 'the', 'term', 'of', 'the', 'notes'], ['unlike', 'many', 'of', 'our', 'competitor', 'we', 'do', 'not', 'charge', 'a', 'rebook', 'or', 'exchange', 'fee', 'for', 'customers', 'who', 'change', 'their', 'itinerary', 'nor', 'have', 'we', 'ever', 'require', 'a', 'saturday', 'night', 'stay'], ['in', 'select', 'airport', 'we', 'look', 'for', 'good', 'manage', 'efficient', 'airport', 'with', 'low', 'land', 'fee', 'and', 'terminal', 'rent'], ['vided', 'that', 'with', 'respect', 'to', 'revocation', 'the', 'certificate', 'ginning', 'february', 'a', 'per', 'enplanement', 'holder', 'have', '1', 'be', 'advise', 'of', 'the', 'allege', 'violation', 'and', 'security', 'fee', 'be', 'impose', 'on', 'passenger', 'maximum', 'of', 'fail', 'to', 'comply', 'after', 'be', 'give', 'a', 'reasonable', 'time', 'to', 'do', 'per', 'one', 'way', 'trip'], ['this', 'fee', 'be', 'suspend', 'by', 'so'], ['pursuant', 'to', 'authority', 'grant', 'to', 'the', 'taxiway_safety_area', 'to', 'impose', 'additional', 'fee', 'on', 'air', 'carrier', 'if', 'necessary', 'to', 'cover', 'additional', 'federal', 'aviation', 'security', 'cost', 'the', 'taxiway_safety_area', 'have', 'impose', 'a', 'annual', 'security', 'infrastructure', 'fee', 'which', 'approximate', 'million', 'for', 'southwest', 'in', 'and', 'million', 'in'], ['pursuant', 'to', 'authority', 'grant', 'to', 'the', 'taxiway_safety_area', 'to', 'impose', 'additional', 'fee', 'on', 'air', 'carrier', 'if', 'necessary', 'to', 'cover', 'additional', 'federal', 'aviation', 'security', 'cost', 'the', 'taxiway_safety_area', 'have', 'impose', 'a', 'annual', 'security', 'infrastructure', 'fee', 'which', 'approximate', 'million', 'for', 'southwest', 'in', 'and', 'million', 'in'], ['average', 'to', 'a', 'increase', 'in', 'excess', 'baggage', 'charge', 'a', 'the', 'passenger', 'fare', 'increase', 'percent', 'compare', 'to', 'pany', 'modify', 'its', 'fee', 'policy', 'relate', 'to', 'the', 'weight', 'of', 'primarily', 'due', 'to', 'low', 'fare', 'discount', 'because', 'of', 'the', 'check', 'baggage', 'during', '2', 'quarter'], ['approximately', 'cent', 'of', 'the', 'increase', 'relate', 'to', 'high', 'security', 'fee', 'in', 'the', 'form', 'of', 'a', 'million', 'retroactive', 'assessment', 'the', 'company', 'receive', 'from', 'the', 'transportation', 'security', 'administration', 'in', 'january'], ['the', 'company', 'intend', 'to', 'vigorously', 'contest', 'this', 'assessment', 'however', 'if', 'it', 'be', 'unsuccessful', 'in', 'reverse', 'or', 'modify', 'it', 'security', 'fee', 'will', 'be', 'at', 'similar', 'level'], ['based', 'on', 'current', 'market', 'jet', 'fuel', 'price', 'and', 'expect', 'high', 'security', 'fee', 'in', 'the', 'company', 'presently', 'expect', 'a', 'increase', 'in', 'other', 'operate', 'penses', 'per', 'available_seat_mile', 'in', '1', 'quarter', 'compare', 'to', 'the', 'same', 'maintenance', 'material', 'and', 'repair', 'per', 'available_seat_mile', 'period'], ['the', 'decrease', 'primarily', 'be', 'due', 'to', 'a', 'favorable', 'adjustment', 'landing', 'fee', 'and', 'other', 'rental', 'per', 'available_seat_mile', 'increase', 'percent', 'primarily', 'due', 'to', 'the', 'company', 'expansion', 'of', 'gate', 'and', 'counter', 'space', 'at', 'several', 'airport', 'across', 'our', 'system'], ['under', 'the', 'aviation', 'security', 'act', 'fund', 'for', 'passenger', 'security', 'be', 'provide', 'in', 'part', 'by', 'a', 'per', 'enplanement', 'security', 'fee', 'subject', 'to', 'a', 'maximum', 'of', 'per', 'one', 'way', 'trip'], ['the', 'aviation', 'security', 'act', 'conjurer', 'allow', 'the', 'taxiway_safety_area', 'to', 'assess', 'a', 'aviation', 'security', 'infrastructure', 'fee', 'on', 'each', 'airline', 'up', 'to', 'the', 'total', 'amount', 'spend', 'by', 'that', 'airline', 'on', 'passenger', 'and', 'property', 'screen', 'in', 'calendar', 'year'], ['southwest', 'be', 'assess', 'a', 'fee', 'and', 'record', 'expense', 'total', 'approximately', 'million', 'in', 'each', 'of', 'and', 'of', 'which', 'approximately', 'million', 'in', 'each', 'year', 'be', 'be', 'contest', 'by', 'southwest'], ['an', 'additional', 'percent', 'of', 'the', 'increase', 'be', 'due', 'to', 'a', 'increase', 'in', 'excess', 'baggage', 'charge', 'a', 'the', 'company', 'modify', 'its', 'fee', 'policy', 'relate', 'to', 'the', 'weight', 'of', 'check', 'baggage', 'during', '2', 'quarter'], ['landing', 'fee', 'and', 'other', 'rental', 'per', 'available_seat_mile', 'be', 'flat', 'compare', 'to'], ['the', 'company', 'currently', 'expect', 'a', 'year', 'over', 'year', 'increase', 'in', 'land', 'fee', 'and', 'other', 'rental', 'per', 'available_seat_mile', 'for', '1', 'quarter', 'primarily', 'due', 'to', 'high', 'rate', 'pay', 'for', 'airport', 'space'], ['other', 'operate', 'expense', 'per', 'available_seat_mile', 'increase', 'percent', 'compare', 'to', 'primarily', 'due', 'to', 'a', 'increase', 'in', 'revenue', 'relate', 'cost', 'such', 'a', 'credit', 'card', 'process', 'fee', 'from', 'the', 'company', 'percent', 'increase', 'in', 'passenger', 'revenue'], ['approximately', 'percent', 'of', 'the', 'increase', 'relate', 'to', 'high', 'security', 'fee', 'in', 'the', 'form', 'of', 'a', 'million', 'retroactive', 'assessment', 'the', 'pany', 'receive', 'from', 'the', 'transportation', 'security', 'istration', 'in', 'january'], ['other', 'proposal', 'be', 'consider', 'by', 'congress', 'in', 'connection', 'with', 'the', 'federal_aviation_administration', 'reauthorization', 'legislation', 'include', 'i', 'the', 'imposition', 'of', 'new', 'user', 'fee', 'on', 'jet', 'power', 'aircraft', 'ii', 'a', 'increase', 'in', 'the', 'amount', 'of', 'airport', 'passenger', 'facility', 'charge', 'and', 'iii', 'the', 'adoption', 'of', 'new', 'unfunded', 'mandate', 'on', 'commercial', 'airline', 'such', 'a', 'passenger', 'right', 'standard', 'and', 'labor', 'protection', 'provision', 'any', 'of', 'which', 'can', 'have', 'a', 'impact', 'on', 'the', 'company', 'operation'], ['enhanced', 'security', 'measure', 'have', 'conjurer', 'impact', 'the', 'company', 'business', 'through', 'the', 'imposition', 'of', 'security', 'fee', 'on', 'the', 'company', 'customers', 'and', 'on', 'the', 'company'], ['under', 'the', 'aviation', 'security', 'act', 'fund', 'for', 'passenger', 'security', 'be', 'provide', 'in', 'part', 'by', 'a', 'per', 'enplanement', 'security', 'fee', 'subject', 'to', 'a', 'maximum', 'of', 'per', 'one', 'way', 'trip'], ['the', 'aviation', 'security', 'act', 'conjurer', 'allow', 'the', 'taxiway_safety_area', 'to', 'assess', 'a', 'aviation', 'security', 'infrastructure', 'fee', 'asif', 'on', 'each', 'airline'], ['landing', 'fee', 'and', 'other', 'rental', 'increase', 'million', 'on', 'a', 'dollar', 'basis', 'and', 'percent', 'on', 'a', 'per', 'available_seat_mile', 'basis', 'compare', 'to'], ['the', 'company', 'currently', 'expect', 'a', 'over', 'year', 'increase', 'in', 'land', 'fee', 'and', 'other', 'rental', 'per', 'available_seat_mile', 'for', '1', 'quarter', 'primarily', 'due', 'to', 'high', 'rate', 'pay', 'for', 'airport', 'space'], ['on', 'a', 'dollar', 'basis', 'approximately', 'percent', 'of', 'the', 'increase', 'be', 'due', 'to', 'a', 'increase', 'in', 'revenue', 'relate', 'cost', 'associate', 'with', 'the', 'percent', 'increase', 'in', 'passenger', 'revenue', 'such', 'a', 'credit', 'card', 'process', 'fee', 'and', 'approximately', 'cent', 'be', 'due', 'to', 'high', 'personnel', 'expense', 'which', 'include', 'item', 'associate', 'with', 'flight', 'crow', 'travel', 'such', 'a', 'hotel', 'and', 'per', 'diem', 'cost', 'cause', 'by', 'the', 'increase', 'in', 'capacity', 'and', 'trip', 'fly'], ['landing', 'fee', 'and', 'other', 'rental', 'per', 'available_seat_mile', 'be', 'flat', 'compare', 'to'], ['in', 'absolute', 'dollar', 'other', 'operate', 'expense', 'increase', 'million', 'of', 'which', 'million', 'relate', 'to', 'credit', 'card', 'process', 'fee'], ['the', 'million', 'increase', 'in', 'credit', 'card', 'process', 'fee', 'represent', 'a', 'percent', 'increase', 'from', 'compare', 'to', 'the', 'company', 'percent', 'increase', 'in', 'passenger', 'revenue'], ['pare', 'to', 'primarily', 'due', 'to', 'the', 'increase', 'in', 'relate', 'cost', 'such', 'a', 'credit', 'card', 'process', 'fee', 'relate', 'to', 'the', 'company', 'percent', 'increase', 'in', 'passenger', 'revenue'], ['the', 'company', 'be', 'conjurer', 'require', 'to', 'collect', 'certain', 'taxis', 'and', 'fee', 'from', 'customers', 'on', 'behalf', 'of', 'government'], ['the', 'company', 'be', 'the', 'only', 'major', 'airline', 'that', 'doe', 'not', 'impose', 'additional', 'fee', 'for', '1', 'or', '2', 'check', 'bag'], ['the', 'company', 'be', 'conjurer', 'the', 'only', 'major', 'airline', 'that', 'doe', 'not', 'impose', 'a', 'fee', 'for', 'a', 'customer', 'change', 'in', 'flight', 'plan'], ['the', 'campaign', 'highlight', 'the', 'importance', 'to', 'the', 'company', 'of', 'customer', 'service', 'by', 'show', 'that', 'the', 'company', 'understand', 'plan', 'can', 'change', 'and', 'therefore', 'doe', 'not', 'charge', 'a', 'change', 'fee'], ['while', 'a', 'customer', 'may', 'pay', 'a', 'difference', 'in', 'airfare', 'the', 'customer', 'will', 'not', 'be', 'charge', 'a', 'change', 'fee', 'on', 'top', 'of', 'any', 'difference', 'in', 'airfare'], ['also', 'unlike', 'much', 'of', 'its', 'competitor', 'the', 'company', 'doe', 'not', 'impose', 'additional', 'fee', 'for', 'item', 'such', 'a', 'seat', 'selection', 'fuel', 'surcharge', 'snack', 'curb', 'side', 'checkin', 'and', 'telephone', 'reservation'], ['freedom', 'awards', 'be', 'valid', 'for', 'month', 'from', 'the', 'date', 'of', 'the', 'standard', 'award', 'with', 'the', 'early', 'expiration', 'date', 'or', 'for', 'a', 'fee', 'month', 'from', 'the', 'date', 'the', 'standard', 'awards', 'be', 'convert', 'and', 'be', 'subject', 'to', 'seat', 'restriction'], ['enhanced', 'security', 'measure', 'have', 'conjurer', 'impact', 'the', 'company', 'business', 'through', 'the', 'imposition', 'of', 'security', 'fee', 'on', 'the', 'company', 'customers', 'and', 'on', 'the', 'company'], ['under', 'atsa', 'fund', 'for', 'passenger', 'security', 'be', 'provide', 'in', 'part', 'by', 'a', 'per', 'enplanement', 'security', 'fee', 'the', 'fee', 'subject', 'to', 'a', 'maximum', 'of', 'per', 'one', 'way', 'trip'], ['under', 'atsa', 'fund', 'for', 'passenger', 'security', 'be', 'provide', 'in', 'part', 'by', 'a', 'per', 'enplanement', 'security', 'fee', 'the', 'fee', 'subject', 'to', 'a', 'maximum', 'of', 'per', 'one', 'way', 'trip'], ['congress', 'may', 'consider', 'a', 'increase', 'in', 'the', 'fee', 'a', 'good', 'a', 'other', 'change', 'to', 'atsa', 'a', 'part', 'of', 'future', 'security', 'relate', 'legislation'], ['atsa', 'conjurer', 'allow', 'the', 'taxiway_safety_area', 'to', 'assess', 'a', 'aviation', 'security', 'infrastructure', 'fee', 'asif', 'on', 'each', 'airline'], ['the', 'company', 'and', 'other', 'airline', 'join', 'in', 'litigation', 'against', 'the', 'taxiway_safety_area', 'to', 'challenge', 'the', 'agency', 'increase', 'to', 'their', 'respective', 'asif', 'fee'], ['in', 'february', 'the', 'court', 'of', 'appeals', 'for', 'the', 'district', 'of', 'columbia', 'circuit', 'rule', 'that', 'the', 'increase', 'fee', 'be', 'excessive', 'and', 'remand', 'the', 'matt', 'to', 'the', 'taxiway_safety_area', 'to', 'determine', 'the', 'amount', 'of', 'the', 'excess'], ['in', 'june', 'the', 'taxiway_safety_area', 'make', 'a', 'partial', 'refund', 'of', 'million', 'to', 'the', 'company', 'and', 'reduce', 'its', 'fee', 'go', 'forward', 'by', 'million', 'annually'], ['in', 'addition', 'the', 'company', 'doe', 'not', 'tack', 'on', 'additional', 'fee', 'for', 'item', 'such', 'a', '1', 'and', '2', 'check', 'bag', 'flight', 'change', 'seat', 'selection', 'fuel', 'surcharge', 'snack', 'curb', 'side', 'checkin', 'and', 'telephone', 'reservation'], ['furthermore', 'when', 'other', 'airline', 'reduce', 'their', 'capacity', 'airport', 'cost', 'be', 'then', 'allocate', 'among', 'a', 'few', 'numb', 'of', 'total', 'flight', 'which', 'have', 'result', 'in', 'increase', 'land', 'fee', 'and', 'other', 'cost', 'for', 'the', 'company'], ['in', 'addition', 'it', 'provide', 'for', 'the', 'payment', 'of', 'fee', 'and', 'expense', 'subject', 'to', 'court', 'approval'], ['if', 'the', 'merger', 'be', 'not', 'complete', 'the', 'ongoing', 'business', 'of', 'the', 'company', 'may', 'be', 'adversely', 'affect', 'and', 'the', 'company', 'will', 'be', 'subject', 'to', 'several', 'risk', 'include', 'the', 'follow', 'have', 'to', 'pay', 'certain', 'cost', 'relate', 'to', 'the', 'merger', 'such', 'a', 'legal', 'account', 'financial', 'advisor', 'and', 'print', 'fee', 'and', 'have', 'have', 'the', 'focus', 'of', 'company', 'management', 'on', 'the', 'merger', 'instead', 'of', 'on', 'pursue', 'other', 'opportunity', 'that', 'can', 'have', 'be', 'beneficial', 'to', 'the', 'company'], ['the', 'complaint', 'allege', 'among', 'other', 'thing', 'that', 'airtran', 'conspire', 'with', 'delta', 'in', 'impose', 'bag', 'fee', 'for', 'the', '1', 'item', 'of', 'check', 'luggage'], ['the', 'initial', 'complaint', 'seek', 'treble', 'damage', 'on', 'behalf', 'of', 'a', 'putative', 'class', 'of', 'person', 'or', 'entity', 'in', 'the', 'united', 'states', 'who', 'directly', 'pay', 'delta', 'airtran', 'such', 'fee', 'on', 'domestic', 'flight', 'begin', 'december'], ['the', 'amend', 'complaint', 'seek', 'injunctive', 'relief', 'against', 'a', 'broad', 'range', 'of', 'allege', 'anticompetitive', 'activity', 'and', 'conjurer', 'seek', 'attorney', 'fee'], ['on', 'august', 'the', 'court', 'dismiss', 'that', 'portion', 'of', 'the', 'claim', 'allege', 'that', 'airtran', 'have', 'violate', 'section', 'of', 'the', 'sherman', 'act', 'however', 'the', 'court', 'let', 'stand', 'the', 'claim', 'of', 'a', 'conspiracy', 'with', 'respect', 'to', 'the', 'imposition', 'of', 'a', '1', 'bag', 'fee'], ['the', 'merger', 'agreement', 'include', 'the', 'deal', 'protection', 'device', 'that', 'may', 'preclude', 'premium', 'compete', 'bid', 'for', 'airtran', 'iv', 'award', 'plaintiff', 'cost', 'and', 'disbursement', 'of', 'the', 'action', 'include', 'reasonable', 'and', 'fee', 'and', 'v', 'grant', 'such', 'other', 'and', 'far', 'equitable', 'relief', 'a', 'the', 'court', 'may', 'deem', 'just', 'and', 'proper'], ['in', 'addition', 'it', 'provide', 'for', 'the', 'payment', 'of', 'fee', 'and', 'expense', 'subject', 'to', 'court', 'approval'], ['during', 'the', 'company', 'launch', 'a', 'new', 'and', 'improve', 'website', 'at', 'introduce', 'earlybird', 'check', 'in', 'which', 'allow', 'customers', 'to', 'pay', 'to', 'automatically', 'get', 'a', 'assign', 'board', 'position', 'before', 'general', 'check', 'in', 'begin', 'introduce', 'new', 'fee', 'for', 'unaccompanied', 'minor', 'and', 'for', 'pet', 'and', 'continue', 'to', 'optimize', 'its', 'schedule', 'and', 'tout', 'its', 'bags', 'fly', 'free', 'campaign'], ['the', 'majority', 'of', 'the', 'increase', 'be', 'due', 'to', 'revenue', 'from', 'revenue', 'initiative', 'such', 'a', 'fee', 'for', 'unaccompanied', 'minor', 'and', 'for', 'pet', 'revenue', 'from', 'the', 'company', 'earlybird', 'initiative', 'and', 'a', 'increase', 'in', 'the', 'fee', 'charge', 'for', 'customers', 'check', 'a', '3', 'bag'], ['the', 'majority', 'of', 'the', 'increase', 'be', 'due', 'to', 'revenue', 'from', 'revenue', 'initiative', 'such', 'a', 'fee', 'for', 'unaccompanied', 'minor', 'and', 'for', 'pet', 'revenue', 'from', 'the', 'company', 'earlybird', 'initiative', 'and', 'a', 'increase', 'in', 'the', 'fee', 'charge', 'for', 'customers', 'check', 'a', '3', 'bag'], ['landing', 'fee', 'and', 'other', 'rental', 'increase', 'million', 'on', 'a', 'dollar', 'basis', 'and', 'increase', 'percent', 'on', 'a', 'per', 'available_seat_mile', 'basis', 'compare', 'to'], ['landing', 'fee', 'and', 'other', 'rental', 'increase', 'million', 'on', 'a', 'dollar', 'basis', 'and', 'increase', 'percent', 'on', 'a', 'per', 'available_seat_mile', 'basis', 'compare', 'to'], ['as', 'a', 'consequence', 'of', 'continue', 'rate', 'inflation', 'at', 'various', 'airport', 'the', 'company', 'currently', 'expect', 'landing', 'fee', 'and', 'other', 'rental', 'per', 'available_seat_mile', 'in', '1', 'quarter', 'to', 'be', 'high', 'than', 'the', 'cent', 'per', 'available_seat_mile', 'experience', 'in', '1', 'quarter'], ['on', 'both', 'a', 'dollar', 'and', 'a', 'per', 'available_seat_mile', 'basis', 'this', 'increase', 'primarily', 'be', 'due', 'to', 'a', 'increase', 'in', 'revenue', 'relate', 'cost', 'such', 'a', 'credit', 'card', 'interchange', 'fee', 'associate', 'with', 'the', 'percent', 'increase', 'in', 'passenger', 'revenue'], ['reimbursement', 'of', 'the', 'company', 'for', 'its', 'payment', 'of', 'facilities', 'payments', 'be', 'expect', 'to', 'be', 'make', 'through', 'recur', 'grind', 'rent', 'fee', 'and', 'other', 'revenue', 'collect', 'at', 'the', 'airport'], ['the', 'company', 'be', 'conjurer', 'require', 'to', 'collect', 'certain', 'taxis', 'and', 'fee', 'from', 'customers', 'on', 'behalf', 'of', 'government', 'agency', 'and', 'remit', 'this', 'back', 'to', 'the', 'applicable', 'governmental', 'entity', 'on', 'a', 'periodic', 'basis'], ['these', 'taxis', 'and', 'fee', 'include', 'federal', 'transportation', 'taxis', 'federal', 'security', 'charge', 'and', 'airport', 'passenger', 'facility', 'charge'], ['the', 'merger', 'agreement', 'far', 'provide', 'that', 'upon', 'termination', 'of', 'the', 'merger', 'agreement', 'under', 'specify', 'circumstance', 'include', 'termination', 'of', 'the', 'merger', 'agreement', 'in', 'connection', 'with', 'a', 'compete', 'transaction', 'airtran', 'may', 'be', 'require', 'to', 'pay', 'to', 'the', 'company', 'a', 'termination', 'fee', 'of', 'million'], ['for', 'aircraft', 'lease', 'and', 'for', 'terminal', 'operation', 'lease', 'expense', 'be', 'include', 'in', 'aircraft', 'rental', 'and', 'in', 'landing', 'fee', 'and', 'other', 'rental', 'respectively', 'in', 'the', 'consolidated', 'statement', 'of', 'income'], ['to', 'combat', 'ever', 'rise', 'fuel', 'cost', 'we', 'be', 'adapt', 'our', 'business', 'to', 'drive', 'much', 'revenue', 'while', 'stay', 'true', 'to', 'low', 'fare', 'and', 'no', 'hide', 'fee'], ['airtran', 'business', 'class', 'fare', 'be', 'refundable', 'and', 'changeable', 'and', 'include', 'additional', 'perk', 'such', 'a', 'priority', 'board', 'oversized', 'seat', 'with', 'additional', 'leg', 'room', 'bonus', 'frequent', 'flyer', 'credit', 'no', '1', 'or', '2', 'bag', 'fee', 'and', 'complimentary', 'cocktail', 'onboard'], ['in', 'addition', 'southwest', 'a', 'list', 'and', 'a', 'list', 'preferred', 'rapid', 'rewards', 'members', 'book', 'on', 'airtran', 'be', 'eligible', 'for', 'free', 'business', 'class', 'upgrade', 'no', 'baggage', 'fee', 'and', 'all', 'other', 'benefit', 'that', 'airtran', 'rewards', 'member', 'enjoy'], ['for', 'example', 'southwest', 'continue', 'to', 'be', 'the', 'only', 'major', 'airline', 'that', 'doe', 'not', 'impose', 'additional', 'fee', 'for', '1', 'or', '2', 'check', 'bag'], ['southwest', 'be', 'conjurer', 'the', 'only', 'major', 'airline', 'that', 'doe', 'not', 'impose', 'a', 'fee', 'for', 'a', 'customer', 'change', 'in', 'flight', 'plan'], ['the', 'campaign', 'highlight', 'the', 'importance', 'to', 'southwest', 'of', 'customer', 'service', 'by', 'show', 'that', 'southwest', 'understand', 'plan', 'can', 'change', 'and', 'therefore', 'doe', 'not', 'charge', 'a', 'change', 'fee'], ['while', 'a', 'customer', 'may', 'pay', 'a', 'difference', 'in', 'airfare', 'the', 'customer', 'will', 'not', 'be', 'charge', 'a', 'change', 'fee', 'on', 'top', 'of', 'any', 'difference', 'in', 'airfare'], ['also', 'unlike', 'much', 'of', 'its', 'competitor', 'southwest', 'doe', 'not', 'impose', 'additional', 'fee', 'for', 'item', 'such', 'a', 'seat', 'selection', 'fuel', 'surcharge', 'snack', 'curb', 'side', 'checkin', 'and', 'telephone', 'reservation'], ['airtran', 'currently', 'charge', 'fee', 'for', 'check', 'baggage', 'carriage', 'of', 'pet', 'liquor', 'sale', 'advance', 'seat', 'assignment', 'call', 'center', 'service', 'priority', 'seat', 'selection', 'special', 'service', 'such', 'a', 'the', 'transportation', 'of', 'unaccompanied', 'minor', 'and', 'extension', 'or', 'transfer', 'of', 'miles', 'rewards', 'in', 'addition', 'to', 'fee', 'for', 'the', 'purchase', 'of', 'miles', 'rewards'], ['airtran', 'currently', 'charge', 'fee', 'for', 'check', 'baggage', 'carriage', 'of', 'pet', 'liquor', 'sale', 'advance', 'seat', 'assignment', 'call', 'center', 'service', 'priority', 'seat', 'selection', 'special', 'service', 'such', 'a', 'the', 'transportation', 'of', 'unaccompanied', 'minor', 'and', 'extension', 'or', 'transfer', 'of', 'miles', 'rewards', 'in', 'addition', 'to', 'fee', 'for', 'the', 'purchase', 'of', 'miles', 'rewards'], ['the', 'company', 'have', 'state', 'that', 'it', 'intend', 'upon', 'full', 'integration', 'of', 'airtran', 'to', 'have', 'a', 'consistent', 'product', 'offer', 'without', '1', 'or', '2', 'bag', 'fee', 'or', 'change', 'fee'], ['the', 'company', 'have', 'state', 'that', 'it', 'intend', 'upon', 'full', 'integration', 'of', 'airtran', 'to', 'have', 'a', 'consistent', 'product', 'offer', 'without', '1', 'or', '2', 'bag', 'fee', 'or', 'change', 'fee'], ['ii', 'require', 'airline', 'to', 'refund', 'any', 'check', 'bag', 'fee', 'for', 'permanently', 'lose', 'luggage'], ['iii', 'require', 'airline', 'to', 'prominently', 'disclose', 'all', 'potential', 'fee', 'for', 'optional', 'service', 'on', 'their', 'website', 'and', 'iv', 'require', 'airline', 'to', 'refund', 'passenger', 'fee', 'pay', 'for', 'ancillary', 'service', 'if', 'a', 'flight', 'cancel', 'or', 'oversell', 'and', 'a', 'passenger', 'be', 'unable', 'to', 'take', 'advantage', 'of', 'such', 'service'], ['iii', 'require', 'airline', 'to', 'prominently', 'disclose', 'all', 'potential', 'fee', 'for', 'optional', 'service', 'on', 'their', 'website', 'and', 'iv', 'require', 'airline', 'to', 'refund', 'passenger', 'fee', 'pay', 'for', 'ancillary', 'service', 'if', 'a', 'flight', 'cancel', 'or', 'oversell', 'and', 'a', 'passenger', 'be', 'unable', 'to', 'take', 'advantage', 'of', 'such', 'service'], ['effective', 'january', 'the', 'department_of_transportation', 'far', 'expand', 'the', 'passenger', 'protection', 'rule', 'by', 'implement', 'a', 'new', 'airfare', 'advertise', 'rule', 'the', 'full', 'fare', 'advertise', 'rule', 'that', 'require', 'all', 'advertise', 'airfares', 'to', 'include', 'mandate', 'taxis', 'and', 'fee', 'include', 'fuel', 'charge', 'and', 'security', 'fee'], ['effective', 'january', 'the', 'department_of_transportation', 'far', 'expand', 'the', 'passenger', 'protection', 'rule', 'by', 'implement', 'a', 'new', 'airfare', 'advertise', 'rule', 'the', 'full', 'fare', 'advertise', 'rule', 'that', 'require', 'all', 'advertise', 'airfares', 'to', 'include', 'mandate', 'taxis', 'and', 'fee', 'include', 'fuel', 'charge', 'and', 'security', 'fee'], ['other', 'new', 'and', 'expand', 'component', 'of', 'the', 'passenger', 'protection', 'rule', 'require', 'among', 'other', 'thing', 'that', 'i', 'passenger', 'be', 'allow', 'to', 'hold', 'a', 'reservation', 'for', 'up', 'to', 'hour', 'without', 'make', 'a', 'payment', 'ii', 'passenger', 'be', 'allow', 'to', 'cancel', 'a', 'pay', 'reservation', 'without', 'penalty', 'for', 'hour', 'after', 'the', 'reservation', 'be', 'make', 'a', 'long', 'a', 'the', 'reservation', 'be', 'make', 'at', 'little', 'seven', 'day', 'in', 'advance', 'of', 'travel', 'iii', 'fare', 'may', 'not', 'increase', 'after', 'purchase', 'iv', 'baggage', 'fee', 'must', 'be', 'disclose', 'to', 'the', 'passenger', 'at', 'the', 'time', 'of', 'book', 'v', 'the', 'same', 'baggage', 'allowance', 'and', 'fee', 'must', 'apply', 'throughout', 'a', 'passenger', 'trip', 'vi', 'baggage', 'fee', 'must', 'be', 'disclose', 'on', 'e', 'ticket', 'confirmation', 'and', 'vii', 'passenger', 'must', 'be', 'promptly', 'notify', 'in', 'the', 'event', 'of', 'delay', 'of', 'much', 'than', 'minute', 'or', 'if', 'there', 'be', 'a', 'cancellation', 'or', 'diversion', 'of', 'their', 'flight'], ['other', 'new', 'and', 'expand', 'component', 'of', 'the', 'passenger', 'protection', 'rule', 'require', 'among', 'other', 'thing', 'that', 'i', 'passenger', 'be', 'allow', 'to', 'hold', 'a', 'reservation', 'for', 'up', 'to', 'hour', 'without', 'make', 'a', 'payment', 'ii', 'passenger', 'be', 'allow', 'to', 'cancel', 'a', 'pay', 'reservation', 'without', 'penalty', 'for', 'hour', 'after', 'the', 'reservation', 'be', 'make', 'a', 'long', 'a', 'the', 'reservation', 'be', 'make', 'at', 'little', 'seven', 'day', 'in', 'advance', 'of', 'travel', 'iii', 'fare', 'may', 'not', 'increase', 'after', 'purchase', 'iv', 'baggage', 'fee', 'must', 'be', 'disclose', 'to', 'the', 'passenger', 'at', 'the', 'time', 'of', 'book', 'v', 'the', 'same', 'baggage', 'allowance', 'and', 'fee', 'must', 'apply', 'throughout', 'a', 'passenger', 'trip', 'vi', 'baggage', 'fee', 'must', 'be', 'disclose', 'on', 'e', 'ticket', 'confirmation', 'and', 'vii', 'passenger', 'must', 'be', 'promptly', 'notify', 'in', 'the', 'event', 'of', 'delay', 'of', 'much', 'than', 'minute', 'or', 'if', 'there', 'be', 'a', 'cancellation', 'or', 'diversion', 'of', 'their', 'flight'], ['other', 'new', 'and', 'expand', 'component', 'of', 'the', 'passenger', 'protection', 'rule', 'require', 'among', 'other', 'thing', 'that', 'i', 'passenger', 'be', 'allow', 'to', 'hold', 'a', 'reservation', 'for', 'up', 'to', 'hour', 'without', 'make', 'a', 'payment', 'ii', 'passenger', 'be', 'allow', 'to', 'cancel', 'a', 'pay', 'reservation', 'without', 'penalty', 'for', 'hour', 'after', 'the', 'reservation', 'be', 'make', 'a', 'long', 'a', 'the', 'reservation', 'be', 'make', 'at', 'little', 'seven', 'day', 'in', 'advance', 'of', 'travel', 'iii', 'fare', 'may', 'not', 'increase', 'after', 'purchase', 'iv', 'baggage', 'fee', 'must', 'be', 'disclose', 'to', 'the', 'passenger', 'at', 'the', 'time', 'of', 'book', 'v', 'the', 'same', 'baggage', 'allowance', 'and', 'fee', 'must', 'apply', 'throughout', 'a', 'passenger', 'trip', 'vi', 'baggage', 'fee', 'must', 'be', 'disclose', 'on', 'e', 'ticket', 'confirmation', 'and', 'vii', 'passenger', 'must', 'be', 'promptly', 'notify', 'in', 'the', 'event', 'of', 'delay', 'of', 'much', 'than', 'minute', 'or', 'if', 'there', 'be', 'a', 'cancellation', 'or', 'diversion', 'of', 'their', 'flight'], ['in', 'july', 'the', 'department_of_transportation', 'propose', 'new', 'rule', 'that', 'would', 'require', 'airline', 'to', 'report', 'much', 'information', 'to', 'the', 'department_of_transportation', 'on', 'the', 'amount', 'and', 'type', 'of', 'fee', 'collect', 'from', 'passenger', 'a', 'good', 'a', 'the', 'numb', 'of', 'check', 'bag', 'and', 'mishandle', 'wheelchair'], ['the', 'proposal', 'would', 'revise', 'current', 'report', 'requirement', 'to', 'increase', 'datum', 'collection', 'on', 'the', 'amount', 'airline', 'receive', 'from', 'different', 'specific', 'type', 'of', 'fee'], ['the', 'propose', 'rule', 'would', 'require', 'airline', 'to', 'report', 'category', 'of', 'fee', 'revenue'], ['the', 'white', 'house', 'have', 'propose', 'increase', 'the', 'security', 'fee', 'assess', 'on', 'passenger', 'a', 'good', 'a', 'create', 'a', 'new', 'aircraft', 'departure', 'tax', 'of', 'per', 'flight', 'to', 'help', 'pay', 'for', 'deficit', 'reduction'], ['enhanced', 'security', 'measure', 'have', 'conjurer', 'impact', 'the', 'company', 'business', 'through', 'the', 'imposition', 'of', 'security', 'fee', 'on', 'southwest', 'and', 'airtran', 'and', 'their', 'customers'], ['under', 'atsa', 'fund', 'for', 'passenger', 'security', 'be', 'provide', 'in', 'part', 'by', 'a', 'per', 'enplanement', 'security', 'fee', 'the', 'fee', 'subject', 'to', 'a', 'maximum', 'of', 'per', 'one', 'way', 'trip'], ['under', 'atsa', 'fund', 'for', 'passenger', 'security', 'be', 'provide', 'in', 'part', 'by', 'a', 'per', 'enplanement', 'security', 'fee', 'the', 'fee', 'subject', 'to', 'a', 'maximum', 'of', 'per', 'one', 'way', 'trip'], ['in', 'september', 'the', 'white', 'house', 'propose', 'to', 'congress', 'a', 'immediate', 'increase', 'of', 'the', 'fee', 'to', 'a', 'minimum', 'of', 'per', 'one', 'way', 'trip', 'and', 'conjurer', 'propose', 'additional', 'yearly', 'increase', 'that', 'would', 'raise', 'the', 'fee', 'to', 'per', 'one', 'way', 'trip', 'by'], ['in', 'september', 'the', 'white', 'house', 'propose', 'to', 'congress', 'a', 'immediate', 'increase', 'of', 'the', 'fee', 'to', 'a', 'minimum', 'of', 'per', 'one', 'way', 'trip', 'and', 'conjurer', 'propose', 'additional', 'yearly', 'increase', 'that', 'would', 'raise', 'the', 'fee', 'to', 'per', 'one', 'way', 'trip', 'by'], ['congress', 'may', 'consider', 'a', 'increase', 'in', 'the', 'fee', 'a', 'good', 'a', 'other', 'change', 'to', 'atsa', 'a', 'part', 'of', 'future', 'security', 'relate', 'legislation'], ['atsa', 'conjurer', 'allow', 'the', 'taxiway_safety_area', 'to', 'assess', 'a', 'aviation', 'security', 'infrastructure', 'fee', 'asif', 'on', 'each', 'airline'], ['the', 'company', 'and', 'many', 'other', 'airline', 'join', 'in', 'litigation', 'against', 'the', 'taxiway_safety_area', 'to', 'challenge', 'the', 'agency', 'increase', 'to', 'their', 'respective', 'asif', 'fee'], ['in', 'february', 'the', 'court', 'of', 'appeals', 'for', 'the', 'district', 'of', 'columbia', 'circuit', 'rule', 'that', 'the', 'increase', 'fee', 'be', 'excessive', 'and', 'remand', 'the', 'matt', 'to', 'the', 'taxiway_safety_area', 'to', 'determine', 'the', 'amount', 'of', 'the', 'excess'], ['in', 'june', 'the', 'taxiway_safety_area', 'make', 'a', 'partial', 'refund', 'of', 'million', 'to', 'the', 'company', 'for', 'prior', 'excess', 'fee', 'and', 'reduce', 'southwest', 'asif', 'fee', 'go', 'forward', 'by', 'million', 'annually'], ['in', 'june', 'the', 'taxiway_safety_area', 'make', 'a', 'partial', 'refund', 'of', 'million', 'to', 'the', 'company', 'for', 'prior', 'excess', 'fee', 'and', 'reduce', 'southwest', 'asif', 'fee', 'go', 'forward', 'by', 'million', 'annually'], ['in', 'addition', 'unlike', 'all', 'of', 'its', 'major', 'competitor', 'southwest', 'doe', 'not', 'charge', 'additional', 'fee', 'for', 'item', 'such', 'a', '1', 'and', '2', 'check', 'bag', 'flight', 'change', 'seat', 'selection', 'fuel', 'surcharge', 'snack', 'curb', 'side', 'checkin', 'and', 'telephone', 'reservation'], ['additionally', 'when', 'other', 'airline', 'reduce', 'their', 'capacity', 'airport', 'cost', 'be', 'then', 'allocate', 'among', 'a', 'few', 'numb', 'of', 'total', 'flight', 'which', 'have', 'result', 'in', 'increase', 'land', 'fee', 'and', 'other', 'cost', 'for', 'the', 'company'], ['the', 'complaint', 'allege', 'among', 'other', 'thing', 'that', 'airtran', 'attempt', 'to', 'monopolize', 'air', 'travel', 'in', 'violation', 'of', 'section', 'of', 'the', 'sherman', 'act', 'and', 'conspire', 'with', 'delta', 'in', 'impose', 'bag', 'fee', 'for', 'the', '1', 'item', 'of', 'check', 'luggage', 'in', 'violation', 'of', 'section', 'of', 'the', 'sherman', 'act'], ['the', 'initial', 'complaint', 'seek', 'treble', 'damage', 'on', 'behalf', 'of', 'a', 'putative', 'class', 'of', 'person', 'or', 'entity', 'in', 'the', 'united', 'states', 'who', 'directly', 'pay', 'delta', 'airtran', 'such', 'fee', 'on', 'domestic', 'flight', 'begin', 'december'], ['in', 'addition', 'to', 'treble', 'damage', 'for', 'the', 'amount', 'of', '1', 'baggage', 'fee', 'pay', 'to', 'airtran', 'and', 'to', 'delta', 'the', 'consolidated', 'amended', 'complaint', 'seek', 'injunctive', 'relief', 'against', 'a', 'broad', 'range', 'of', 'allege', 'anticompetitive', 'activity', 'a', 'good', 'a', 'fee'], ['in', 'addition', 'to', 'treble', 'damage', 'for', 'the', 'amount', 'of', '1', 'baggage', 'fee', 'pay', 'to', 'airtran', 'and', 'to', 'delta', 'the', 'consolidated', 'amended', 'complaint', 'seek', 'injunctive', 'relief', 'against', 'a', 'broad', 'range', 'of', 'allege', 'anticompetitive', 'activity', 'a', 'good', 'a', 'fee'], ['on', 'august', 'the', 'court', 'dismiss', 'claim', 'that', 'airtran', 'and', 'delta', 'have', 'violate', 'section', 'of', 'the', 'sherman', 'act', 'the', 'court', 'let', 'stand', 'the', 'claim', 'of', 'a', 'conspiracy', 'with', 'respect', 'to', 'the', 'imposition', 'of', 'a', '1', 'bag', 'fee', 'and', 'the', 'capacity', 'and', 'price', 'decision'], ['the', 'consolidate', 'florida', 'action', 'conjurer', 'seek', 'cost', 'and', 'disbursement', 'include', 'reasonable', 'and', 'fee', 'and', 'such', 'other', 'and', 'far', 'equitable', 'relief', 'a', 'the', 'court', 'may', 'deem', 'just', 'and', 'proper'], ['the', 'plaintiff', 'in', 'the', 'consolidate', 'florida', 'action', 'have', 'file', 'a', 'motion', 'seek', 'a', 'award', 'of', 'fee', 'in', 'the', 'amount', 'of', 'which', 'the', 'defendant', 'have', 'oppose'], ['the', 'complaint', 'allege', 'among', 'other', 'thing', 'that', 'airtran', 'attempt', 'to', 'monopolize', 'air', 'travel', 'in', 'violation', 'of', 'section', 'of', 'the', 'sherman', 'act', 'and', 'conspire', 'with', 'delta', 'in', 'impose', 'bag', 'fee', 'for', 'the', '1', 'item', 'of', 'check', 'luggage', 'in', 'violation', 'of', 'section', 'of', 'the', 'sherman', 'act'], ['the', 'initial', 'complaint', 'seek', 'treble', 'damage', 'on', 'behalf', 'of', 'a', 'putative', 'class', 'of', 'person', 'or', 'entity', 'in', 'the', 'united', 'states', 'who', 'directly', 'pay', 'delta', 'airtran', 'such', 'fee', 'on', 'domestic', 'flight', 'begin', 'december'], ['in', 'addition', 'to', 'treble', 'damage', 'for', 'the', 'amount', 'of', '1', 'baggage', 'fee', 'pay', 'to', 'airtran', 'and', 'to', 'delta', 'the', 'consolidated', 'amended', 'complaint', 'seek', 'injunctive', 'relief', 'against', 'a', 'broad', 'range', 'of', 'allege', 'anticompetitive', 'activity', 'a', 'good', 'a', 'fee'], ['in', 'addition', 'to', 'treble', 'damage', 'for', 'the', 'amount', 'of', '1', 'baggage', 'fee', 'pay', 'to', 'airtran', 'and', 'to', 'delta', 'the', 'consolidated', 'amended', 'complaint', 'seek', 'injunctive', 'relief', 'against', 'a', 'broad', 'range', 'of', 'allege', 'anticompetitive', 'activity', 'a', 'good', 'a', 'fee'], ['on', 'august', 'the', 'court', 'dismiss', 'claim', 'that', 'airtran', 'and', 'delta', 'have', 'violate', 'section', 'of', 'the', 'sherman', 'act', 'the', 'court', 'let', 'stand', 'the', 'claim', 'of', 'a', 'conspiracy', 'with', 'respect', 'to', 'the', 'imposition', 'of', 'a', '1', 'bag', 'fee', 'and', 'the', 'capacity', 'and', 'price', 'decision'], ['other', 'revenue', 'for', 'airtran', 'for', 'the', 'period', 'follow', 'the', 'acquisition', 'include', 'approximately', 'million', 'in', 'baggage', 'fee', 'collect', 'from', 'customers'], ['landing', 'fee', 'and', 'other', 'rental'], ['excluding', 'the', 'result', 'of', 'airtran', 'follow', 'the', 'acquisition', 'landing', 'fee', 'and', 'other', 'rental', 'expense', 'for', 'increase', 'by', 'million', 'or', 'percent', 'on', 'a', 'dollar', 'basis', 'compare', 'to'], ['on', 'a', 'per', 'available_seat_mile', 'basis', 'compare', 'to', 'consolidate', 'landing', 'fee', 'and', 'other', 'rental', 'expense', 'decrease', 'by', 'percent'], ['the', 'company', 'currently', 'expect', 'consolidate', 'landing', 'fee', 'and', 'other', 'rental', 'expense', 'for', '1', 'quarter', 'to', 'be', 'high', 'than', 'the', 'combine', '1', 'quarter', 'result', 'on', 'a', 'per', 'available_seat_mile', 'basis'], ['these', 'cost', 'primarily', 'consist', 'of', 'financial', 'advisory', 'fee', 'and', 'consult', 'severance', 'technology', 'and', 'facility', 'integration', 'expense'], ['approximately', 'percent', 'of', 'this', 'increase', 'be', 'a', 'result', 'of', 'revenue', 'relate', 'cost', 'such', 'a', 'credit', 'card', 'process', 'fee', 'associate', 'with', 'the', 'percent', 'increase', 'in', 'passenger', 'revenue', 'approximately', 'percent', 'be', 'due', 'to', 'technology', 'and', 'consult', 'cost', 'associate', 'with', 'complete', 'and', 'ongoing', 'project', 'and', 'approximately', 'percent', 'be', 'a', 'result', 'of', 'a', 'million', 'asset', 'impairment', 'relate', 'to', 'the', 'company', 'decision', 'not', 'to', 'equip', 'its', 'classic', 'aircraft', 'with', 'required_navigation_performance', 'capability'], ['landing', 'fee', 'and', 'other', 'rental', 'increase', 'million', 'on', 'a', 'dollar', 'basis', 'and', 'increase', 'percent', 'on', 'a', 'per', 'available_seat_mile', 'basis', 'compare', 'to'], ['on', 'both', 'a', 'dollar', 'and', 'a', 'per', 'available_seat_mile', 'basis', 'this', 'increase', 'primarily', 'be', 'due', 'to', 'a', 'increase', 'in', 'revenue', 'relate', 'cost', 'such', 'a', 'credit', 'card', 'interchange', 'fee', 'associate', 'with', 'the', 'percent', 'increase', 'in', 'passenger', 'revenue'], ['reimbursement', 'of', 'the', 'company', 'for', 'its', 'payment', 'of', 'facilities', 'payments', 'be', 'expect', 'to', 'be', 'make', 'through', 'recur', 'grind', 'rent', 'fee', 'and', 'other', 'revenue', 'collect', 'at', 'the', 'airport'], ['amounts', 'collect', 'from', 'passenger', 'for', 'ancillary', 'service', 'such', 'a', 'baggage', 'and', 'other', 'fee', 'be', 'generally', 'recognize', 'a', 'other', 'revenue', 'when', 'the', 'service', 'be', 'provide', 'which', 'be', 'typically', 'the', 'flight', 'date'], ['the', 'company', 'be', 'conjurer', 'require', 'to', 'collect', 'certain', 'taxis', 'and', 'fee', 'from', 'customers', 'on', 'behalf', 'of', 'government', 'agency', 'and', 'remit', 'this', 'back', 'to', 'the', 'applicable', 'governmental', 'entity', 'on', 'a', 'periodic', 'basis'], ['these', 'taxis', 'and', 'fee'], ['for', 'the', 'year', 'end', 'december', 'the', 'company', 'incur', 'consolidate', 'acquisition', 'relate', 'cost', 'of', 'million', 'primarily', 'consist', 'of', 'financial', 'advisory', 'fee', 'and', 'consult', 'severance', 'and', 'technology', 'integration', 'cost', 'and', 'facility', 'integration', 'expense'], ['for', 'aircraft', 'operate', 'lease', 'and', 'for', 'terminal', 'operation', 'lease', 'expense', 'be', 'include', 'in', 'aircraft', 'rental', 'and', 'in', 'landing', 'fee', 'and', 'other', 'rental', 'respectively', 'in', 'the', 'consolidated', 'statement', 'of', 'income'], ['airtran', 'business', 'class', 'fare', 'be', 'refundable', 'and', 'changeable', 'and', 'include', 'additional', 'perk', 'such', 'a', 'priority', 'board', 'oversized', 'seat', 'with', 'additional', 'leg', 'room', 'bonus', 'frequent', 'flyer', 'credit', 'no', '1', 'or', '2', 'bag', 'fee', 'and', 'complimentary', 'cocktail', 'onboard'], ['in', 'addition', 'southwest', 'a', 'list', 'and', 'a', 'list', 'preferred', 'rapid', 'rewards', 'members', 'book', 'on', 'airtran', 'be', 'eligible', 'for', 'reciprocal', 'elite', 'status', 'include', 'free', 'business', 'class', 'upgrade', 'no', 'baggage', 'fee', 'and', 'all', 'other', 'benefit', 'that', 'airtran', 'rewards', 'member', 'enjoy'], ['for', 'example', 'southwest', 'continue', 'to', 'be', 'the', 'only', 'major', 'airline', 'that', 'doe', 'not', 'impose', 'additional', 'fee', 'for', '1', 'and', '2', 'check', 'bag'], ['southwest', 'be', 'conjurer', 'the', 'only', 'major', 'airline', 'that', 'doe', 'not', 'impose', 'a', 'fee', 'on', 'any', 'of', 'its', 'fare', 'for', 'a', 'customer', 'change', 'in', 'flight', 'plan'], ['the', 'campaign', 'highlight', 'the', 'importance', 'to', 'southwest', 'of', 'customer', 'service', 'by', 'show', 'that', 'southwest', 'understand', 'plan', 'can', 'change', 'and', 'therefore', 'doe', 'not', 'charge', 'a', 'change', 'fee'], ['while', 'a', 'customer', 'may', 'pay', 'a', 'difference', 'in', 'airfare', 'the', 'customer', 'will', 'not', 'be', 'charge', 'a', 'change', 'fee', 'on', 'top', 'of', 'any', 'difference', 'in', 'airfare'], ['as', 'discuss', 'below', 'under', 'ancillary', 'services', 'and', 'fees', 'during', 'southwest', 'intend', 'to', 'implement', 'a', 'service', 'charge', 'for', 'reuse', 'of', 'fund', 'associate', 'with', 'wanna', 'get', 'away', 'ticket', 'that', 'be', 'not', 'cancel', 'or', 'change', 'prior', 'to', 'departure'], ['also', 'unlike', 'much', 'of', 'its', 'competitor', 'southwest', 'doe', 'not', 'impose', 'additional', 'fee', 'for', 'item', 'such', 'a', 'seat', 'selection', 'fuel', 'surcharge', 'snack', 'curb', 'side', 'checkin', 'and', 'telephone', 'reservation'], ['airtran', 'currently', 'charge', 'fee', 'for', 'check', 'baggage', 'carriage', 'of', 'pet', 'liquor', 'sale', 'advance', 'seat', 'assignment', 'call', 'center', 'service', 'priority', 'seat', 'selection', 'special', 'service', 'such', 'a', 'the', 'transportation', 'of', 'unaccompanied', 'minor', 'and', 'extension', 'or', 'transfer', 'of', 'miles', 'rewards', 'in', 'addition', 'to', 'fee', 'for', 'the', 'purchase', 'of', 'miles', 'rewards'], ['airtran', 'currently', 'charge', 'fee', 'for', 'check', 'baggage', 'carriage', 'of', 'pet', 'liquor', 'sale', 'advance', 'seat', 'assignment', 'call', 'center', 'service', 'priority', 'seat', 'selection', 'special', 'service', 'such', 'a', 'the', 'transportation', 'of', 'unaccompanied', 'minor', 'and', 'extension', 'or', 'transfer', 'of', 'miles', 'rewards', 'in', 'addition', 'to', 'fee', 'for', 'the', 'purchase', 'of', 'miles', 'rewards'], ['the', 'company', 'intend', 'upon', 'full', 'integration', 'of', 'airtran', 'to', 'have', 'a', 'consistent', 'product', 'offer', 'without', '1', 'or', '2', 'bag', 'fee', 'or', 'change', 'fee'], ['the', 'company', 'intend', 'upon', 'full', 'integration', 'of', 'airtran', 'to', 'have', 'a', 'consistent', 'product', 'offer', 'without', '1', 'or', '2', 'bag', 'fee', 'or', 'change', 'fee'], ['ii', 'require', 'airline', 'to', 'refund', 'any', 'check', 'bag', 'fee', 'for', 'permanently', 'lose', 'luggage'], ['iii', 'require', 'airline', 'to', 'prominently', 'disclose', 'all', 'potential', 'fee', 'for', 'optional', 'service', 'on', 'their', 'website', 'and', 'iv', 'require', 'airline', 'to', 'refund', 'passenger', 'fee', 'pay', 'for', 'ancillary', 'service', 'if', 'a', 'flight', 'cancel', 'or', 'oversell', 'and', 'a', 'passenger', 'be', 'unable', 'to', 'take', 'advantage', 'of', 'such', 'service'], ['iii', 'require', 'airline', 'to', 'prominently', 'disclose', 'all', 'potential', 'fee', 'for', 'optional', 'service', 'on', 'their', 'website', 'and', 'iv', 'require', 'airline', 'to', 'refund', 'passenger', 'fee', 'pay', 'for', 'ancillary', 'service', 'if', 'a', 'flight', 'cancel', 'or', 'oversell', 'and', 'a', 'passenger', 'be', 'unable', 'to', 'take', 'advantage', 'of', 'such', 'service'], ['effective', 'january', 'the', 'department_of_transportation', 'far', 'expand', 'the', 'passenger', 'protection', 'rule', 'by', 'implement', 'a', 'new', 'airfare', 'advertise', 'rule', 'the', 'full', 'fare', 'advertise', 'rule', 'that', 'require', 'all', 'advertise', 'airfares', 'to', 'include', 'mandate', 'taxis', 'and', 'fee', 'include', 'fuel', 'charge', 'and', 'security', 'fee'], ['effective', 'january', 'the', 'department_of_transportation', 'far', 'expand', 'the', 'passenger', 'protection', 'rule', 'by', 'implement', 'a', 'new', 'airfare', 'advertise', 'rule', 'the', 'full', 'fare', 'advertise', 'rule', 'that', 'require', 'all', 'advertise', 'airfares', 'to', 'include', 'mandate', 'taxis', 'and', 'fee', 'include', 'fuel', 'charge', 'and', 'security', 'fee'], ['other', 'new', 'and', 'expand', 'component', 'of', 'the', 'passenger', 'protection', 'rule', 'require', 'among', 'other', 'thing', 'that', 'i', 'passenger', 'be', 'allow', 'to', 'hold', 'a', 'reservation', 'for', 'up', 'to', 'hour', 'without', 'make', 'a', 'payment', 'ii', 'passenger', 'be', 'allow', 'to', 'cancel', 'a', 'pay', 'reservation', 'without', 'penalty', 'for', 'hour', 'after', 'the', 'reservation', 'be', 'make', 'a', 'long', 'a', 'the', 'reservation', 'be', 'make', 'at', 'little', 'seven', 'day', 'in', 'advance', 'of', 'travel', 'iii', 'fare', 'may', 'not', 'increase', 'after', 'purchase', 'iv', 'baggage', 'fee', 'must', 'be', 'disclose', 'to', 'the', 'passenger', 'at', 'the', 'time', 'of', 'book', 'v', 'the', 'same', 'baggage', 'allowance', 'and', 'fee', 'must', 'apply', 'throughout', 'a', 'passenger', 'trip', 'vi', 'baggage', 'fee', 'must', 'be', 'disclose', 'on', 'e', 'ticket', 'confirmation', 'and', 'vii', 'passenger', 'must', 'be', 'promptly', 'notify', 'in', 'the', 'event', 'of', 'delay', 'of', 'much', 'than', 'minute', 'or', 'if', 'there', 'be', 'a', 'cancellation', 'or', 'diversion', 'of', 'their', 'flight'], ['other', 'new', 'and', 'expand', 'component', 'of', 'the', 'passenger', 'protection', 'rule', 'require', 'among', 'other', 'thing', 'that', 'i', 'passenger', 'be', 'allow', 'to', 'hold', 'a', 'reservation', 'for', 'up', 'to', 'hour', 'without', 'make', 'a', 'payment', 'ii', 'passenger', 'be', 'allow', 'to', 'cancel', 'a', 'pay', 'reservation', 'without', 'penalty', 'for', 'hour', 'after', 'the', 'reservation', 'be', 'make', 'a', 'long', 'a', 'the', 'reservation', 'be', 'make', 'at', 'little', 'seven', 'day', 'in', 'advance', 'of', 'travel', 'iii', 'fare', 'may', 'not', 'increase', 'after', 'purchase', 'iv', 'baggage', 'fee', 'must', 'be', 'disclose', 'to', 'the', 'passenger', 'at', 'the', 'time', 'of', 'book', 'v', 'the', 'same', 'baggage', 'allowance', 'and', 'fee', 'must', 'apply', 'throughout', 'a', 'passenger', 'trip', 'vi', 'baggage', 'fee', 'must', 'be', 'disclose', 'on', 'e', 'ticket', 'confirmation', 'and', 'vii', 'passenger', 'must', 'be', 'promptly', 'notify', 'in', 'the', 'event', 'of', 'delay', 'of', 'much', 'than', 'minute', 'or', 'if', 'there', 'be', 'a', 'cancellation', 'or', 'diversion', 'of', 'their', 'flight'], ['other', 'new', 'and', 'expand', 'component', 'of', 'the', 'passenger', 'protection', 'rule', 'require', 'among', 'other', 'thing', 'that', 'i', 'passenger', 'be', 'allow', 'to', 'hold', 'a', 'reservation', 'for', 'up', 'to', 'hour', 'without', 'make', 'a', 'payment', 'ii', 'passenger', 'be', 'allow', 'to', 'cancel', 'a', 'pay', 'reservation', 'without', 'penalty', 'for', 'hour', 'after', 'the', 'reservation', 'be', 'make', 'a', 'long', 'a', 'the', 'reservation', 'be', 'make', 'at', 'little', 'seven', 'day', 'in', 'advance', 'of', 'travel', 'iii', 'fare', 'may', 'not', 'increase', 'after', 'purchase', 'iv', 'baggage', 'fee', 'must', 'be', 'disclose', 'to', 'the', 'passenger', 'at', 'the', 'time', 'of', 'book', 'v', 'the', 'same', 'baggage', 'allowance', 'and', 'fee', 'must', 'apply', 'throughout', 'a', 'passenger', 'trip', 'vi', 'baggage', 'fee', 'must', 'be', 'disclose', 'on', 'e', 'ticket', 'confirmation', 'and', 'vii', 'passenger', 'must', 'be', 'promptly', 'notify', 'in', 'the', 'event', 'of', 'delay', 'of', 'much', 'than', 'minute', 'or', 'if', 'there', 'be', 'a', 'cancellation', 'or', 'diversion', 'of', 'their', 'flight'], ['the', 'department_of_transportation', 'have', 'announce', 'its', 'intention', 'to', 'far', 'expand', 'the', 'passenger', 'protection', 'rule', 'with', 'particular', 'focus', 'on', 'the', 'public', 'disclosure', 'of', 'airline', 'impose', 'ancillary', 'fee', 'for', 'the', 'sale', 'of', 'optional', 'product', 'and', 'service'], ['in', 'july', 'the', 'department_of_transportation', 'propose', 'new', 'rule', 'that', 'would', 'require', 'airline', 'to', 'report', 'much', 'information', 'to', 'the', 'department_of_transportation', 'on', 'the', 'amount', 'and', 'type', 'of', 'ancillary', 'fee', 'collect', 'from', 'passenger', 'a', 'good', 'a', 'the', 'numb', 'of', 'check', 'bag', 'and', 'mishandle', 'wheelchair'], ['the', 'proposal', 'would', 'revise', 'current', 'report', 'requirement', 'to', 'increase', 'datum', 'collection', 'on', 'the', 'amount', 'airline', 'receive', 'from', 'different', 'specific', 'type', 'of', 'fee'], ['the', 'propose', 'rule', 'would', 'require', 'airline', 'to', 'report', 'category', 'of', 'fee', 'revenue'], ['for', 'instance', 'the', 'administration', 'have', 'propose', 'increase', 'the', 'per', 'enplanement', 'security', 'fee', 'which', 'be', 'assess', 'on', 'passenger', 'a', 'a', 'way', 'to', 'help', 'pay', 'for', 'deficit', 'reduction'], ['grants', 'to', 'airport', 'airport', 'bond', 'finance', 'may', 'conjurer', 'be', 'affect', 'through', 'future', 'deficit', 'reduction', 'legislation', 'which', 'can', 'result', 'in', 'high', 'fee', 'rate', 'and', 'charge', 'at', 'many', 'of', 'the', 'airport', 'the', 'company', 'serve'], ['enhanced', 'security', 'measure', 'have', 'conjurer', 'impact', 'the', 'company', 'business', 'through', 'the', 'imposition', 'of', 'security', 'fee', 'on', 'southwest', 'and', 'airtran', 'and', 'their', 'customers'], ['under', 'atsa', 'fund', 'for', 'passenger', 'security', 'be', 'provide', 'in', 'part', 'by', 'a', 'per', 'enplanement', 'security', 'fee', 'the', 'fee', 'subject', 'to', 'a', 'maximum', 'of', 'per', 'one', 'way', 'trip'], ['under', 'atsa', 'fund', 'for', 'passenger', 'security', 'be', 'provide', 'in', 'part', 'by', 'a', 'per', 'enplanement', 'security', 'fee', 'the', 'fee', 'subject', 'to', 'a', 'maximum', 'of', 'per', 'one', 'way', 'trip'], ['in', 'september', 'the', 'administration', 'propose', 'to', 'congress', 'a', 'immediate', 'increase', 'of', 'the', 'fee', 'to', 'a', 'minimum', 'of', 'per', 'one', 'way', 'trip', 'and', 'conjurer', 'propose', 'additional', 'yearly', 'increase', 'that', 'would', 'raise', 'the', 'fee', 'to', 'per', 'one', 'way', 'trip', 'by'], ['in', 'september', 'the', 'administration', 'propose', 'to', 'congress', 'a', 'immediate', 'increase', 'of', 'the', 'fee', 'to', 'a', 'minimum', 'of', 'per', 'one', 'way', 'trip', 'and', 'conjurer', 'propose', 'additional', 'yearly', 'increase', 'that', 'would', 'raise', 'the', 'fee', 'to', 'per', 'one', 'way', 'trip', 'by'], ['congress', 'may', 'consider', 'a', 'increase', 'in', 'the', 'fee', 'a', 'good', 'a', 'other', 'change', 'to', 'atsa', 'a', 'part', 'of', 'future', 'security', 'or', 'deficit', 'reduction', 'legislation'], ['atsa', 'conjurer', 'direct', 'the', 'taxiway_safety_area', 'to', 'assess', 'a', 'aviation', 'security', 'infrastructure', 'fee', 'asif', 'on', 'each', 'airline'], ['the', 'company', 'conjurer', 'believe', 'it', 'have', 'gain', 'a', 'competitive', 'advantage', 'by', 'differentiate', 'itself', 'from', 'all', 'of', 'its', 'major', 'competitor', 'by', 'not', 'charge', 'additional', 'fee', 'for', 'item', 'such', 'a', '1', 'and', '2', 'check', 'bag', 'flight', 'change', 'seat', 'selection', 'fuel', 'surcharge', 'snack', 'curb', 'side', 'checkin', 'and', 'telephone', 'reservation'], ['additionally', 'when', 'other', 'airline', 'reduce', 'their', 'capacity', 'airport', 'cost', 'be', 'then', 'allocate', 'among', 'a', 'few', 'numb', 'of', 'total', 'flight', 'which', 'have', 'result', 'in', 'increase', 'land', 'fee', 'and', 'other', 'cost', 'for', 'the', 'company'], ['the', 'complaint', 'allege', 'among', 'other', 'thing', 'that', 'airtran', 'attempt', 'to', 'monopolize', 'air', 'travel', 'in', 'violation', 'of', 'section', 'of', 'the', 'sherman', 'act', 'and', 'conspire', 'with', 'delta', 'in', 'impose', 'bag', 'fee', 'for', 'the', '1', 'item', 'of', 'check', 'luggage', 'in', 'violation', 'of', 'section', 'of', 'the', 'sherman', 'act'], ['the', 'initial', 'complaint', 'seek', 'treble', 'damage', 'on', 'behalf', 'of', 'a', 'putative', 'class', 'of', 'person', 'or', 'entity', 'in', 'the', 'united', 'states', 'who', 'directly', 'pay', 'delta', 'airtran', 'such', 'fee', 'on', 'domestic', 'flight', 'begin', 'december'], ['in', 'addition', 'to', 'treble', 'damage', 'for', 'the', 'amount', 'of', '1', 'baggage', 'fee', 'pay', 'to', 'airtran', 'and', 'to', 'delta', 'the', 'consolidated', 'amended', 'complaint', 'seek', 'injunctive', 'relief', 'against', 'a', 'broad', 'range', 'of', 'allege', 'anticompetitive', 'activity', 'a', 'good', 'a', 'fee'], ['in', 'addition', 'to', 'treble', 'damage', 'for', 'the', 'amount', 'of', '1', 'baggage', 'fee', 'pay', 'to', 'airtran', 'and', 'to', 'delta', 'the', 'consolidated', 'amended', 'complaint', 'seek', 'injunctive', 'relief', 'against', 'a', 'broad', 'range', 'of', 'allege', 'anticompetitive', 'activity', 'a', 'good', 'a', 'fee'], ['on', 'august', 'the', 'court', 'dismiss', 'claim', 'that', 'airtran', 'and', 'delta', 'have', 'violate', 'section', 'of', 'the', 'sherman', 'act', 'the', 'court', 'let', 'stand', 'the', 'claim', 'of', 'a', 'conspiracy', 'with', 'respect', 'to', 'the', 'imposition', 'of', 'a', '1', 'bag', 'fee', 'and', 'the', 'capacity', 'and', 'price', 'decision'], ['each', 'of', 'southwest', 'and', 'airtran', 'either', 'lease', 'or', 'pay', 'a', 'usage', 'fee', 'for', 'terminal', 'passenger', 'service', 'facility', 'at', 'each', 'of', 'the', 'airport', 'it', 'serve', 'to', 'which', 'various', 'leasehold', 'improvement', 'have', 'be', 'make'], ['the', 'complaint', 'allege', 'among', 'other', 'thing', 'that', 'airtran', 'attempt', 'to', 'monopolize', 'air', 'travel', 'in', 'violation', 'of', 'section', 'of', 'the', 'sherman', 'act', 'and', 'conspire', 'with', 'delta', 'in', 'impose', 'bag', 'fee', 'for', 'the', '1', 'item', 'of', 'check', 'luggage', 'in', 'violation', 'of', 'section', 'of', 'the', 'sherman', 'act'], ['the', 'initial', 'complaint', 'seek', 'treble', 'damage', 'on', 'behalf', 'of', 'a', 'putative', 'class', 'of', 'person', 'or', 'entity', 'in', 'the', 'united', 'states', 'who', 'directly', 'pay', 'delta', 'airtran', 'such', 'fee', 'on', 'domestic', 'flight', 'begin', 'december'], ['in', 'addition', 'to', 'treble', 'damage', 'for', 'the', 'amount', 'of', '1', 'baggage', 'fee', 'pay', 'to', 'airtran', 'and', 'to', 'delta', 'the', 'consolidated', 'amended', 'complaint', 'seek', 'injunctive', 'relief', 'against', 'a', 'broad', 'range', 'of', 'allege', 'anticompetitive', 'activity', 'a', 'good', 'a', 'fee'], ['in', 'addition', 'to', 'treble', 'damage', 'for', 'the', 'amount', 'of', '1', 'baggage', 'fee', 'pay', 'to', 'airtran', 'and', 'to', 'delta', 'the', 'consolidated', 'amended', 'complaint', 'seek', 'injunctive', 'relief', 'against', 'a', 'broad', 'range', 'of', 'allege', 'anticompetitive', 'activity', 'a', 'good', 'a', 'fee'], ['on', 'august', 'the', 'court', 'dismiss', 'claim', 'that', 'airtran', 'and', 'delta', 'have', 'violate', 'section', 'of', 'the', 'sherman', 'act', 'the', 'court', 'let', 'stand', 'the', 'claim', 'of', 'a', 'conspiracy', 'with', 'respect', 'to', 'the', 'imposition', 'of', 'a', '1', 'bag', 'fee', 'and', 'the', 'capacity', 'and', 'price', 'decision'], ['the', 'company', 'conjurer', 'announce', 'begin', 'in', 'february', 'it', 'will', 'increase', 'the', 'fee', 'charge', 'for', 'certain', 'check', 'baggage'], ['other', 'revenue', 'for', 'airtran', 'for', 'the', 'period', 'follow', 'the', 'acquisition', 'in', 'include', 'approximately', 'million', 'in', 'baggage', 'fee', 'collect', 'from', 'customers'], ['landing', 'fee', 'and', 'other', 'rental', 'expense', 'for', 'increase', 'by', 'million', 'or', 'percent', 'compare', 'to'], ['the', 'majority', 'of', 'the', 'dollar', 'increase', 'be', 'due', 'to', 'a', 'increase', 'in', 'rate', 'charge', 'by', 'airport', 'for', 'both', 'land', 'fee', 'and', 'space', 'rental', 'versus', 'the', 'same', 'prior', 'year', 'period'], ['in', 'addition', 'approximately', 'million', 'of', 'this', 'increase', 'be', 'due', 'to', 'the', 'inclusion', 'of', 'the', 'full', 'year', 'of', 'airtran', 'result', 'in', 'while', 'the', 'result', 'only', 'include', 'airtran', 'landing', 'fee', 'and', 'other', 'rental', 'expense', 'follow', 'the', 'acquisition', 'date'], ['on', 'a', 'per', 'available_seat_mile', 'basis', 'the', 'company', 'landing', 'fee', 'and', 'other', 'rental', 'expense', 'for', 'increase', 'by', 'percent', 'compare', 'to', 'primarily', 'due', 'to', 'high', 'rate', 'pay', 'for', 'airport', 'space'], ['the', 'company', 'currently', 'expect', 'landing', 'fee', 'and', 'other', 'rental', 'expense', 'for', '1', 'quarter', 'to', 'be', 'high', 'than', 'the', '1', 'quarter', 'result', 'on', 'a', 'per', 'available_seat_mile', 'basis'], ['this', 'increase', 'be', 'primarily', 'due', 'to', 'consult', 'fee', 'wifi', 'enplanement', 'fee', 'and', 'other', 'cost', 'associate', 'with', 'complete', 'and', 'ongoing', 'project', 'the', 'majority', 'of', 'which', 'be', 'relate', 'to', 'the', 'company', 'strategic', 'initiative', 'a', 'previously', 'discuss'], ['this', 'increase', 'be', 'primarily', 'due', 'to', 'consult', 'fee', 'wifi', 'enplanement', 'fee', 'and', 'other', 'cost', 'associate', 'with', 'complete', 'and', 'ongoing', 'project', 'the', 'majority', 'of', 'which', 'be', 'relate', 'to', 'the', 'company', 'strategic', 'initiative', 'a', 'previously', 'discuss'], ['consolidated', 'landing', 'fee', 'and', 'other', 'rental', 'expense', 'for', 'increase', 'by', 'million', 'or', 'percent', 'compare', 'to', 'of', 'which', 'approximately', 'million', 'be', 'due', 'to', 'the', 'inclusion', 'of', 'airtran', 'result', 'follow', 'the', 'may', 'acquisition', 'date'], ['excluding', 'the', 'result', 'of', 'airtran', 'landing', 'fee', 'and', 'other', 'rental', 'expense', 'for', 'increase', 'percent', 'on', 'a', 'dollar', 'basis', 'compare', 'to'], ['on', 'a', 'per', 'available_seat_mile', 'basis', 'compare', 'to', 'consolidate', 'landing', 'fee', 'and', 'other', 'rental', 'expense', 'decrease', 'by', 'percent'], ['these', 'cost', 'primarily', 'consist', 'of', 'financial', 'advisory', 'fee', 'and', 'consult', 'severance', 'technology', 'and', 'facility', 'integration', 'expense'], ['approximately', 'percent', 'of', 'this', 'increase', 'be', 'a', 'result', 'of', 'revenue', 'relate', 'cost', 'such', 'a', 'credit', 'card', 'process', 'fee', 'associate', 'with', 'a', 'increase', 'in', 'passenger', 'revenue', 'approximately', 'percent', 'be', 'due', 'to', 'technology', 'and', 'consult', 'cost', 'associate', 'with', 'complete', 'and', 'ongoing', 'project', 'and', 'approximately', 'percent', 'be', 'a', 'result', 'of', 'a', 'million', 'asset', 'impairment', 'relate', 'to', 'the', 'company', 'decision', 'not', 'to', 'equip', 'its', 'classic', 'aircraft', 'with', 'required_navigation_performance', 'capability'], ['reimbursement', 'of', 'the', 'company', 'for', 'its', 'payment', 'of', 'facilities', 'payments', 'be', 'expect', 'to', 'be', 'make', 'through', 'recur', 'grind', 'rent', 'fee', 'and', 'other', 'revenue', 'collect', 'at', 'the', 'airport'], ['amounts', 'collect', 'from', 'passenger', 'for', 'ancillary', 'service', 'such', 'a', 'baggage', 'and', 'other', 'fee', 'be', 'generally', 'recognize', 'a', 'other', 'revenue', 'when', 'the', 'service', 'be', 'provide', 'which', 'be', 'typically', 'the', 'flight', 'date'], ['the', 'company', 'be', 'conjurer', 'require', 'to', 'collect', 'certain', 'taxis', 'and', 'fee', 'from', 'customers', 'on', 'behalf', 'of', 'government', 'agency', 'and', 'remit', 'this', 'back', 'to', 'the', 'applicable', 'governmental', 'entity', 'on', 'a', 'periodic', 'basis'], ['these', 'taxis', 'and', 'fee', 'include', 'federal', 'transportation', 'taxis', 'federal', 'security', 'charge', 'and', 'airport', 'passenger', 'facility', 'charge'], ['the', 'company', 'incur', 'consolidate', 'acquisition', 'and', 'integration', 'relate', 'cost', 'for', 'the', 'year', 'end', 'december', 'and', 'of', 'million', 'million', 'and', 'million', 'respectively', 'primarily', 'consist', 'of', 'consult', 'financial', 'advisory', 'fee', 'severance', 'flight', 'crow', 'train', 'seniority', 'integration', 'technology', 'aircraft', 'relate', 'and', 'facility', 'integration', 'expense'], ['other', 'operate', 'expense', 'consist', 'of', 'distribution', 'cost', 'advertise', 'expense', 'personnel', 'expense', 'professional', 'fee', 'and', 'other', 'operate', 'cost', 'none', 'of', 'which', 'individually', 'exceed', 'percent', 'of', 'operating', 'expense'], ['for', 'aircraft', 'operate', 'lease', 'and', 'for', 'terminal', 'operation', 'lease', 'expense', 'be', 'include', 'in', 'aircraft', 'rental', 'and', 'in', 'landing', 'fee', 'and', 'other', 'rental', 'respectively', 'in', 'the', 'consolidated', 'statement', 'of', 'income'], ['airtran', 'business', 'class', 'fare', 'be', 'refundable', 'and', 'changeable', 'and', 'include', 'additional', 'perk', 'such', 'a', 'priority', 'board', 'oversized', 'seat', 'with', 'additional', 'leg', 'room', 'bonus', 'frequent', 'flyer', 'credit', 'no', '1', 'or', '2', 'bag', 'fee', 'and', 'complimentary', 'cocktail', 'onboard'], ['for', 'example', 'southwest', 'continue', 'to', 'be', 'the', 'only', 'major', 'airline', 'that', 'doe', 'not', 'impose', 'additional', 'fee', 'for', '1', 'and', '2', 'check', 'bag'], ['southwest', 'be', 'conjurer', 'the', 'only', 'major', 'airline', 'that', 'doe', 'not', 'impose', 'a', 'fee', 'on', 'any', 'of', 'its', 'fare', 'for', 'a', 'customer', 'change', 'in', 'flight', 'plan'], ['the', 'campaign', 'highlight', 'the', 'importance', 'to', 'southwest', 'of', 'customer', 'service', 'by', 'show', 'that', 'southwest', 'understand', 'plan', 'can', 'change', 'and', 'therefore', 'doe', 'not', 'charge', 'a', 'change', 'fee'], ['while', 'a', 'customer', 'may', 'pay', 'a', 'difference', 'in', 'airfare', 'the', 'customer', 'will', 'not', 'be', 'charge', 'a', 'change', 'fee', 'on', 'top', 'of', 'any', 'difference', 'in', 'airfare'], ['also', 'unlike', 'much', 'of', 'its', 'competitor', 'southwest', 'doe', 'not', 'impose', 'additional', 'fee', 'for', 'item', 'such', 'a', 'seat', 'selection', 'fuel', 'surcharge', 'snack', 'curb', 'side', 'checkin', 'and', 'telephone', 'reservation'], ['fare', 'at', 'little', 'ten', 'minute', 'prior', 'to', 'schedule', 'departure', 'in', 'this', 'case', 'customers', 'may', 'reuse', 'their', 'fund', 'toward', 'future', 'travel', 'on', 'southwest', 'without', 'a', 'change', 'fee', 'a', 'they', 'have', 'always', 'do'], ['airtran', 'currently', 'charge', 'fee', 'for', 'check', 'baggage', 'carriage', 'of', 'pet', 'liquor', 'sale', 'advance', 'seat', 'assignment', 'call', 'center', 'service', 'priority', 'seat', 'selection', 'special', 'service', 'such', 'a', 'the', 'transportation', 'of', 'unaccompanied', 'minor', 'and', 'extension', 'or', 'transfer', 'of', 'miles', 'rewards', 'in', 'addition', 'to', 'fee', 'for', 'the', 'purchase', 'of', 'miles', 'rewards'], ['airtran', 'currently', 'charge', 'fee', 'for', 'check', 'baggage', 'carriage', 'of', 'pet', 'liquor', 'sale', 'advance', 'seat', 'assignment', 'call', 'center', 'service', 'priority', 'seat', 'selection', 'special', 'service', 'such', 'a', 'the', 'transportation', 'of', 'unaccompanied', 'minor', 'and', 'extension', 'or', 'transfer', 'of', 'miles', 'rewards', 'in', 'addition', 'to', 'fee', 'for', 'the', 'purchase', 'of', 'miles', 'rewards'], ['the', 'passenger', 'protection', 'rules', 'conjurer', 'require', 'airline', 'to', 'i', 'pay', 'up', 'to', 'in', 'deny', 'board', 'compensation', 'to', 'passenger', 'bump', 'from', 'flight', 'ii', 'refund', 'any', 'check', 'bag', 'fee', 'for', 'permanently', 'lose', 'luggage', 'iii', 'prominently', 'disclose', 'all', 'potential', 'fee', 'for', 'optional', 'service', 'on', 'their', 'website', 'and', 'iv', 'refund', 'passenger', 'fee', 'pay', 'for', 'ancillary', 'service', 'if', 'a', 'flight', 'cancel', 'or', 'oversell', 'and', 'a', 'passenger', 'be', 'unable', 'to', 'take', 'advantage', 'of', 'such', 'service'], ['the', 'passenger', 'protection', 'rules', 'conjurer', 'require', 'airline', 'to', 'i', 'pay', 'up', 'to', 'in', 'deny', 'board', 'compensation', 'to', 'passenger', 'bump', 'from', 'flight', 'ii', 'refund', 'any', 'check', 'bag', 'fee', 'for', 'permanently', 'lose', 'luggage', 'iii', 'prominently', 'disclose', 'all', 'potential', 'fee', 'for', 'optional', 'service', 'on', 'their', 'website', 'and', 'iv', 'refund', 'passenger', 'fee', 'pay', 'for', 'ancillary', 'service', 'if', 'a', 'flight', 'cancel', 'or', 'oversell', 'and', 'a', 'passenger', 'be', 'unable', 'to', 'take', 'advantage', 'of', 'such', 'service'], ['the', 'passenger', 'protection', 'rules', 'conjurer', 'require', 'airline', 'to', 'i', 'pay', 'up', 'to', 'in', 'deny', 'board', 'compensation', 'to', 'passenger', 'bump', 'from', 'flight', 'ii', 'refund', 'any', 'check', 'bag', 'fee', 'for', 'permanently', 'lose', 'luggage', 'iii', 'prominently', 'disclose', 'all', 'potential', 'fee', 'for', 'optional', 'service', 'on', 'their', 'website', 'and', 'iv', 'refund', 'passenger', 'fee', 'pay', 'for', 'ancillary', 'service', 'if', 'a', 'flight', 'cancel', 'or', 'oversell', 'and', 'a', 'passenger', 'be', 'unable', 'to', 'take', 'advantage', 'of', 'such', 'service'], ['the', 'passenger', 'protection', 'rules', 'conjurer', 'require', 'that', 'i', 'advertise', 'airfares', 'include', 'all', 'government', 'mandate', 'taxis', 'and', 'fee', 'ii', 'passenger', 'be', 'allow', 'to', 'hold', 'a', 'reservation', 'for', 'up', 'to', 'hour', 'without', 'make', 'a', 'payment', 'iii', 'passenger', 'be', 'allow', 'to', 'cancel', 'a', 'pay', 'reservation', 'without', 'penalty', 'for', 'hour', 'after', 'the', 'reservation', 'be', 'make', 'a', 'long', 'a', 'the', 'reservation', 'be', 'make', 'at', 'little', 'seven', 'day', 'in', 'advance', 'of', 'travel', 'iv', 'fare', 'may', 'not', 'increase', 'after', 'purchase', 'v', 'baggage', 'fee', 'must', 'be', 'disclose', 'to', 'the', 'passenger', 'at', 'the', 'time', 'of', 'book', 'vi', 'the', 'same', 'baggage', 'allowance', 'and', 'fee', 'must', 'apply', 'throughout', 'a', 'passenger', 'trip', 'vii', 'baggage', 'fee', 'must', 'be', 'disclose', 'on', 'e', 'ticket', 'confirmation', 'and', 'viii', 'passenger', 'must', 'be', 'promptly', 'notify', 'in', 'the', 'event', 'of', 'delay', 'of', 'much', 'than', 'minute', 'or', 'if', 'there', 'be', 'a', 'cancellation', 'or', 'diversion', 'of', 'their', 'flight'], ['the', 'passenger', 'protection', 'rules', 'conjurer', 'require', 'that', 'i', 'advertise', 'airfares', 'include', 'all', 'government', 'mandate', 'taxis', 'and', 'fee', 'ii', 'passenger', 'be', 'allow', 'to', 'hold', 'a', 'reservation', 'for', 'up', 'to', 'hour', 'without', 'make', 'a', 'payment', 'iii', 'passenger', 'be', 'allow', 'to', 'cancel', 'a', 'pay', 'reservation', 'without', 'penalty', 'for', 'hour', 'after', 'the', 'reservation', 'be', 'make', 'a', 'long', 'a', 'the', 'reservation', 'be', 'make', 'at', 'little', 'seven', 'day', 'in', 'advance', 'of', 'travel', 'iv', 'fare', 'may', 'not', 'increase', 'after', 'purchase', 'v', 'baggage', 'fee', 'must', 'be', 'disclose', 'to', 'the', 'passenger', 'at', 'the', 'time', 'of', 'book', 'vi', 'the', 'same', 'baggage', 'allowance', 'and', 'fee', 'must', 'apply', 'throughout', 'a', 'passenger', 'trip', 'vii', 'baggage', 'fee', 'must', 'be', 'disclose', 'on', 'e', 'ticket', 'confirmation', 'and', 'viii', 'passenger', 'must', 'be', 'promptly', 'notify', 'in', 'the', 'event', 'of', 'delay', 'of', 'much', 'than', 'minute', 'or', 'if', 'there', 'be', 'a', 'cancellation', 'or', 'diversion', 'of', 'their', 'flight'], ['the', 'passenger', 'protection', 'rules', 'conjurer', 'require', 'that', 'i', 'advertise', 'airfares', 'include', 'all', 'government', 'mandate', 'taxis', 'and', 'fee', 'ii', 'passenger', 'be', 'allow', 'to', 'hold', 'a', 'reservation', 'for', 'up', 'to', 'hour', 'without', 'make', 'a', 'payment', 'iii', 'passenger', 'be', 'allow', 'to', 'cancel', 'a', 'pay', 'reservation', 'without', 'penalty', 'for', 'hour', 'after', 'the', 'reservation', 'be', 'make', 'a', 'long', 'a', 'the', 'reservation', 'be', 'make', 'at', 'little', 'seven', 'day', 'in', 'advance', 'of', 'travel', 'iv', 'fare', 'may', 'not', 'increase', 'after', 'purchase', 'v', 'baggage', 'fee', 'must', 'be', 'disclose', 'to', 'the', 'passenger', 'at', 'the', 'time', 'of', 'book', 'vi', 'the', 'same', 'baggage', 'allowance', 'and', 'fee', 'must', 'apply', 'throughout', 'a', 'passenger', 'trip', 'vii', 'baggage', 'fee', 'must', 'be', 'disclose', 'on', 'e', 'ticket', 'confirmation', 'and', 'viii', 'passenger', 'must', 'be', 'promptly', 'notify', 'in', 'the', 'event', 'of', 'delay', 'of', 'much', 'than', 'minute', 'or', 'if', 'there', 'be', 'a', 'cancellation', 'or', 'diversion', 'of', 'their', 'flight'], ['the', 'passenger', 'protection', 'rules', 'conjurer', 'require', 'that', 'i', 'advertise', 'airfares', 'include', 'all', 'government', 'mandate', 'taxis', 'and', 'fee', 'ii', 'passenger', 'be', 'allow', 'to', 'hold', 'a', 'reservation', 'for', 'up', 'to', 'hour', 'without', 'make', 'a', 'payment', 'iii', 'passenger', 'be', 'allow', 'to', 'cancel', 'a', 'pay', 'reservation', 'without', 'penalty', 'for', 'hour', 'after', 'the', 'reservation', 'be', 'make', 'a', 'long', 'a', 'the', 'reservation', 'be', 'make', 'at', 'little', 'seven', 'day', 'in', 'advance', 'of', 'travel', 'iv', 'fare', 'may', 'not', 'increase', 'after', 'purchase', 'v', 'baggage', 'fee', 'must', 'be', 'disclose', 'to', 'the', 'passenger', 'at', 'the', 'time', 'of', 'book', 'vi', 'the', 'same', 'baggage', 'allowance', 'and', 'fee', 'must', 'apply', 'throughout', 'a', 'passenger', 'trip', 'vii', 'baggage', 'fee', 'must', 'be', 'disclose', 'on', 'e', 'ticket', 'confirmation', 'and', 'viii', 'passenger', 'must', 'be', 'promptly', 'notify', 'in', 'the', 'event', 'of', 'delay', 'of', 'much', 'than', 'minute', 'or', 'if', 'there', 'be', 'a', 'cancellation', 'or', 'diversion', 'of', 'their', 'flight'], ['the', 'department_of_transportation', 'have', 'announce', 'its', 'intention', 'to', 'far', 'expand', 'the', 'passenger', 'protection', 'rules', 'with', 'particular', 'focus', 'on', 'the', 'public', 'disclosure', 'of', 'airline', 'impose', 'ancillary', 'fee', 'for', 'the', 'sale', 'of', 'optional', 'product', 'and', 'service'], ['the', 'department_of_transportation', 'have', 'conjurer', 'propose', 'new', 'rule', 'that', 'would', 'require', 'airline', 'to', 'report', 'much', 'information', 'to', 'the', 'department_of_transportation', 'on', 'the', 'amount', 'and', 'type', 'of', 'ancillary', 'fee', 'collect', 'from', 'passenger', 'a', 'good', 'a', 'the', 'numb', 'of', 'check', 'bag', 'and', 'mishandle', 'wheelchair'], ['the', 'proposal', 'would', 'revise', 'current', 'report', 'requirement', 'to', 'increase', 'datum', 'collection', 'on', 'the', 'amount', 'airline', 'receive', 'from', 'different', 'specific', 'type', 'of', 'fee'], ['the', 'propose', 'rule', 'would', 'require', 'airline', 'to', 'report', 'category', 'of', 'fee', 'revenue'], ['however', 'in', 'a', 'effort', 'to', 'reduce', 'the', 'federal', 'deficit', 'and', 'generate', 'much', 'government', 'revenue', 'congress', 'approve', 'legislation', 'in', 'december', 'that', 'will', 'generate', 'much', 'net', 'federal', 'revenue', 'by', 'i', 'increase', 'the', 'transportation', 'security', 'fee', 'pay', 'by', 'passenger', 'from', 'per', 'passenger', 'segment', 'to', 'per', 'one', 'way', 'passenger', 'trip', 'effective', 'july', 'and', 'ii', 'eliminate', 'a', 'duplicative', 'security', 'fee', 'pay', 'by', 'airline', 'directly', 'call', 'the', 'aviation', 'security', 'infrastructure', 'fee', 'effective', 'october'], ['however', 'in', 'a', 'effort', 'to', 'reduce', 'the', 'federal', 'deficit', 'and', 'generate', 'much', 'government', 'revenue', 'congress', 'approve', 'legislation', 'in', 'december', 'that', 'will', 'generate', 'much', 'net', 'federal', 'revenue', 'by', 'i', 'increase', 'the', 'transportation', 'security', 'fee', 'pay', 'by', 'passenger', 'from', 'per', 'passenger', 'segment', 'to', 'per', 'one', 'way', 'passenger', 'trip', 'effective', 'july', 'and', 'ii', 'eliminate', 'a', 'duplicative', 'security', 'fee', 'pay', 'by', 'airline', 'directly', 'call', 'the', 'aviation', 'security', 'infrastructure', 'fee', 'effective', 'october'], ['however', 'in', 'a', 'effort', 'to', 'reduce', 'the', 'federal', 'deficit', 'and', 'generate', 'much', 'government', 'revenue', 'congress', 'approve', 'legislation', 'in', 'december', 'that', 'will', 'generate', 'much', 'net', 'federal', 'revenue', 'by', 'i', 'increase', 'the', 'transportation', 'security', 'fee', 'pay', 'by', 'passenger', 'from', 'per', 'passenger', 'segment', 'to', 'per', 'one', 'way', 'passenger', 'trip', 'effective', 'july', 'and', 'ii', 'eliminate', 'a', 'duplicative', 'security', 'fee', 'pay', 'by', 'airline', 'directly', 'call', 'the', 'aviation', 'security', 'infrastructure', 'fee', 'effective', 'october'], ['in', 'congress', 'may', 'consider', 'comprehensive', 'tax', 'reform', 'legislation', 'which', 'can', 'result', 'in', 'a', 'low', 'corporate', 'tax', 'rate', 'and', 'the', 'elimination', 'of', 'certain', 'tax', 'deduction', 'and', 'preference', 'a', 'good', 'a', 'separate', 'legislation', 'that', 'can', 'increase', 'one', 'or', 'much', 'of', 'the', 'passenger', 'pay', 'fee', 'use', 'to', 'support', 'the', 'operation', 'of', 'customs', 'and', 'border', 'protection', 'cbp'], ['grants', 'to', 'airport', 'airport', 'bond', 'finance', 'may', 'conjurer', 'be', 'affect', 'through', 'future', 'deficit', 'reduction', 'legislation', 'which', 'can', 'result', 'in', 'high', 'fee', 'rate', 'and', 'charge', 'at', 'many', 'of', 'the', 'airport', 'the', 'company', 'serve'], ['the', 'company', 'conjurer', 'believe', 'it', 'have', 'gain', 'a', 'competitive', 'advantage', 'by', 'differentiate', 'southwest', 'from', 'all', 'of', 'its', 'major', 'competitor', 'by', 'not', 'charge', 'additional', 'fee', 'for', 'item', 'such', 'a', '1', 'and', '2', 'check', 'bag', 'flight', 'change', 'seat', 'selection', 'fuel', 'surcharge', 'snack', 'curb', 'side', 'checkin', 'and', 'telephone', 'reservation'], ['additionally', 'when', 'other', 'airline', 'reduce', 'their', 'capacity', 'airport', 'cost', 'be', 'then', 'allocate', 'among', 'a', 'few', 'numb', 'of', 'total', 'flight', 'which', 'can', 'result', 'in', 'increase', 'land', 'fee', 'and', 'other', 'cost', 'for', 'the', 'company'], ['the', 'complaint', 'allege', 'among', 'other', 'thing', 'that', 'airtran', 'attempt', 'to', 'monopolize', 'air', 'travel', 'in', 'violation', 'of', 'section', 'of', 'the', 'sherman', 'act', 'and', 'conspire', 'with', 'delta', 'in', 'impose', 'bag', 'fee', 'for', 'the', '1', 'item', 'of', 'check', 'luggage', 'in', 'violation', 'of', 'section', 'of', 'the', 'sherman', 'act'], ['the', 'initial', 'complaint', 'seek', 'treble', 'damage', 'on', 'behalf', 'of', 'a', 'putative', 'class', 'of', 'person', 'or', 'entity', 'in', 'the', 'united', 'states', 'who', 'directly', 'pay', 'delta', 'airtran', 'such', 'fee', 'on', 'domestic', 'flight', 'begin', 'december'], ['in', 'addition', 'to', 'treble', 'damage', 'for', 'the', 'amount', 'of', '1', 'baggage', 'fee', 'pay', 'to', 'airtran', 'and', 'to', 'delta', 'the', 'consolidated', 'amended', 'complaint', 'seek', 'injunctive', 'relief', 'against', 'a', 'broad', 'range', 'of', 'allege', 'anticompetitive', 'activity', 'a', 'good', 'a', 'fee'], ['in', 'addition', 'to', 'treble', 'damage', 'for', 'the', 'amount', 'of', '1', 'baggage', 'fee', 'pay', 'to', 'airtran', 'and', 'to', 'delta', 'the', 'consolidated', 'amended', 'complaint', 'seek', 'injunctive', 'relief', 'against', 'a', 'broad', 'range', 'of', 'allege', 'anticompetitive', 'activity', 'a', 'good', 'a', 'fee'], ['on', 'august', 'the', 'court', 'dismiss', 'claim', 'that', 'airtran', 'and', 'delta', 'have', 'violate', 'section', 'of', 'the', 'sherman', 'act', 'the', 'court', 'let', 'stand', 'the', 'claim', 'of', 'a', 'conspiracy', 'with', 'respect', 'to', 'the', 'imposition', 'of', 'a', '1', 'bag', 'fee', 'and', 'the', 'capacity', 'and', 'price', 'decision'], ['each', 'of', 'southwest', 'and', 'airtran', 'either', 'lease', 'or', 'pay', 'a', 'usage', 'fee', 'for', 'terminal', 'passenger', 'service', 'facility', 'at', 'each', 'of', 'the', 'airport', 'it', 'serve', 'to', 'which', 'various', 'leasehold', 'improvement', 'have', 'be', 'make'], ['the', 'complaint', 'allege', 'among', 'other', 'thing', 'that', 'airtran', 'attempt', 'to', 'monopolize', 'air', 'travel', 'in', 'violation', 'of', 'section', 'of', 'the', 'sherman', 'act', 'and', 'conspire', 'with', 'delta', 'in', 'impose', 'bag', 'fee', 'for', 'the', '1', 'item', 'of', 'check', 'luggage', 'in', 'violation', 'of', 'section', 'of', 'the', 'sherman', 'act'], ['the', 'initial', 'complaint', 'seek', 'treble', 'damage', 'on', 'behalf', 'of', 'a', 'putative', 'class', 'of', 'person', 'or', 'entity', 'in', 'the', 'united', 'states', 'who', 'directly', 'pay', 'delta', 'airtran', 'such', 'fee', 'on', 'domestic', 'flight', 'begin', 'december'], ['in', 'addition', 'to', 'treble', 'damage', 'for', 'the', 'amount', 'of', '1', 'baggage', 'fee', 'pay', 'to', 'airtran', 'and', 'to', 'delta', 'the', 'consolidated', 'amended', 'complaint', 'seek', 'injunctive', 'relief', 'against', 'a', 'broad', 'range', 'of', 'allege', 'anticompetitive', 'activity', 'a', 'good', 'a', 'fee'], ['in', 'addition', 'to', 'treble', 'damage', 'for', 'the', 'amount', 'of', '1', 'baggage', 'fee', 'pay', 'to', 'airtran', 'and', 'to', 'delta', 'the', 'consolidated', 'amended', 'complaint', 'seek', 'injunctive', 'relief', 'against', 'a', 'broad', 'range', 'of', 'allege', 'anticompetitive', 'activity', 'a', 'good', 'a', 'fee'], ['on', 'august', 'the', 'court', 'dismiss', 'claim', 'that', 'airtran', 'and', 'delta', 'have', 'violate', 'section', 'of', 'the', 'sherman', 'act', 'the', 'court', 'let', 'stand', 'the', 'claim', 'of', 'a', 'conspiracy', 'with', 'respect', 'to', 'the', 'imposition', 'of', 'a', '1', 'bag', 'fee', 'and', 'the', 'capacity', 'and', 'price', 'decision'], ['during', '1', 'quarter', 'southwest', 'begin', 'sell', 'open', 'premium', 'board', 'position', 'systemwide', 'at', 'the', 'gate', 'for', 'a', 'charge', 'per', 'flight', 'increase', 'the', 'amount', 'customers', 'pay', 'for', 'its', 'earlybird', 'check', 'in', 'product', 'from', 'per', 'one', 'way', 'ticket', 'to', 'per', 'one', 'way', 'ticket', 'and', 'increase', 'the', 'fee', 'charge', 'for', 'certain', 'check', 'excess', 'baggage'], ['other', 'revenue', 'for', 'include', 'approximately', 'million', 'in', 'baggage', 'fee', 'collect', 'from', 'airtran', 'customers', 'versus', 'approximately', 'million', 'for'], ['landing', 'fee', 'and', 'other', 'rental', 'expense', 'for', 'increase', 'by', 'million', 'or', 'percent', 'compare', 'to'], ['the', 'majority', 'of', 'the', 'dollar', 'increase', 'be', 'due', 'to', 'a', 'increase', 'in', 'rate', 'charge', 'by', 'airport', 'for', 'both', 'land', 'fee', 'and', 'space', 'rental', 'versus', 'the', 'same', 'prior', 'year', 'period'], ['in', 'addition', 'approximately', 'million', 'of', 'this', 'increase', 'be', 'due', 'to', 'the', 'inclusion', 'of', 'the', 'full', 'year', 'of', 'airtran', 'result', 'in', 'while', 'the', 'result', 'only', 'include', 'airtran', 'landing', 'fee', 'and', 'other', 'rental', 'expense', 'follow', 'the', 'acquisition', 'date'], ['on', 'a', 'per', 'available_seat_mile', 'basis', 'the', 'company', 'landing', 'fee', 'and', 'other', 'rental', 'expense', 'for', 'increase', 'by', 'percent', 'compare', 'to', 'primarily', 'due', 'to', 'high', 'rate', 'pay', 'for', 'airport', 'space'], ['this', 'increase', 'be', 'primarily', 'due', 'to', 'consult', 'fee', 'wifi', 'enplanement', 'fee', 'and', 'other', 'cost', 'associate', 'with', 'complete', 'and', 'ongoing', 'project', 'the', 'majority', 'of', 'which', 'be', 'relate', 'to', 'the', 'company', 'strategic', 'initiative', 'a', 'previously', 'discuss'], ['this', 'increase', 'be', 'primarily', 'due', 'to', 'consult', 'fee', 'wifi', 'enplanement', 'fee', 'and', 'other', 'cost', 'associate', 'with', 'complete', 'and', 'ongoing', 'project', 'the', 'majority', 'of', 'which', 'be', 'relate', 'to', 'the', 'company', 'strategic', 'initiative', 'a', 'previously', 'discuss'], ['landing', 'fee', 'and', 'other', 'rental', 'expense', 'for', 'increase', 'by', 'million', 'or', 'percent', 'compare', 'to'], ['on', 'a', 'per', 'available_seat_mile', 'basis', 'landing', 'fee', 'and', 'other', 'rental', 'expense', 'for', 'increase', 'percent', 'compare', 'to'], ['the', 'company', 'currently', 'expect', 'landing', 'fee', 'and', 'other', 'rental', 'expense', 'per', 'available_seat_mile', 'for', '1', 'quarter', 'to', 'increase', 'compare', 'to', '1', 'quarter'], ['reimbursement', 'of', 'the', 'company', 'for', 'its', 'payment', 'of', 'facilities', 'payments', 'be', 'expect', 'to', 'be', 'make', 'through', 'recur', 'grind', 'rent', 'fee', 'and', 'other', 'revenue', 'collect', 'at', 'the', 'airport'], ['amounts', 'collect', 'from', 'passenger', 'for', 'ancillary', 'service', 'such', 'a', 'baggage', 'and', 'other', 'fee', 'be', 'generally', 'recognize', 'a', 'other', 'revenue', 'when', 'the', 'service', 'be', 'provide', 'which', 'be', 'typically', 'the', 'flight', 'date'], ['the', 'company', 'be', 'conjurer', 'require', 'to', 'collect', 'certain', 'taxis', 'and', 'fee', 'from', 'customers', 'on', 'behalf', 'of', 'government', 'agency', 'and', 'remit', 'this', 'back', 'to', 'the', 'applicable', 'governmental', 'entity', 'on', 'a', 'periodic', 'basis'], ['these', 'taxis', 'and', 'fee', 'include', 'federal', 'transportation', 'taxis', 'federal', 'security', 'charge', 'and', 'airport', 'passenger', 'facility', 'charge'], ['the', 'company', 'incur', 'acquisition', 'and', 'integration', 'relate', 'cost', 'for', 'the', 'year', 'end', 'december', 'and', 'of', 'million', 'million', 'and', 'million', 'respectively', 'primarily', 'consist', 'of', 'cost', 'associate', 'with', 'the', 'lease', 'and', 'sublease', 'of', 'airtran', 'boeing', 'fleet', 'consult', 'employee', 'train', 'seniority', 'integration', 'financial', 'advisory', 'fee', 'severance', 'technology', 'integration', 'project', 'and', 'facility', 'integration', 'expense'], ['other', 'operate', 'expense', 'consist', 'of', 'distribution', 'cost', 'advertise', 'expense', 'personnel', 'expense', 'professional', 'fee', 'and', 'other', 'operate', 'cost', 'none', 'of', 'which', 'individually', 'exceed', 'percent', 'of', 'operating', 'expense'], ['for', 'aircraft', 'operate', 'lease', 'and', 'for', 'terminal', 'operation', 'lease', 'expense', 'be', 'include', 'in', 'aircraft', 'rental', 'and', 'in', 'landing', 'fee', 'and', 'other', 'rental', 'respectively', 'in', 'the', 'consolidated', 'statement', 'of', 'income'], ['in', 'addition', 'regardless', 'of', 'the', 'fare', 'product', 'southwest', 'doe', 'not', 'charge', 'fee', 'for', 'change', 'to', 'flight', 'reservation'], ['as', 'discuss', 'below', 'under', 'operating', 'strategies', 'and', 'initiatives', 'ancillary', 'services', 'and', 'fees'], ['airtran', 'business', 'class', 'fare', 'be', 'refundable', 'and', 'changeable', 'and', 'include', 'additional', 'perk', 'such', 'a', 'priority', 'board', 'oversized', 'seat', 'with', 'additional', 'leg', 'room', 'bonus', 'frequent', 'flyer', 'credit', 'no', '1', 'or', '2', 'bag', 'fee', 'and', 'complimentary', 'cocktail', 'onboard'], ['for', 'example', 'southwest', 'continue', 'to', 'be', 'the', 'only', 'major', 'airline', 'that', 'doe', 'not', 'impose', 'additional', 'fee', 'for', '1', 'and', '2', 'check', 'bag'], ['southwest', 'be', 'conjurer', 'the', 'only', 'major', 'airline', 'that', 'doe', 'not', 'impose', 'a', 'fee', 'on', 'any', 'of', 'its', 'fare', 'for', 'a', 'customer', 'change', 'in', 'flight', 'reservation'], ['the', 'campaign', 'highlight', 'the', 'importance', 'to', 'southwest', 'of', 'customer', 'service', 'by', 'show', 'that', 'southwest', 'understand', 'plan', 'can', 'change', 'and', 'therefore', 'doe', 'not', 'charge', 'a', 'change', 'fee'], ['while', 'a', 'customer', 'may', 'pay', 'a', 'difference', 'in', 'airfare', 'the', 'customer', 'will', 'not', 'be', 'charge', 'a', 'change', 'fee', 'on', 'top', 'of', 'any', 'difference', 'in', 'airfare'], ['also', 'unlike', 'much', 'of', 'its', 'competitor', 'southwest', 'doe', 'not', 'impose', 'additional', 'fee', 'for', 'item', 'such', 'a', 'seat', 'selection', 'fuel', 'surcharge', 'snack', 'curb', 'side', 'checkin', 'and', 'telephone', 'reservation'], ['fare', 'at', 'little', 'ten', 'minute', 'prior', 'to', 'schedule', 'departure', 'in', 'this', 'case', 'customers', 'may', 'reuse', 'their', 'fund', 'toward', 'future', 'travel', 'on', 'southwest', 'without', 'a', 'change', 'fee'], ['during', 'airtran', 'charge', 'fee', 'for', 'check', 'baggage', 'carriage', 'of', 'pet', 'liquor', 'sale', 'advance', 'seat', 'assignment', 'call', 'center', 'service', 'priority', 'seat', 'selection', 'special', 'service', 'such', 'a', 'the', 'transportation', 'of', 'unaccompanied', 'minor', 'and', 'extension', 'or', 'transfer', 'of', 'miles', 'rewards', 'in', 'addition', 'to', 'fee', 'for', 'the', 'purchase', 'of', 'miles', 'rewards'], ['during', 'airtran', 'charge', 'fee', 'for', 'check', 'baggage', 'carriage', 'of', 'pet', 'liquor', 'sale', 'advance', 'seat', 'assignment', 'call', 'center', 'service', 'priority', 'seat', 'selection', 'special', 'service', 'such', 'a', 'the', 'transportation', 'of', 'unaccompanied', 'minor', 'and', 'extension', 'or', 'transfer', 'of', 'miles', 'rewards', 'in', 'addition', 'to', 'fee', 'for', 'the', 'purchase', 'of', 'miles', 'rewards'], ['the', 'passenger', 'protection', 'rules', 'conjurer', 'require', 'airline', 'to', 'i', 'pay', 'up', 'to', 'in', 'deny', 'board', 'compensation', 'to', 'passenger', 'involuntarily', 'bump', 'from', 'flight', 'ii', 'refund', 'any', 'check', 'bag', 'fee', 'for', 'permanently', 'lose', 'luggage', 'iii', 'prominently', 'disclose', 'all', 'potential', 'fee', 'for', 'optional', 'service', 'on', 'their', 'website', 'and', 'iv', 'refund', 'passenger', 'fee', 'pay', 'for', 'ancillary', 'service', 'if', 'a', 'flight', 'cancel', 'or', 'oversell', 'and', 'a', 'passenger', 'be', 'unable', 'to', 'take', 'advantage', 'of', 'such', 'service'], ['the', 'passenger', 'protection', 'rules', 'conjurer', 'require', 'airline', 'to', 'i', 'pay', 'up', 'to', 'in', 'deny', 'board', 'compensation', 'to', 'passenger', 'involuntarily', 'bump', 'from', 'flight', 'ii', 'refund', 'any', 'check', 'bag', 'fee', 'for', 'permanently', 'lose', 'luggage', 'iii', 'prominently', 'disclose', 'all', 'potential', 'fee', 'for', 'optional', 'service', 'on', 'their', 'website', 'and', 'iv', 'refund', 'passenger', 'fee', 'pay', 'for', 'ancillary', 'service', 'if', 'a', 'flight', 'cancel', 'or', 'oversell', 'and', 'a', 'passenger', 'be', 'unable', 'to', 'take', 'advantage', 'of', 'such', 'service'], ['the', 'passenger', 'protection', 'rules', 'conjurer', 'require', 'airline', 'to', 'i', 'pay', 'up', 'to', 'in', 'deny', 'board', 'compensation', 'to', 'passenger', 'involuntarily', 'bump', 'from', 'flight', 'ii', 'refund', 'any', 'check', 'bag', 'fee', 'for', 'permanently', 'lose', 'luggage', 'iii', 'prominently', 'disclose', 'all', 'potential', 'fee', 'for', 'optional', 'service', 'on', 'their', 'website', 'and', 'iv', 'refund', 'passenger', 'fee', 'pay', 'for', 'ancillary', 'service', 'if', 'a', 'flight', 'cancel', 'or', 'oversell', 'and', 'a', 'passenger', 'be', 'unable', 'to', 'take', 'advantage', 'of', 'such', 'service'], ['the', 'passenger', 'protection', 'rules', 'conjurer', 'require', 'that', 'i', 'advertise', 'airfares', 'include', 'all', 'mandate', 'taxis', 'and', 'fee', 'ii', 'passenger', 'be', 'allow', 'to', 'hold', 'a', 'reservation', 'for', 'up', 'to', 'hour', 'without', 'make', 'a', 'payment', 'iii', 'passenger', 'be', 'allow', 'to', 'cancel', 'a', 'pay', 'reservation', 'without', 'penalty', 'for', 'hour', 'after', 'the', 'reservation', 'be', 'make', 'a', 'long', 'a', 'the', 'reservation', 'be', 'make', 'at', 'little', 'seven', 'day', 'in', 'advance', 'of', 'travel', 'iv', 'fare', 'may', 'not', 'increase', 'after', 'purchase', 'v', 'baggage', 'fee', 'must', 'be', 'disclose', 'to', 'the', 'passenger', 'at', 'the', 'time', 'of', 'book', 'vi', 'the', 'same', 'baggage', 'allowance', 'and', 'fee', 'must', 'apply', 'throughout', 'a', 'passenger', 'trip', 'vii', 'baggage', 'fee', 'must', 'be', 'disclose', 'on', 'e', 'ticket', 'confirmation', 'and', 'viii', 'passenger', 'must', 'be', 'promptly', 'notify', 'in', 'the', 'event', 'of', 'delay', 'of', 'much', 'than', 'minute', 'or', 'if', 'there', 'be', 'a', 'cancellation', 'or', 'diversion', 'of', 'their', 'flight'], ['the', 'passenger', 'protection', 'rules', 'conjurer', 'require', 'that', 'i', 'advertise', 'airfares', 'include', 'all', 'mandate', 'taxis', 'and', 'fee', 'ii', 'passenger', 'be', 'allow', 'to', 'hold', 'a', 'reservation', 'for', 'up', 'to', 'hour', 'without', 'make', 'a', 'payment', 'iii', 'passenger', 'be', 'allow', 'to', 'cancel', 'a', 'pay', 'reservation', 'without', 'penalty', 'for', 'hour', 'after', 'the', 'reservation', 'be', 'make', 'a', 'long', 'a', 'the', 'reservation', 'be', 'make', 'at', 'little', 'seven', 'day', 'in', 'advance', 'of', 'travel', 'iv', 'fare', 'may', 'not', 'increase', 'after', 'purchase', 'v', 'baggage', 'fee', 'must', 'be', 'disclose', 'to', 'the', 'passenger', 'at', 'the', 'time', 'of', 'book', 'vi', 'the', 'same', 'baggage', 'allowance', 'and', 'fee', 'must', 'apply', 'throughout', 'a', 'passenger', 'trip', 'vii', 'baggage', 'fee', 'must', 'be', 'disclose', 'on', 'e', 'ticket', 'confirmation', 'and', 'viii', 'passenger', 'must', 'be', 'promptly', 'notify', 'in', 'the', 'event', 'of', 'delay', 'of', 'much', 'than', 'minute', 'or', 'if', 'there', 'be', 'a', 'cancellation', 'or', 'diversion', 'of', 'their', 'flight'], ['the', 'passenger', 'protection', 'rules', 'conjurer', 'require', 'that', 'i', 'advertise', 'airfares', 'include', 'all', 'mandate', 'taxis', 'and', 'fee', 'ii', 'passenger', 'be', 'allow', 'to', 'hold', 'a', 'reservation', 'for', 'up', 'to', 'hour', 'without', 'make', 'a', 'payment', 'iii', 'passenger', 'be', 'allow', 'to', 'cancel', 'a', 'pay', 'reservation', 'without', 'penalty', 'for', 'hour', 'after', 'the', 'reservation', 'be', 'make', 'a', 'long', 'a', 'the', 'reservation', 'be', 'make', 'at', 'little', 'seven', 'day', 'in', 'advance', 'of', 'travel', 'iv', 'fare', 'may', 'not', 'increase', 'after', 'purchase', 'v', 'baggage', 'fee', 'must', 'be', 'disclose', 'to', 'the', 'passenger', 'at', 'the', 'time', 'of', 'book', 'vi', 'the', 'same', 'baggage', 'allowance', 'and', 'fee', 'must', 'apply', 'throughout', 'a', 'passenger', 'trip', 'vii', 'baggage', 'fee', 'must', 'be', 'disclose', 'on', 'e', 'ticket', 'confirmation', 'and', 'viii', 'passenger', 'must', 'be', 'promptly', 'notify', 'in', 'the', 'event', 'of', 'delay', 'of', 'much', 'than', 'minute', 'or', 'if', 'there', 'be', 'a', 'cancellation', 'or', 'diversion', 'of', 'their', 'flight'], ['the', 'passenger', 'protection', 'rules', 'conjurer', 'require', 'that', 'i', 'advertise', 'airfares', 'include', 'all', 'mandate', 'taxis', 'and', 'fee', 'ii', 'passenger', 'be', 'allow', 'to', 'hold', 'a', 'reservation', 'for', 'up', 'to', 'hour', 'without', 'make', 'a', 'payment', 'iii', 'passenger', 'be', 'allow', 'to', 'cancel', 'a', 'pay', 'reservation', 'without', 'penalty', 'for', 'hour', 'after', 'the', 'reservation', 'be', 'make', 'a', 'long', 'a', 'the', 'reservation', 'be', 'make', 'at', 'little', 'seven', 'day', 'in', 'advance', 'of', 'travel', 'iv', 'fare', 'may', 'not', 'increase', 'after', 'purchase', 'v', 'baggage', 'fee', 'must', 'be', 'disclose', 'to', 'the', 'passenger', 'at', 'the', 'time', 'of', 'book', 'vi', 'the', 'same', 'baggage', 'allowance', 'and', 'fee', 'must', 'apply', 'throughout', 'a', 'passenger', 'trip', 'vii', 'baggage', 'fee', 'must', 'be', 'disclose', 'on', 'e', 'ticket', 'confirmation', 'and', 'viii', 'passenger', 'must', 'be', 'promptly', 'notify', 'in', 'the', 'event', 'of', 'delay', 'of', 'much', 'than', 'minute', 'or', 'if', 'there', 'be', 'a', 'cancellation', 'or', 'diversion', 'of', 'their', 'flight'], ['the', 'department_of_transportation', 'propose', 'rule', 'would', 'among', 'other', 'thing', 'require', 'airline', 'to', 'share', 'with', 'ticket', 'agent', 'fee', 'information', 'for', 'basic', 'ancillary', 'service', 'include', 'fee', 'for', 'a', '1', 'check', 'bag', '2', 'check', 'bag', 'carry', 'on', 'item', 'and', 'advance', 'seat', 'selection'], ['the', 'department_of_transportation', 'propose', 'rule', 'would', 'among', 'other', 'thing', 'require', 'airline', 'to', 'share', 'with', 'ticket', 'agent', 'fee', 'information', 'for', 'basic', 'ancillary', 'service', 'include', 'fee', 'for', 'a', '1', 'check', 'bag', '2', 'check', 'bag', 'carry', 'on', 'item', 'and', 'advance', 'seat', 'selection'], ['the', 'department_of_transportation', 'have', 'conjurer', 'propose', 'rule', 'to', 'require', 'airline', 'to', 'report', 'much', 'information', 'to', 'the', 'department_of_transportation', 'on', 'the', 'amount', 'and', 'type', 'of', 'their', 'ancillary', 'fee'], ['however', 'in', 'a', 'effort', 'to', 'reduce', 'the', 'federal', 'deficit', 'and', 'generate', 'much', 'government', 'revenue', 'congress', 'approve', 'legislation', 'in', 'december', 'to', 'generate', 'much', 'net', 'federal', 'revenue', 'by', 'i', 'increase', 'the', 'transportation', 'security', 'fee', 'pay', 'by', 'passenger', 'from', 'per', 'passenger', 'segment', 'to', 'per', 'one', 'way', 'passenger', 'trip', 'effective', 'july', 'and', 'ii', 'eliminate', 'a', 'duplicative', 'security', 'fee', 'pay', 'by', 'airline', 'directly', 'call', 'the', 'aviation', 'security', 'infrastructure', 'fee', 'effective', 'october'], ['however', 'in', 'a', 'effort', 'to', 'reduce', 'the', 'federal', 'deficit', 'and', 'generate', 'much', 'government', 'revenue', 'congress', 'approve', 'legislation', 'in', 'december', 'to', 'generate', 'much', 'net', 'federal', 'revenue', 'by', 'i', 'increase', 'the', 'transportation', 'security', 'fee', 'pay', 'by', 'passenger', 'from', 'per', 'passenger', 'segment', 'to', 'per', 'one', 'way', 'passenger', 'trip', 'effective', 'july', 'and', 'ii', 'eliminate', 'a', 'duplicative', 'security', 'fee', 'pay', 'by', 'airline', 'directly', 'call', 'the', 'aviation', 'security', 'infrastructure', 'fee', 'effective', 'october'], ['however', 'in', 'a', 'effort', 'to', 'reduce', 'the', 'federal', 'deficit', 'and', 'generate', 'much', 'government', 'revenue', 'congress', 'approve', 'legislation', 'in', 'december', 'to', 'generate', 'much', 'net', 'federal', 'revenue', 'by', 'i', 'increase', 'the', 'transportation', 'security', 'fee', 'pay', 'by', 'passenger', 'from', 'per', 'passenger', 'segment', 'to', 'per', 'one', 'way', 'passenger', 'trip', 'effective', 'july', 'and', 'ii', 'eliminate', 'a', 'duplicative', 'security', 'fee', 'pay', 'by', 'airline', 'directly', 'call', 'the', 'aviation', 'security', 'infrastructure', 'fee', 'effective', 'october'], ['in', 'december', 'congress', 'cap', 'the', 'transportation', 'security', 'fee', 'at', 'per', 'round', 'trip'], ['in', 'congress', 'may', 'consider', 'comprehensive', 'tax', 'reform', 'legislation', 'which', 'can', 'result', 'in', 'a', 'low', 'corporate', 'tax', 'rate', 'and', 'the', 'elimination', 'of', 'certain', 'tax', 'deduction', 'and', 'preference', 'a', 'good', 'a', 'separate', 'legislation', 'that', 'can', 'increase', 'one', 'or', 'much', 'of', 'the', 'passenger', 'pay', 'fee', 'use', 'to', 'support', 'the', 'operation', 'of', 'customs', 'and', 'border', 'protection', 'cbp'], ['grants', 'to', 'airport', 'airport', 'bond', 'finance', 'may', 'conjurer', 'be', 'affect', 'through', 'future', 'legislation', 'which', 'can', 'result', 'in', 'high', 'fee', 'rate', 'and', 'charge', 'at', 'many', 'of', 'the', 'airport', 'the', 'company', 'serve'], ['the', 'company', 'conjurer', 'believe', 'it', 'have', 'gain', 'a', 'competitive', 'advantage', 'by', 'differentiate', 'southwest', 'from', 'all', 'of', 'its', 'major', 'competitor', 'by', 'not', 'charge', 'additional', 'fee', 'for', 'item', 'such', 'a', '1', 'and', '2', 'check', 'bag', 'flight', 'change', 'seat', 'selection', 'fuel', 'surcharge', 'snack', 'curb', 'side', 'checkin', 'and', 'telephone', 'reservation'], ['additionally', 'when', 'other', 'airline', 'reduce', 'their', 'capacity', 'airport', 'cost', 'be', 'then', 'allocate', 'among', 'a', 'few', 'numb', 'of', 'total', 'flight', 'which', 'can', 'result', 'in', 'increase', 'land', 'fee', 'and', 'other', 'cost', 'for', 'the', 'company'], ['the', 'company', 'initiative', 'and', 'result', 'of', 'operation', 'can', 'be', 'negative', 'affect', 'by', 'change', 'in', 'law', 'and', 'future', 'action', 'take', 'by', 'domestic', 'and', 'foreign', 'governmental', 'agency', 'have', 'jurisdiction', 'over', 'its', 'operation', 'include', 'but', 'not', 'limit', 'to', 'increase', 'in', 'airport', 'rate', 'and', 'charge', 'limitation', 'on', 'airport', 'gate', 'capacity', 'or', 'use', 'of', 'other', 'airport', 'facility', 'limitation', 'on', 'route', 'authority', 'action', 'and', 'decision', 'that', 'create', 'difficulty', 'in', 'obtain', 'access', 'at', 'slot', 'control', 'airport', 'action', 'and', 'decision', 'that', 'create', 'difficulty', 'in', 'obtain', 'operate', 'permit', 'and', 'approval', 'change', 'to', 'environmental', 'regulation', 'new', 'or', 'increase', 'taxis', 'or', 'fee', 'such', 'a', 'the', 'july', 'increase', 'transportation', 'security', 'fee', 'discuss', 'above', 'under', 'regulation', 'aviation', 'taxes', 'change', 'to', 'law', 'that', 'affect', 'the', 'service', 'that', 'can', 'be', 'offer', 'by', 'airline', 'in', 'particular', 'market', 'and', 'at', 'particular', 'airport', 'restriction', 'on', 'competitive', 'practice', 'change', 'in', 'law', 'that', 'increase', 'cost', 'for', 'safety', 'security', 'compliance', 'or', 'other', 'customer', 'service', 'standard', 'such', 'a', 'the', 'federal_aviation_administration', 'regulation', 'with', 'respect', 'to', 'pilot', 'flight', 'duty', 'time', 'limitation', 'and', 'rest', 'requirement', 'discuss', 'above', 'under', 'business', 'regulation', 'change', 'in', 'law', 'that', 'may', 'limit', 'the', 'company', 'ability', 'to', 'enter', 'into', 'fuel', 'derivative', 'contract', 'to', 'hedge', 'against', 'increase', 'in', 'fuel', 'price', 'change', 'in', 'law', 'that', 'may', 'limit', 'or', 'regulate', 'the', 'company', 'ability', 'to', 'promote', 'the', 'company', 'business', 'or', 'fare', 'and', 'the', 'adoption', 'of', 'much', 'restrictive', 'locally', 'impose', 'noise', 'regulation'], ['the', 'company', 'initiative', 'and', 'result', 'of', 'operation', 'can', 'be', 'negative', 'affect', 'by', 'change', 'in', 'law', 'and', 'future', 'action', 'take', 'by', 'domestic', 'and', 'foreign', 'governmental', 'agency', 'have', 'jurisdiction', 'over', 'its', 'operation', 'include', 'but', 'not', 'limit', 'to', 'increase', 'in', 'airport', 'rate', 'and', 'charge', 'limitation', 'on', 'airport', 'gate', 'capacity', 'or', 'use', 'of', 'other', 'airport', 'facility', 'limitation', 'on', 'route', 'authority', 'action', 'and', 'decision', 'that', 'create', 'difficulty', 'in', 'obtain', 'access', 'at', 'slot', 'control', 'airport', 'action', 'and', 'decision', 'that', 'create', 'difficulty', 'in', 'obtain', 'operate', 'permit', 'and', 'approval', 'change', 'to', 'environmental', 'regulation', 'new', 'or', 'increase', 'taxis', 'or', 'fee', 'such', 'a', 'the', 'july', 'increase', 'transportation', 'security', 'fee', 'discuss', 'above', 'under', 'regulation', 'aviation', 'taxes', 'change', 'to', 'law', 'that', 'affect', 'the', 'service', 'that', 'can', 'be', 'offer', 'by', 'airline', 'in', 'particular', 'market', 'and', 'at', 'particular', 'airport', 'restriction', 'on', 'competitive', 'practice', 'change', 'in', 'law', 'that', 'increase', 'cost', 'for', 'safety', 'security', 'compliance', 'or', 'other', 'customer', 'service', 'standard', 'such', 'a', 'the', 'federal_aviation_administration', 'regulation', 'with', 'respect', 'to', 'pilot', 'flight', 'duty', 'time', 'limitation', 'and', 'rest', 'requirement', 'discuss', 'above', 'under', 'business', 'regulation', 'change', 'in', 'law', 'that', 'may', 'limit', 'the', 'company', 'ability', 'to', 'enter', 'into', 'fuel', 'derivative', 'contract', 'to', 'hedge', 'against', 'increase', 'in', 'fuel', 'price', 'change', 'in', 'law', 'that', 'may', 'limit', 'or', 'regulate', 'the', 'company', 'ability', 'to', 'promote', 'the', 'company', 'business', 'or', 'fare', 'and', 'the', 'adoption', 'of', 'much', 'restrictive', 'locally', 'impose', 'noise', 'regulation'], ['the', 'complaint', 'allege', 'among', 'other', 'thing', 'that', 'airtran', 'attempt', 'to', 'monopolize', 'air', 'travel', 'in', 'violation', 'of', 'section', 'of', 'the', 'sherman', 'act', 'and', 'conspire', 'with', 'delta', 'in', 'impose', 'bag', 'fee', 'for', 'the', '1', 'item', 'of', 'check', 'luggage', 'in', 'violation', 'of', 'section', 'of', 'the', 'sherman', 'act'], ['the', 'initial', 'complaint', 'seek', 'treble', 'damage', 'on', 'behalf', 'of', 'a', 'putative', 'class', 'of', 'person', 'or', 'entity', 'in', 'the', 'united', 'states', 'who', 'directly', 'pay', 'delta', 'airtran', 'such', 'fee', 'on', 'domestic', 'flight', 'begin', 'december'], ['in', 'addition', 'to', 'treble', 'damage', 'for', 'the', 'amount', 'of', '1', 'baggage', 'fee', 'pay', 'to', 'airtran', 'and', 'to', 'delta', 'the', 'consolidated', 'amended', 'complaint', 'seek', 'injunctive', 'relief', 'against', 'a', 'broad', 'range', 'of', 'allege', 'anticompetitive', 'activity', 'a', 'good', 'a', 'fee'], ['in', 'addition', 'to', 'treble', 'damage', 'for', 'the', 'amount', 'of', '1', 'baggage', 'fee', 'pay', 'to', 'airtran', 'and', 'to', 'delta', 'the', 'consolidated', 'amended', 'complaint', 'seek', 'injunctive', 'relief', 'against', 'a', 'broad', 'range', 'of', 'allege', 'anticompetitive', 'activity', 'a', 'good', 'a', 'fee'], ['on', 'august', 'the', 'court', 'dismiss', 'claim', 'that', 'airtran', 'and', 'delta', 'have', 'violate', 'section', 'of', 'the', 'sherman', 'act', 'the', 'court', 'let', 'stand', 'the', 'claim', 'of', 'a', 'conspiracy', 'with', 'respect', 'to', 'the', 'imposition', 'of', 'a', '1', 'bag', 'fee', 'and', 'the', 'capacity', 'and', 'price', 'decision'], ['southwest', 'either', 'lease', 'or', 'pay', 'a', 'usage', 'fee', 'for', 'terminal', 'passenger', 'service', 'facility', 'at', 'each', 'of', 'the', 'airport', 'it', 'serve', 'to', 'which', 'various', 'leasehold', 'improvement', 'have', 'be', 'make'], ['the', 'complaint', 'allege', 'among', 'other', 'thing', 'that', 'airtran', 'attempt', 'to', 'monopolize', 'air', 'travel', 'in', 'violation', 'of', 'section', 'of', 'the', 'sherman', 'act', 'and', 'conspire', 'with', 'delta', 'in', 'impose', 'bag', 'fee', 'for', 'the', '1', 'item', 'of', 'check', 'luggage', 'in', 'violation', 'of', 'section', 'of', 'the', 'sherman', 'act'], ['the', 'initial', 'complaint', 'seek', 'treble', 'damage', 'on', 'behalf', 'of', 'a', 'putative', 'class', 'of', 'person', 'or', 'entity', 'in', 'the', 'united', 'states', 'who', 'directly', 'pay', 'delta', 'airtran', 'such', 'fee', 'on', 'domestic', 'flight', 'begin', 'december'], ['in', 'addition', 'to', 'treble', 'damage', 'for', 'the', 'amount', 'of', '1', 'baggage', 'fee', 'pay', 'to', 'airtran', 'and', 'to', 'delta', 'the', 'consolidated', 'amended', 'complaint', 'seek', 'injunctive', 'relief', 'against', 'a', 'broad', 'range', 'of', 'allege', 'anticompetitive', 'activity', 'a', 'good', 'a', 'fee'], ['in', 'addition', 'to', 'treble', 'damage', 'for', 'the', 'amount', 'of', '1', 'baggage', 'fee', 'pay', 'to', 'airtran', 'and', 'to', 'delta', 'the', 'consolidated', 'amended', 'complaint', 'seek', 'injunctive', 'relief', 'against', 'a', 'broad', 'range', 'of', 'allege', 'anticompetitive', 'activity', 'a', 'good', 'a', 'fee'], ['on', 'august', 'the', 'court', 'dismiss', 'claim', 'that', 'airtran', 'and', 'delta', 'have', 'violate', 'section', 'of', 'the', 'sherman', 'act', 'the', 'court', 'let', 'stand', 'the', 'claim', 'of', 'a', 'conspiracy', 'with', 'respect', 'to', 'the', 'imposition', 'of', 'a', '1', 'bag', 'fee', 'and', 'the', 'capacity', 'and', 'price', 'decision'], ['the', 'majority', 'of', 'the', 'decline', 'in', 'ancillary', 'revenue', 'be', 'due', 'to', 'the', 'adoption', 'of', 'southwest', 'much', 'customer', 'friendly', 'fee', 'policy', 'for', 'customers', 'who', 'purchase', 'travel', 'on', 'airtran', 'through', 'and', 'the', 'overall', 'reduction', 'in', 'airtran', 'flight', 'a', 'a', 'result', 'of', 'the', 'integration', 'process'], ['landing', 'fee', 'and', 'other', 'rental', 'expense', 'for', 'increase', 'by', 'million', 'or', 'percent', 'compare', 'with'], ['on', 'a', 'per', 'available_seat_mile', 'basis', 'landing', 'fee', 'and', 'other', 'rental', 'expense', 'for', 'be', 'flat', 'compare', 'with'], ['the', 'company', 'currently', 'expect', 'landing', 'fee', 'and', 'other', 'rental', 'expense', 'per', 'available_seat_mile', 'for', '1', 'quarter', 'to', 'increase', 'compare', 'with', '1', 'quarter'], ['this', 'be', 'primarily', 'due', 'to', 'a', 'decrease', 'in', 'ancillary', 'revenue', 'a', 'a', 'result', 'of', 'the', 'adoption', 'of', 'southwest', 'much', 'customer', 'friendly', 'fee', 'policy', 'for', 'customers', 'that', 'purchase', 'travel', 'on', 'airtran', 'through'], ['other', 'revenue', 'for', 'include', 'approximately', 'million', 'in', 'baggage', 'fee', 'collect', 'from', 'airtran', 'customers', 'versus', 'approximately', 'million', 'for'], ['landing', 'fee', 'and', 'other', 'rental', 'expense', 'for', 'increase', 'by', 'million', 'or', 'percent', 'compare', 'with'], ['on', 'a', 'per', 'available_seat_mile', 'basis', 'landing', 'fee', 'and', 'other', 'rental', 'expense', 'for', 'increase', 'percent', 'compare', 'with'], ['amounts', 'collect', 'from', 'passenger', 'for', 'ancillary', 'service', 'such', 'a', 'baggage', 'and', 'other', 'fee', 'be', 'generally', 'recognize', 'a', 'other', 'revenue', 'when', 'the', 'service', 'be', 'provide', 'which', 'be', 'typically', 'the', 'flight', 'date'], ['the', 'company', 'be', 'conjurer', 'require', 'to', 'collect', 'certain', 'taxis', 'and', 'fee', 'from', 'customers', 'on', 'behalf', 'of', 'government', 'agency', 'and', 'remit', 'this', 'back', 'to', 'the', 'applicable', 'governmental', 'entity', 'on', 'a', 'periodic', 'basis'], ['these', 'taxis', 'and', 'fee', 'include', 'federal', 'transportation', 'taxis', 'federal', 'security', 'charge', 'and', 'airport', 'passenger', 'facility', 'charge'], ['other', 'operate', 'expense', 'consist', 'of', 'distribution', 'cost', 'advertise', 'expense', 'personnel', 'expense', 'professional', 'fee', 'and', 'other', 'operate', 'cost', 'none', 'of', 'which', 'individually', 'exceed', 'percent', 'of', 'operating', 'expense'], ['for', 'aircraft', 'operate', 'lease', 'and', 'for', 'terminal', 'operation', 'lease', 'expense', 'be', 'include', 'in', 'aircraft', 'rental', 'and', 'in', 'landing', 'fee', 'and', 'other', 'rental', 'respectively', 'in', 'the', 'consolidated', 'statement', 'of', 'income'], ['because', 'we', 'lie', 'bare', 'hide', 'fee'], ['with', 'low', 'fare', 'and', 'transfarency', 'no', '1', 'and', '2', 'check', 'bag', 'no', 'change', 'fee', 'generous', 'frequent', 'flyer', 'award', 'with', 'low', 'fare', 'and', 'no', '2', 'class'], ['in', 'addition', 'regardless', 'of', 'the', 'fare', 'product', 'southwest', 'doe', 'not', 'charge', 'fee', 'for', 'change', 'to', 'flight', 'reservation'], ['no', 'show', 'policy', 'fund', 'may', 'be', 'apply', 'to', 'future', 'travel', 'on', 'southwest', 'without', 'a', 'change', 'fee'], ['the', 'campaign', 'emphasize', 'southwest', 'approach', 'to', 'treat', 'customers', 'fairly', 'honestly', 'and', 'respectfully', 'with', 'its', 'low', 'fare', 'and', 'no', 'unexpected', 'bag', 'fee', 'change', 'fee', 'or', 'hide', 'fee'], ['the', 'campaign', 'emphasize', 'southwest', 'approach', 'to', 'treat', 'customers', 'fairly', 'honestly', 'and', 'respectfully', 'with', 'its', 'low', 'fare', 'and', 'no', 'unexpected', 'bag', 'fee', 'change', 'fee', 'or', 'hide', 'fee'], ['the', 'campaign', 'emphasize', 'southwest', 'approach', 'to', 'treat', 'customers', 'fairly', 'honestly', 'and', 'respectfully', 'with', 'its', 'low', 'fare', 'and', 'no', 'unexpected', 'bag', 'fee', 'change', 'fee', 'or', 'hide', 'fee'], ['southwest', 'be', 'conjurer', 'the', 'only', 'major', 'airline', 'that', 'doe', 'not', 'charge', 'a', 'fee', 'on', 'any', 'of', 'its', 'fare', 'for', 'a', 'customer', 'change', 'in', 'flight', 'reservation'], ['the', 'campaign', 'highlight', 'the', 'importance', 'to', 'southwest', 'of', 'customer', 'service', 'by', 'show', 'that', 'southwest', 'understand', 'plan', 'can', 'change', 'and', 'therefore', 'doe', 'not', 'charge', 'a', 'change', 'fee'], ['while', 'a', 'customer', 'may', 'pay', 'a', 'difference', 'in', 'airfare', 'the', 'customer', 'will', 'not', 'be', 'charge', 'a', 'change', 'fee', 'on', 'top', 'of', 'any', 'difference', 'in', 'airfare'], ['also', 'unlike', 'much', 'of', 'its', 'competitor', 'southwest', 'doe', 'not', 'impose', 'additional', 'fee', 'for', 'item', 'such', 'a', 'seat', 'selection', 'snack', 'curb', 'side', 'check', 'in', 'and', 'telephone', 'reservation'], ['the', 'passenger', 'protection', 'rules', 'conjurer', 'require', 'airline', 'to', 'i', 'pay', 'up', 'to', 'in', 'deny', 'board', 'compensation', 'to', 'each', 'passenger', 'involuntarily', 'bump', 'from', 'a', 'flight', 'ii', 'refund', 'any', 'check', 'bag', 'fee', 'for', 'permanently', 'lose', 'luggage', 'iii', 'prominently', 'disclose', 'all', 'potential', 'fee', 'for', 'optional', 'ancillary', 'service', 'on', 'their', 'website', 'and', 'iv', 'refund', 'passenger', 'fee', 'pay', 'for', 'ancillary', 'service', 'if', 'a', 'flight', 'cancel', 'or', 'oversell', 'and', 'a', 'passenger', 'be', 'unable', 'to', 'take', 'advantage', 'of', 'such', 'service'], ['the', 'passenger', 'protection', 'rules', 'conjurer', 'require', 'airline', 'to', 'i', 'pay', 'up', 'to', 'in', 'deny', 'board', 'compensation', 'to', 'each', 'passenger', 'involuntarily', 'bump', 'from', 'a', 'flight', 'ii', 'refund', 'any', 'check', 'bag', 'fee', 'for', 'permanently', 'lose', 'luggage', 'iii', 'prominently', 'disclose', 'all', 'potential', 'fee', 'for', 'optional', 'ancillary', 'service', 'on', 'their', 'website', 'and', 'iv', 'refund', 'passenger', 'fee', 'pay', 'for', 'ancillary', 'service', 'if', 'a', 'flight', 'cancel', 'or', 'oversell', 'and', 'a', 'passenger', 'be', 'unable', 'to', 'take', 'advantage', 'of', 'such', 'service'], ['the', 'passenger', 'protection', 'rules', 'conjurer', 'require', 'airline', 'to', 'i', 'pay', 'up', 'to', 'in', 'deny', 'board', 'compensation', 'to', 'each', 'passenger', 'involuntarily', 'bump', 'from', 'a', 'flight', 'ii', 'refund', 'any', 'check', 'bag', 'fee', 'for', 'permanently', 'lose', 'luggage', 'iii', 'prominently', 'disclose', 'all', 'potential', 'fee', 'for', 'optional', 'ancillary', 'service', 'on', 'their', 'website', 'and', 'iv', 'refund', 'passenger', 'fee', 'pay', 'for', 'ancillary', 'service', 'if', 'a', 'flight', 'cancel', 'or', 'oversell', 'and', 'a', 'passenger', 'be', 'unable', 'to', 'take', 'advantage', 'of', 'such', 'service'], ['the', 'passenger', 'protection', 'rules', 'conjurer', 'require', 'that', 'i', 'advertise', 'airfares', 'include', 'all', 'mandate', 'taxis', 'and', 'fee', 'ii', 'passenger', 'be', 'allow', 'to', 'hold', 'a', 'reservation', 'for', 'up', 'to', 'hour', 'without', 'make', 'a', 'payment', 'iii', 'passenger', 'be', 'allow', 'to', 'cancel', 'a', 'pay', 'reservation', 'without', 'penalty', 'for', 'hour', 'after', 'the', 'reservation', 'be', 'make', 'a', 'long', 'a', 'the', 'reservation', 'be', 'make', 'at', 'little', 'seven', 'day', 'in', 'advance', 'of', 'travel', 'iv', 'fare', 'may', 'not', 'increase', 'after', 'purchase', 'v', 'baggage', 'fee', 'must', 'be', 'disclose', 'to', 'the', 'passenger', 'at', 'the', 'time', 'of', 'book', 'vi', 'the', 'same', 'baggage', 'allowance', 'and', 'fee', 'must', 'apply', 'throughout', 'a', 'passenger', 'trip', 'vii', 'baggage', 'fee', 'must', 'be', 'disclose', 'on', 'e', 'ticket', 'confirmation', 'and', 'viii', 'passenger', 'must', 'be', 'promptly', 'notify', 'in', 'the', 'event', 'of', 'delay', 'of', 'much', 'than', 'minute', 'or', 'if', 'there', 'be', 'a', 'cancellation', 'or', 'diversion', 'of', 'their', 'flight'], ['the', 'passenger', 'protection', 'rules', 'conjurer', 'require', 'that', 'i', 'advertise', 'airfares', 'include', 'all', 'mandate', 'taxis', 'and', 'fee', 'ii', 'passenger', 'be', 'allow', 'to', 'hold', 'a', 'reservation', 'for', 'up', 'to', 'hour', 'without', 'make', 'a', 'payment', 'iii', 'passenger', 'be', 'allow', 'to', 'cancel', 'a', 'pay', 'reservation', 'without', 'penalty', 'for', 'hour', 'after', 'the', 'reservation', 'be', 'make', 'a', 'long', 'a', 'the', 'reservation', 'be', 'make', 'at', 'little', 'seven', 'day', 'in', 'advance', 'of', 'travel', 'iv', 'fare', 'may', 'not', 'increase', 'after', 'purchase', 'v', 'baggage', 'fee', 'must', 'be', 'disclose', 'to', 'the', 'passenger', 'at', 'the', 'time', 'of', 'book', 'vi', 'the', 'same', 'baggage', 'allowance', 'and', 'fee', 'must', 'apply', 'throughout', 'a', 'passenger', 'trip', 'vii', 'baggage', 'fee', 'must', 'be', 'disclose', 'on', 'e', 'ticket', 'confirmation', 'and', 'viii', 'passenger', 'must', 'be', 'promptly', 'notify', 'in', 'the', 'event', 'of', 'delay', 'of', 'much', 'than', 'minute', 'or', 'if', 'there', 'be', 'a', 'cancellation', 'or', 'diversion', 'of', 'their', 'flight'], ['the', 'passenger', 'protection', 'rules', 'conjurer', 'require', 'that', 'i', 'advertise', 'airfares', 'include', 'all', 'mandate', 'taxis', 'and', 'fee', 'ii', 'passenger', 'be', 'allow', 'to', 'hold', 'a', 'reservation', 'for', 'up', 'to', 'hour', 'without', 'make', 'a', 'payment', 'iii', 'passenger', 'be', 'allow', 'to', 'cancel', 'a', 'pay', 'reservation', 'without', 'penalty', 'for', 'hour', 'after', 'the', 'reservation', 'be', 'make', 'a', 'long', 'a', 'the', 'reservation', 'be', 'make', 'at', 'little', 'seven', 'day', 'in', 'advance', 'of', 'travel', 'iv', 'fare', 'may', 'not', 'increase', 'after', 'purchase', 'v', 'baggage', 'fee', 'must', 'be', 'disclose', 'to', 'the', 'passenger', 'at', 'the', 'time', 'of', 'book', 'vi', 'the', 'same', 'baggage', 'allowance', 'and', 'fee', 'must', 'apply', 'throughout', 'a', 'passenger', 'trip', 'vii', 'baggage', 'fee', 'must', 'be', 'disclose', 'on', 'e', 'ticket', 'confirmation', 'and', 'viii', 'passenger', 'must', 'be', 'promptly', 'notify', 'in', 'the', 'event', 'of', 'delay', 'of', 'much', 'than', 'minute', 'or', 'if', 'there', 'be', 'a', 'cancellation', 'or', 'diversion', 'of', 'their', 'flight'], ['the', 'passenger', 'protection', 'rules', 'conjurer', 'require', 'that', 'i', 'advertise', 'airfares', 'include', 'all', 'mandate', 'taxis', 'and', 'fee', 'ii', 'passenger', 'be', 'allow', 'to', 'hold', 'a', 'reservation', 'for', 'up', 'to', 'hour', 'without', 'make', 'a', 'payment', 'iii', 'passenger', 'be', 'allow', 'to', 'cancel', 'a', 'pay', 'reservation', 'without', 'penalty', 'for', 'hour', 'after', 'the', 'reservation', 'be', 'make', 'a', 'long', 'a', 'the', 'reservation', 'be', 'make', 'at', 'little', 'seven', 'day', 'in', 'advance', 'of', 'travel', 'iv', 'fare', 'may', 'not', 'increase', 'after', 'purchase', 'v', 'baggage', 'fee', 'must', 'be', 'disclose', 'to', 'the', 'passenger', 'at', 'the', 'time', 'of', 'book', 'vi', 'the', 'same', 'baggage', 'allowance', 'and', 'fee', 'must', 'apply', 'throughout', 'a', 'passenger', 'trip', 'vii', 'baggage', 'fee', 'must', 'be', 'disclose', 'on', 'e', 'ticket', 'confirmation', 'and', 'viii', 'passenger', 'must', 'be', 'promptly', 'notify', 'in', 'the', 'event', 'of', 'delay', 'of', 'much', 'than', 'minute', 'or', 'if', 'there', 'be', 'a', 'cancellation', 'or', 'diversion', 'of', 'their', 'flight'], ['first', 'the', 'propose', 'rule', 'would', 'require', 'airline', 'to', 'share', 'with', 'ticket', 'agent', 'fee', 'information', 'for', 'basic', 'ancillary', 'service', 'include', 'fee', 'for', 'a', '1', 'check', 'bag', '2', 'check', 'bag', 'carry', 'on', 'item', 'and', 'advance', 'seat', 'selection'], ['first', 'the', 'propose', 'rule', 'would', 'require', 'airline', 'to', 'share', 'with', 'ticket', 'agent', 'fee', 'information', 'for', 'basic', 'ancillary', 'service', 'include', 'fee', 'for', 'a', '1', 'check', 'bag', '2', 'check', 'bag', 'carry', 'on', 'item', 'and', 'advance', 'seat', 'selection'], ['congress', 'have', 'set', 'the', 'transportation', 'security', 'fee', 'pay', 'by', 'passenger', 'at', 'per', 'one', 'way', 'passenger', 'trip'], ['in', 'december', 'congress', 'enact', 'another', 'statute', 'that', 'index', 'immigration', 'and', 'custom', 'fee', 'to', 'inflation', 'begin', 'in'], ['these', 'two', 'fee', 'be', 'pay', 'by', 'inbound', 'international', 'passenger', 'and', 'be', 'use', 'to', 'support', 'the', 'operation', 'of', 'customs', 'and', 'border', 'protection', 'cbp'], ['finally', 'the', 'department', 'of', 'agriculture', 'animal', 'and', 'plant', 'health', 'inspection', 'service', 'publish', 'a', 'final', 'regulation', 'in', 'october', 'that', 'modify', 'international', 'agriculture', 'inspection', 'fee'], ['under', 'this', 'new', 'rule', 'effective', 'december', 'the', 'per', 'passenger', 'agriculture', 'inspection', 'fee', 'be', 'and', 'the', 'per', 'commercial', 'aircraft', 'fee', 'be', 'in', 'in', 'addition', 'to', 'federal_aviation_administration', 'reauthorization', 'legislation', 'congress', 'may', 'consider', 'comprehensive', 'tax', 'reform', 'legislation', 'which', 'can', 'result', 'in', 'a', 'low', 'corporate', 'tax', 'rate', 'and', 'the', 'elimination', 'of', 'certain', 'tax', 'deduction', 'and', 'preference'], ['under', 'this', 'new', 'rule', 'effective', 'december', 'the', 'per', 'passenger', 'agriculture', 'inspection', 'fee', 'be', 'and', 'the', 'per', 'commercial', 'aircraft', 'fee', 'be', 'in', 'in', 'addition', 'to', 'federal_aviation_administration', 'reauthorization', 'legislation', 'congress', 'may', 'consider', 'comprehensive', 'tax', 'reform', 'legislation', 'which', 'can', 'result', 'in', 'a', 'low', 'corporate', 'tax', 'rate', 'and', 'the', 'elimination', 'of', 'certain', 'tax', 'deduction', 'and', 'preference'], ['grants', 'to', 'airport', 'airport', 'bond', 'finance', 'may', 'conjurer', 'be', 'affect', 'through', 'future', 'legislation', 'which', 'can', 'result', 'in', 'high', 'fee', 'rate', 'and', 'charge', 'at', 'many', 'of', 'the', 'airport', 'the', 'company', 'serve'], ['the', 'company', 'conjurer', 'believe', 'it', 'have', 'gain', 'a', 'competitive', 'advantage', 'by', 'differentiate', 'southwest', 'from', 'all', 'of', 'its', 'major', 'competitor', 'by', 'not', 'charge', 'additional', 'fee', 'for', 'item', 'such', 'a', '1', 'and', '2', 'check', 'bag', 'flight', 'change', 'seat', 'selection', 'snack', 'curb', 'side', 'check', 'in', 'and', 'telephone', 'reservation'], ['additionally', 'when', 'other', 'airline', 'reduce', 'their', 'capacity', 'airport', 'cost', 'be', 'then', 'allocate', 'among', 'a', 'few', 'numb', 'of', 'total', 'flight', 'which', 'can', 'result', 'in', 'increase', 'land', 'fee', 'and', 'other', 'cost', 'for', 'the', 'company'], ['the', 'company', 'strategic', 'plan', 'and', 'result', 'of', 'operation', 'can', 'be', 'negative', 'affect', 'by', 'change', 'in', 'law', 'and', 'future', 'action', 'take', 'by', 'domestic', 'and', 'foreign', 'governmental', 'agency', 'have', 'jurisdiction', 'over', 'its', 'operation', 'include', 'but', 'not', 'limit', 'to', 'increase', 'in', 'airport', 'rate', 'and', 'charge', 'limitation', 'on', 'airport', 'gate', 'capacity', 'or', 'use', 'of', 'other', 'airport', 'facility', 'limitation', 'on', 'route', 'authority', 'action', 'and', 'decision', 'that', 'create', 'difficulty', 'in', 'obtain', 'access', 'at', 'slot', 'control', 'airport', 'action', 'and', 'decision', 'that', 'create', 'difficulty', 'in', 'obtain', 'operate', 'permit', 'and', 'approval', 'change', 'to', 'environmental', 'regulation', 'new', 'or', 'increase', 'taxis', 'or', 'fee', 'change', 'to', 'law', 'that', 'affect', 'the', 'service', 'that', 'can', 'be', 'offer', 'by', 'airline', 'in', 'particular', 'market', 'and', 'at', 'particular', 'airport', 'restriction', 'on', 'competitive', 'practice', 'change', 'in', 'law', 'that', 'increase', 'cost', 'for', 'safety', 'security', 'compliance', 'or', 'other', 'customer', 'service', 'standard', 'change', 'in', 'law', 'that', 'may', 'limit', 'the', 'company', 'ability', 'to', 'enter', 'into', 'fuel', 'derivative', 'contract', 'to', 'hedge', 'against', 'increase', 'in', 'fuel', 'price', 'change', 'in', 'law', 'that', 'may', 'limit', 'or', 'regulate', 'the', 'company', 'ability', 'to', 'promote', 'the', 'company', 'business', 'or', 'fare', 'and', 'the', 'adoption', 'of', 'much', 'restrictive', 'locally', 'impose', 'noise', 'regulation'], ['the', 'complaint', 'allege', 'among', 'other', 'thing', 'that', 'airtran', 'attempt', 'to', 'monopolize', 'air', 'travel', 'in', 'violation', 'of', 'section', 'of', 'the', 'sherman', 'act', 'and', 'conspire', 'with', 'delta', 'in', 'impose', 'bag', 'fee', 'for', 'the', '1', 'item', 'of', 'check', 'luggage', 'in', 'violation', 'of', 'section', 'of', 'the', 'sherman', 'act'], ['the', 'initial', 'complaint', 'seek', 'treble', 'damage', 'on', 'behalf', 'of', 'a', 'putative', 'class', 'of', 'person', 'or', 'entity', 'in', 'the', 'united', 'states', 'who', 'directly', 'pay', 'delta', 'airtran', 'such', 'fee', 'on', 'domestic', 'flight', 'begin', 'december'], ['in', 'addition', 'to', 'treble', 'damage', 'for', 'the', 'amount', 'of', '1', 'baggage', 'fee', 'pay', 'to', 'airtran', 'and', 'to', 'delta', 'the', 'consolidated', 'amended', 'complaint', 'seek', 'injunctive', 'relief', 'against', 'a', 'broad', 'range', 'of', 'allege', 'anticompetitive', 'activity', 'a', 'good', 'a', 'fee'], ['in', 'addition', 'to', 'treble', 'damage', 'for', 'the', 'amount', 'of', '1', 'baggage', 'fee', 'pay', 'to', 'airtran', 'and', 'to', 'delta', 'the', 'consolidated', 'amended', 'complaint', 'seek', 'injunctive', 'relief', 'against', 'a', 'broad', 'range', 'of', 'allege', 'anticompetitive', 'activity', 'a', 'good', 'a', 'fee'], ['on', 'august', 'the', 'court', 'dismiss', 'claim', 'that', 'airtran', 'and', 'delta', 'have', 'violate', 'section', 'of', 'the', 'sherman', 'act', 'the', 'court', 'let', 'stand', 'the', 'claim', 'of', 'a', 'conspiracy', 'with', 'respect', 'to', 'the', 'imposition', 'of', 'a', '1', 'bag', 'fee', 'and', 'the', 'capacity', 'and', 'price', 'decision'], ['the', 'complaint', 'seek', 'treble', 'damage', 'for', 'period', 'that', 'vary', 'among', 'the', 'complaint', 'cost', 'fee', 'and', 'injunctive', 'relief'], ['southwest', 'either', 'lease', 'or', 'pay', 'a', 'usage', 'fee', 'for', 'terminal', 'passenger', 'service', 'facility', 'at', 'each', 'of', 'the', 'airport', 'it', 'serve', 'to', 'which', 'various', 'leasehold', 'improvement', 'have', 'be', 'make'], ['the', 'complaint', 'allege', 'among', 'other', 'thing', 'that', 'airtran', 'attempt', 'to', 'monopolize', 'air', 'travel', 'in', 'violation', 'of', 'section', 'of', 'the', 'sherman', 'act', 'and', 'conspire', 'with', 'delta', 'in', 'impose', 'bag', 'fee', 'for', 'the', '1', 'item', 'of', 'check', 'luggage', 'in', 'violation', 'of', 'section', 'of', 'the', 'sherman', 'act'], ['the', 'initial', 'complaint', 'seek', 'treble', 'damage', 'on', 'behalf', 'of', 'a', 'putative', 'class', 'of', 'person', 'or', 'entity', 'in', 'the', 'united', 'states', 'who', 'directly', 'pay', 'delta', 'airtran', 'such', 'fee', 'on', 'domestic', 'flight', 'begin', 'december'], ['in', 'addition', 'to', 'treble', 'damage', 'for', 'the', 'amount', 'of', '1', 'baggage', 'fee', 'pay', 'to', 'airtran', 'and', 'to', 'delta', 'the', 'consolidated', 'amended', 'complaint', 'seek', 'injunctive', 'relief', 'against', 'a', 'broad', 'range', 'of', 'allege', 'anticompetitive', 'activity', 'a', 'good', 'a', 'fee'], ['in', 'addition', 'to', 'treble', 'damage', 'for', 'the', 'amount', 'of', '1', 'baggage', 'fee', 'pay', 'to', 'airtran', 'and', 'to', 'delta', 'the', 'consolidated', 'amended', 'complaint', 'seek', 'injunctive', 'relief', 'against', 'a', 'broad', 'range', 'of', 'allege', 'anticompetitive', 'activity', 'a', 'good', 'a', 'fee'], ['on', 'august', 'the', 'court', 'dismiss', 'claim', 'that', 'airtran', 'and', 'delta', 'have', 'violate', 'section', 'of', 'the', 'sherman', 'act', 'the', 'court', 'let', 'stand', 'the', 'claim', 'of', 'a', 'conspiracy', 'with', 'respect', 'to', 'the', 'imposition', 'of', 'a', '1', 'bag', 'fee', 'and', 'the', 'capacity', 'and', 'price', 'decision'], ['the', 'complaint', 'seek', 'treble', 'damage', 'for', 'period', 'that', 'vary', 'among', 'the', 'complaint', 'cost', 'fee', 'and', 'injunctive', 'relief'], ['ancillary', 'revenue', 'increase', 'slightly', 'year', 'over', 'year', 'primarily', 'due', 'to', 'a', 'increase', 'in', 'earlybird', 'check', 'in', 'and', 'select', 'board', 'position', 'sell', 'at', 'the', 'gate', 'which', 'be', 'partially', 'offset', 'by', 'the', 'decrease', 'in', 'revenue', 'from', 'the', 'termination', 'of', 'airtran', 'passenger', 'service', 'and', 'relate', 'ancillary', 'fee'], ['landing', 'fee', 'and', 'other', 'rental', 'expense', 'for', 'increase', 'by', 'million', 'or', 'percent', 'compare', 'with'], ['on', 'a', 'per', 'available_seat_mile', 'basis', 'landing', 'fee', 'and', 'other', 'rental', 'expense', 'for', 'decrease', 'percent', 'compare', 'with', 'a', 'the', 'dollar', 'increase', 'be', 'much', 'than', 'offset', 'by', 'the', 'percent', 'increase', 'in', 'capacity'], ['the', 'company', 'currently', 'expect', 'landing', 'fee', 'and', 'other', 'rental', 'expense', 'per', 'available_seat_mile', 'for', '1', 'quarter', 'to', 'decrease', 'compare', 'with', '1', 'quarter'], ['on', 'a', 'dollar', 'basis', 'the', 'increase', 'be', 'equally', 'attributable', 'to', 'high', 'personnel', 'expense', 'associate', 'with', 'travel', 'cost', 'of', 'the', 'company', 'flight', 'crow', 'and', 'credit', 'card', 'fee', 'pay', 'to', '3', 'party', 'associate', 'with', 'the', 'increase', 'in', 'passenger', 'revenue'], ['these', 'and', 'other', 'small', 'increase', 'be', 'partially', 'offset', 'by', 'a', 'decrease', 'in', 'security', 'expense', 'a', 'a', 'result', 'of', 'the', 'repeal', 'of', 'the', 'taxiway_safety_area', 'aviation', 'security', 'infrastructure', 'fee', 'in', 'october', 'and', 'a', 'litigation', 'settlement', 'receive', 'by', 'the', 'company', 'in', 'the', '1', 'quarter', 'of'], ['the', 'majority', 'of', 'the', 'decline', 'in', 'ancillary', 'revenue', 'be', 'due', 'to', 'the', 'adoption', 'of', 'southwest', 'much', 'customer', 'friendly', 'fee', 'policy', 'for', 'customers', 'who', 'can', 'purchase', 'travel', 'on', 'airtran', 'in', 'through', 'and', 'the', 'overall', 'reduction', 'in', 'airtran', 'flight', 'in', 'a', 'a', 'result', 'of', 'the', 'integration', 'process'], ['landing', 'fee', 'and', 'other', 'rental', 'expense', 'for', 'increase', 'by', 'million', 'or', 'percent', 'compare', 'with'], ['on', 'a', 'per', 'available_seat_mile', 'basis', 'landing', 'fee', 'and', 'other', 'rental', 'expense', 'for', 'be', 'flat', 'compare', 'with'], ['amounts', 'collect', 'from', 'passenger', 'for', 'ancillary', 'service', 'fee', 'be', 'generally', 'recognize', 'a', 'other', 'revenue', 'when', 'the', 'service', 'be', 'provide', 'which', 'be', 'typically', 'the', 'flight', 'date'], ['the', 'company', 'be', 'conjurer', 'require', 'to', 'collect', 'certain', 'taxis', 'and', 'fee', 'from', 'customers', 'on', 'behalf', 'of', 'government', 'agency', 'and', 'remit', 'this', 'back', 'to', 'the', 'applicable', 'governmental', 'entity', 'on', 'a', 'periodic', 'basis'], ['these', 'taxis', 'and', 'fee', 'include', 'foreign', 'and', 'federal', 'transportation', 'taxis', 'federal', 'security', 'charge', 'and', 'airport', 'passenger', 'facility', 'charge'], ['other', 'operate', 'expense', 'consist', 'of', 'distribution', 'cost', 'advertise', 'expense', 'personnel', 'expense', 'professional', 'fee', 'and', 'other', 'operate', 'cost', 'none', 'of', 'which', 'individually', 'exceed', 'percent', 'of', 'operating', 'expense'], ['for', 'aircraft', 'operate', 'lease', 'and', 'for', 'terminal', 'operation', 'lease', 'expense', 'be', 'include', 'in', 'aircraft', 'rental', 'and', 'in', 'landing', 'fee', 'and', 'other', 'rental', 'respectively', 'in', 'the', 'consolidated', 'statement', 'of', 'income'], ['in', 'addition', 'regardless', 'of', 'the', 'fare', 'product', 'southwest', 'doe', 'not', 'charge', 'fee', 'for', 'change', 'to', 'flight', 'reservation'], ['no', 'show', 'policy', 'fund', 'may', 'be', 'apply', 'to', 'future', 'travel', 'on', 'southwest', 'without', 'a', 'change', 'fee'], ['for', 'example', 'the', 'company', 'transfarencysm', 'campaign', 'emphasize', 'southwest', 'approach', 'to', 'treat', 'customers', 'fairly', 'honestly', 'and', 'respectfully', 'with', 'its', 'low', 'fare', 'and', 'no', 'unexpected', 'bag', 'fee', 'change', 'fee', 'or', 'hide', 'fee'], ['for', 'example', 'the', 'company', 'transfarencysm', 'campaign', 'emphasize', 'southwest', 'approach', 'to', 'treat', 'customers', 'fairly', 'honestly', 'and', 'respectfully', 'with', 'its', 'low', 'fare', 'and', 'no', 'unexpected', 'bag', 'fee', 'change', 'fee', 'or', 'hide', 'fee'], ['for', 'example', 'the', 'company', 'transfarencysm', 'campaign', 'emphasize', 'southwest', 'approach', 'to', 'treat', 'customers', 'fairly', 'honestly', 'and', 'respectfully', 'with', 'its', 'low', 'fare', 'and', 'no', 'unexpected', 'bag', 'fee', 'change', 'fee', 'or', 'hide', 'fee'], ['southwest', 'be', 'conjurer', 'the', 'only', 'major', 'airline', 'that', 'doe', 'not', 'charge', 'a', 'fee', 'on', 'any', 'of', 'its', 'fare', 'for', 'a', 'customer', 'change', 'in', 'flight', 'reservation'], ['the', 'campaign', 'highlight', 'the', 'importance', 'to', 'southwest', 'of', 'customer', 'service', 'by', 'show', 'that', 'southwest', 'understand', 'plan', 'can', 'change', 'and', 'therefore', 'doe', 'not', 'charge', 'a', 'change', 'fee'], ['while', 'a', 'customer', 'may', 'pay', 'a', 'difference', 'in', 'airfare', 'the', 'customer', 'will', 'not', 'be', 'charge', 'a', 'change', 'fee', 'on', 'top', 'of', 'any', 'difference', 'in', 'airfare'], ['also', 'unlike', 'much', 'of', 'its', 'competitor', 'southwest', 'doe', 'not', 'impose', 'additional', 'fee', 'for', 'item', 'such', 'a', 'seat', 'selection', 'snack', 'curb', 'side', 'check', 'in', 'and', 'telephone', 'reservation'], ['the', 'passenger', 'protection', 'rules', 'conjurer', 'require', 'airline', 'to', 'i', 'pay', 'up', 'to', 'in', 'compensation', 'to', 'each', 'passenger', 'deny', 'board', 'involuntarily', 'from', 'a', 'oversell', 'flight', 'ii', 'refund', 'any', 'check', 'bag', 'fee', 'for', 'permanently', 'lose', 'luggage', 'iii', 'prominently', 'disclose', 'all', 'potential', 'fee', 'for', 'optional', 'ancillary', 'service', 'on', 'their', 'website', 'and', 'iv', 'refund', 'passenger', 'fee', 'pay', 'for', 'ancillary', 'service', 'if', 'a', 'flight', 'cancel', 'or', 'oversell', 'and', 'a', 'passenger', 'be', 'unable', 'to', 'take', 'advantage', 'of', 'such', 'service'], ['the', 'passenger', 'protection', 'rules', 'conjurer', 'require', 'airline', 'to', 'i', 'pay', 'up', 'to', 'in', 'compensation', 'to', 'each', 'passenger', 'deny', 'board', 'involuntarily', 'from', 'a', 'oversell', 'flight', 'ii', 'refund', 'any', 'check', 'bag', 'fee', 'for', 'permanently', 'lose', 'luggage', 'iii', 'prominently', 'disclose', 'all', 'potential', 'fee', 'for', 'optional', 'ancillary', 'service', 'on', 'their', 'website', 'and', 'iv', 'refund', 'passenger', 'fee', 'pay', 'for', 'ancillary', 'service', 'if', 'a', 'flight', 'cancel', 'or', 'oversell', 'and', 'a', 'passenger', 'be', 'unable', 'to', 'take', 'advantage', 'of', 'such', 'service'], ['the', 'passenger', 'protection', 'rules', 'conjurer', 'require', 'airline', 'to', 'i', 'pay', 'up', 'to', 'in', 'compensation', 'to', 'each', 'passenger', 'deny', 'board', 'involuntarily', 'from', 'a', 'oversell', 'flight', 'ii', 'refund', 'any', 'check', 'bag', 'fee', 'for', 'permanently', 'lose', 'luggage', 'iii', 'prominently', 'disclose', 'all', 'potential', 'fee', 'for', 'optional', 'ancillary', 'service', 'on', 'their', 'website', 'and', 'iv', 'refund', 'passenger', 'fee', 'pay', 'for', 'ancillary', 'service', 'if', 'a', 'flight', 'cancel', 'or', 'oversell', 'and', 'a', 'passenger', 'be', 'unable', 'to', 'take', 'advantage', 'of', 'such', 'service'], ['the', 'passenger', 'protection', 'rules', 'conjurer', 'require', 'that', 'i', 'advertise', 'airfares', 'include', 'all', 'mandate', 'taxis', 'and', 'fee', 'ii', 'passenger', 'be', 'allow', 'to', 'hold', 'a', 'reservation', 'for', 'up', 'to', 'hour', 'without', 'make', 'a', 'payment', 'iii', 'passenger', 'be', 'allow', 'to', 'cancel', 'a', 'pay', 'reservation', 'without', 'penalty', 'for', 'hour', 'after', 'the', 'reservation', 'be', 'make', 'a', 'long', 'a', 'the', 'reservation', 'be', 'make', 'at', 'little', 'seven', 'day', 'in', 'advance', 'of', 'travel', 'iv', 'fare', 'may', 'not', 'increase', 'after', 'purchase', 'v', 'baggage', 'fee', 'must', 'be', 'disclose', 'to', 'the', 'passenger', 'at', 'the', 'time', 'of', 'book', 'vi', 'the', 'same', 'baggage', 'allowance', 'and', 'fee', 'must', 'apply', 'throughout', 'a', 'passenger', 'trip', 'vii', 'baggage', 'fee', 'must', 'be', 'disclose', 'on', 'e', 'ticket', 'confirmation', 'and', 'viii', 'passenger', 'must', 'be', 'promptly', 'notify', 'in', 'the', 'event', 'of', 'delay', 'of', 'much', 'than', 'minute', 'or', 'if', 'there', 'be', 'a', 'cancellation', 'or', 'diversion', 'of', 'their', 'flight'], ['the', 'passenger', 'protection', 'rules', 'conjurer', 'require', 'that', 'i', 'advertise', 'airfares', 'include', 'all', 'mandate', 'taxis', 'and', 'fee', 'ii', 'passenger', 'be', 'allow', 'to', 'hold', 'a', 'reservation', 'for', 'up', 'to', 'hour', 'without', 'make', 'a', 'payment', 'iii', 'passenger', 'be', 'allow', 'to', 'cancel', 'a', 'pay', 'reservation', 'without', 'penalty', 'for', 'hour', 'after', 'the', 'reservation', 'be', 'make', 'a', 'long', 'a', 'the', 'reservation', 'be', 'make', 'at', 'little', 'seven', 'day', 'in', 'advance', 'of', 'travel', 'iv', 'fare', 'may', 'not', 'increase', 'after', 'purchase', 'v', 'baggage', 'fee', 'must', 'be', 'disclose', 'to', 'the', 'passenger', 'at', 'the', 'time', 'of', 'book', 'vi', 'the', 'same', 'baggage', 'allowance', 'and', 'fee', 'must', 'apply', 'throughout', 'a', 'passenger', 'trip', 'vii', 'baggage', 'fee', 'must', 'be', 'disclose', 'on', 'e', 'ticket', 'confirmation', 'and', 'viii', 'passenger', 'must', 'be', 'promptly', 'notify', 'in', 'the', 'event', 'of', 'delay', 'of', 'much', 'than', 'minute', 'or', 'if', 'there', 'be', 'a', 'cancellation', 'or', 'diversion', 'of', 'their', 'flight'], ['the', 'passenger', 'protection', 'rules', 'conjurer', 'require', 'that', 'i', 'advertise', 'airfares', 'include', 'all', 'mandate', 'taxis', 'and', 'fee', 'ii', 'passenger', 'be', 'allow', 'to', 'hold', 'a', 'reservation', 'for', 'up', 'to', 'hour', 'without', 'make', 'a', 'payment', 'iii', 'passenger', 'be', 'allow', 'to', 'cancel', 'a', 'pay', 'reservation', 'without', 'penalty', 'for', 'hour', 'after', 'the', 'reservation', 'be', 'make', 'a', 'long', 'a', 'the', 'reservation', 'be', 'make', 'at', 'little', 'seven', 'day', 'in', 'advance', 'of', 'travel', 'iv', 'fare', 'may', 'not', 'increase', 'after', 'purchase', 'v', 'baggage', 'fee', 'must', 'be', 'disclose', 'to', 'the', 'passenger', 'at', 'the', 'time', 'of', 'book', 'vi', 'the', 'same', 'baggage', 'allowance', 'and', 'fee', 'must', 'apply', 'throughout', 'a', 'passenger', 'trip', 'vii', 'baggage', 'fee', 'must', 'be', 'disclose', 'on', 'e', 'ticket', 'confirmation', 'and', 'viii', 'passenger', 'must', 'be', 'promptly', 'notify', 'in', 'the', 'event', 'of', 'delay', 'of', 'much', 'than', 'minute', 'or', 'if', 'there', 'be', 'a', 'cancellation', 'or', 'diversion', 'of', 'their', 'flight'], ['the', 'passenger', 'protection', 'rules', 'conjurer', 'require', 'that', 'i', 'advertise', 'airfares', 'include', 'all', 'mandate', 'taxis', 'and', 'fee', 'ii', 'passenger', 'be', 'allow', 'to', 'hold', 'a', 'reservation', 'for', 'up', 'to', 'hour', 'without', 'make', 'a', 'payment', 'iii', 'passenger', 'be', 'allow', 'to', 'cancel', 'a', 'pay', 'reservation', 'without', 'penalty', 'for', 'hour', 'after', 'the', 'reservation', 'be', 'make', 'a', 'long', 'a', 'the', 'reservation', 'be', 'make', 'at', 'little', 'seven', 'day', 'in', 'advance', 'of', 'travel', 'iv', 'fare', 'may', 'not', 'increase', 'after', 'purchase', 'v', 'baggage', 'fee', 'must', 'be', 'disclose', 'to', 'the', 'passenger', 'at', 'the', 'time', 'of', 'book', 'vi', 'the', 'same', 'baggage', 'allowance', 'and', 'fee', 'must', 'apply', 'throughout', 'a', 'passenger', 'trip', 'vii', 'baggage', 'fee', 'must', 'be', 'disclose', 'on', 'e', 'ticket', 'confirmation', 'and', 'viii', 'passenger', 'must', 'be', 'promptly', 'notify', 'in', 'the', 'event', 'of', 'delay', 'of', 'much', 'than', 'minute', 'or', 'if', 'there', 'be', 'a', 'cancellation', 'or', 'diversion', 'of', 'their', 'flight'], ['congress', 'have', 'set', 'the', 'transportation', 'security', 'fee', 'pay', 'by', 'passenger', 'at', 'per', 'one', 'way', 'passenger', 'trip'], ['in', 'december', 'congress', 'enact', 'another', 'statute', 'that', 'index', 'immigration', 'and', 'custom', 'fee', 'to', 'inflation', 'begin', 'in'], ['these', 'two', 'fee', 'be', 'pay', 'by', 'inbound', 'international', 'passenger', 'and', 'be', 'use', 'to', 'support', 'the', 'operation', 'of', 'customs', 'and', 'border', 'protection', 'cbp'], ['finally', 'the', 'department', 'of', 'agriculture', 'animal', 'and', 'plant', 'health', 'inspection', 'service', 'publish', 'a', 'final', 'regulation', 'in', 'october', 'that', 'modify', 'international', 'agriculture', 'inspection', 'fee'], ['under', 'this', 'rule', 'which', 'be', 'effective', 'december', 'the', 'per', 'passenger', 'agriculture', 'inspection', 'fee', 'be', 'and', 'the', 'per', 'commercial', 'aircraft', 'fee', 'be'], ['under', 'this', 'rule', 'which', 'be', 'effective', 'december', 'the', 'per', 'passenger', 'agriculture', 'inspection', 'fee', 'be', 'and', 'the', 'per', 'commercial', 'aircraft', 'fee', 'be'], ['grants', 'to', 'airport', 'airport', 'bond', 'finance', 'may', 'conjurer', 'be', 'affect', 'through', 'future', 'legislation', 'which', 'can', 'result', 'in', 'high', 'fee', 'rate', 'and', 'charge', 'at', 'many', 'of', 'the', 'airport', 'the', 'company', 'serve'], ['nevertheless', 'the', 'company', 'believe', 'it', 'continue', 'to', 'have', 'a', 'competitive', 'advantage', 'through', 'its', 'differentiation', 'of', 'southwest', 'from', 'all', 'of', 'its', 'major', 'competitor', 'by', 'not', 'charge', 'additional', 'fee', 'for', 'item', 'such', 'a', '1', 'and', '2', 'check', 'bag', 'flight', 'change', 'seat', 'selection', 'snack', 'curb', 'side', 'check', 'in', 'and', 'telephone', 'reservation'], ['when', 'this', 'occur', 'airport', 'cost', 'be', 'allocate', 'among', 'a', 'few', 'numb', 'of', 'total', 'flight', 'which', 'can', 'result', 'in', 'increase', 'land', 'fee', 'and', 'other', 'cost', 'for', 'the', 'company'], ['the', 'company', 'strategic', 'plan', 'and', 'result', 'of', 'operation', 'can', 'be', 'negative', 'affect', 'by', 'change', 'in', 'law', 'and', 'future', 'action', 'take', 'by', 'domestic', 'and', 'foreign', 'governmental', 'agency', 'have', 'jurisdiction', 'over', 'its', 'operation', 'include', 'but', 'not', 'limit', 'to', 'increase', 'in', 'airport', 'rate', 'and', 'charge', 'limitation', 'on', 'airport', 'gate', 'capacity', 'or', 'use', 'of', 'other', 'airport', 'facility', 'such', 'a', 'the', 'reallocation', 'of', 'slot', 'at', 'john', 'wayne', 'airport', 'in', 'orange', 'county', 'california', 'which', 'cause', 'the', 'company', 'to', 'reduce', 'service', 'at', 'that', 'airport', 'limitation', 'on', 'route', 'authority', 'action', 'and', 'decision', 'that', 'create', 'difficulty', 'in', 'obtain', 'access', 'at', 'slot', 'control', 'airport', 'action', 'and', 'decision', 'that', 'create', 'difficulty', 'in', 'obtain', 'operate', 'permit', 'and', 'approval', 'change', 'to', 'environmental', 'regulation', 'new', 'or', 'increase', 'taxis', 'or', 'fee', 'change', 'to', 'law', 'that', 'affect', 'the', 'service', 'that', 'can', 'be', 'offer', 'by', 'airline', 'in', 'particular', 'market', 'and', 'at', 'particular', 'airport', 'restriction', 'on', 'competitive', 'practice', 'change', 'in', 'law', 'that', 'increase', 'cost', 'for', 'safety', 'security', 'compliance', 'or', 'other', 'customer', 'service', 'standard', 'change', 'in', 'law', 'that', 'may', 'limit', 'the', 'company', 'ability', 'to', 'enter', 'into', 'fuel', 'derivative', 'contract', 'to', 'hedge', 'against', 'increase', 'in', 'fuel', 'price', 'change', 'in', 'law', 'that', 'may', 'limit', 'or', 'regulate', 'the', 'company', 'ability', 'to', 'promote', 'the', 'company', 'business', 'or', 'fare', 'and', 'the', 'adoption', 'of', 'much', 'restrictive', 'locally', 'impose', 'noise', 'regulation'], ['southwest', 'either', 'lease', 'or', 'pay', 'a', 'usage', 'fee', 'for', 'terminal', 'passenger', 'service', 'facility', 'at', 'each', 'of', 'the', 'airport', 'it', 'serve', 'to', 'which', 'various', 'leasehold', 'improvement', 'have', 'be', 'make'], ['the', 'complaint', 'allege', 'among', 'other', 'thing', 'that', 'airtran', 'attempt', 'to', 'monopolize', 'air', 'travel', 'in', 'violation', 'of', 'section', 'of', 'the', 'sherman', 'act', 'and', 'conspire', 'with', 'delta', 'in', 'impose', 'bag', 'fee', 'for', 'the', '1', 'item', 'of', 'check', 'luggage', 'in', 'violation', 'of', 'section', 'of', 'the', 'sherman', 'act'], ['the', 'initial', 'complaint', 'seek', 'treble', 'damage', 'on', 'behalf', 'of', 'a', 'putative', 'class', 'of', 'person', 'or', 'entity', 'in', 'the', 'united', 'states', 'who', 'directly', 'pay', 'delta', 'airtran', 'such', 'fee', 'on', 'domestic', 'flight', 'begin', 'december'], ['in', 'addition', 'to', 'treble', 'damage', 'for', 'the', 'amount', 'of', '1', 'baggage', 'fee', 'pay', 'to', 'airtran', 'and', 'to', 'delta', 'the', 'consolidated', 'amended', 'complaint', 'seek', 'injunctive', 'relief', 'against', 'a', 'broad', 'range', 'of', 'allege', 'anticompetitive', 'activity', 'a', 'good', 'a', 'fee'], ['in', 'addition', 'to', 'treble', 'damage', 'for', 'the', 'amount', 'of', '1', 'baggage', 'fee', 'pay', 'to', 'airtran', 'and', 'to', 'delta', 'the', 'consolidated', 'amended', 'complaint', 'seek', 'injunctive', 'relief', 'against', 'a', 'broad', 'range', 'of', 'allege', 'anticompetitive', 'activity', 'a', 'good', 'a', 'fee'], ['on', 'august', 'the', 'court', 'dismiss', 'claim', 'that', 'airtran', 'and', 'delta', 'have', 'violate', 'section', 'of', 'the', 'sherman', 'act', 'the', 'court', 'let', 'stand', 'the', 'claim', 'of', 'a', 'conspiracy', 'with', 'respect', 'to', 'the', 'imposition', 'of', 'a', '1', 'bag', 'fee', 'and', 'the', 'capacity', 'and', 'price', 'decision'], ['on', 'july', 'the', 'court', 'grant', 'motion', 'to', 'certify', 'a', 'class', 'of', 'all', 'person', 'who', 'pay', '1', 'bag', 'fee', 'to', 'airtran', 'or', 'delta', 'from', 'december', 'to', 'november', 'the', 'date', 'on', 'which', 'airtran', 'stop', 'charge', '1', 'bag', 'fee'], ['on', 'july', 'the', 'court', 'grant', 'motion', 'to', 'certify', 'a', 'class', 'of', 'all', 'person', 'who', 'pay', '1', 'bag', 'fee', 'to', 'airtran', 'or', 'delta', 'from', 'december', 'to', 'november', 'the', 'date', 'on', 'which', 'airtran', 'stop', 'charge', '1', 'bag', 'fee'], ['they', 'seek', 'treble', 'damage', 'injunctive', 'relief', 'and', 'fee', 'and', 'expense'], ['the', 'plaintiff', 'in', 'the', 'remain', 'complaint', 'generally', 'seek', 'damage', 'include', 'punitive', 'damage', 'in', 'certain', 'case', 'prejudgment', 'interest', 'disgorgement', 'of', 'any', 'benefit', 'accrue', 'by', 'the', 'defendant', 'a', 'a', 'result', 'of', 'the', 'allegation', 'injunctive', 'relief', 'and', 'fee', 'and', 'other', 'cost'], ['landing', 'fee', 'and', 'other', 'rental', 'expense', 'for', 'increase', 'by', 'million', 'or', 'percent', 'compare', 'with'], ['on', 'a', 'per', 'available_seat_mile', 'basis', 'landing', 'fee', 'and', 'other', 'rental', 'expense', 'for', 'decrease', 'percent', 'compare', 'with', 'a', 'the', 'dollar', 'increase', 'be', 'much', 'than', 'offset', 'by', 'the', 'percent', 'increase', 'in', 'capacity'], ['the', 'company', 'currently', 'expect', 'landing', 'fee', 'and', 'other', 'rental', 'expense', 'per', 'available_seat_mile', 'for', '1', 'quarter', 'to', 'be', 'comparable', 'with', '1', 'quarter'], ['ancillary', 'revenue', 'increase', 'slightly', 'year', 'over', 'year', 'primarily', 'due', 'to', 'a', 'increase', 'in', 'earlybird', 'check', 'in', 'and', 'select', 'board', 'position', 'sell', 'at', 'the', 'gate', 'which', 'be', 'partially', 'offset', 'by', 'the', 'decrease', 'in', 'revenue', 'from', 'the', 'termination', 'of', 'airtran', 'passenger', 'service', 'and', 'relate', 'ancillary', 'fee'], ['landing', 'fee', 'and', 'other', 'rental', 'expense', 'for', 'increase', 'by', 'million', 'or', 'percent', 'compare', 'with'], ['on', 'a', 'per', 'available_seat_mile', 'basis', 'landing', 'fee', 'and', 'other', 'rental', 'expense', 'for', 'decrease', 'percent', 'compare', 'with', 'a', 'the', 'dollar', 'increase', 'be', 'much', 'than', 'offset', 'by', 'the', 'percent', 'increase', 'in', 'capacity'], ['on', 'a', 'dollar', 'basis', 'the', 'increase', 'be', 'equally', 'attributable', 'to', 'high', 'personnel', 'expense', 'associate', 'with', 'travel', 'cost', 'of', 'the', 'company', 'flight', 'crow', 'and', 'credit', 'card', 'fee', 'pay', 'to', '3', 'party', 'associate', 'with', 'the', 'increase', 'in', 'passenger', 'revenue'], ['these', 'and', 'other', 'small', 'increase', 'be', 'partially', 'offset', 'by', 'a', 'decrease', 'in', 'security', 'expense', 'a', 'a', 'result', 'of', 'the', 'repeal', 'of', 'the', 'taxiway_safety_area', 'aviation', 'security', 'infrastructure', 'fee', 'in', 'october', 'and', 'a', 'litigation', 'settlement', 'receive', 'by', 'the', 'company', 'in', 'the', '1', 'quarter', 'of'], ['amounts', 'collect', 'from', 'passenger', 'for', 'ancillary', 'service', 'fee', 'be', 'generally', 'recognize', 'a', 'other', 'revenue', 'when', 'the', 'service', 'be', 'provide', 'which', 'be', 'typically', 'the', 'flight', 'date'], ['the', 'company', 'be', 'conjurer', 'require', 'to', 'collect', 'certain', 'taxis', 'and', 'fee', 'from', 'customers', 'on', 'behalf', 'of', 'government', 'agency', 'and', 'remit', 'this', 'back', 'to', 'the', 'applicable', 'governmental', 'entity', 'on', 'a', 'periodic', 'basis'], ['these', 'taxis', 'and', 'fee', 'include', 'foreign', 'and', 'federal', 'transportation', 'taxis', 'federal', 'security', 'charge', 'and', 'airport', 'passenger', 'facility', 'charge'], ['other', 'operate', 'expense', 'consist', 'of', 'distribution', 'cost', 'advertise', 'expense', 'personnel', 'expense', 'professional', 'fee', 'and', 'other', 'operate', 'cost', 'none', 'of', 'which', 'individually', 'exceed', 'percent', 'of', 'operating', 'expense'], ['for', 'aircraft', 'operate', 'lease', 'and', 'for', 'terminal', 'operation', 'lease', 'expense', 'be', 'record', 'on', 'a', 'straight', 'line', 'basis', 'and', 'include', 'in', 'aircraft', 'rental', 'and', 'in', 'landing', 'fee', 'and', 'other', 'rental', 'respectively', 'in', 'the', 'consolidated', 'statement', 'of', 'income']]"
     ]
    },
    {
     "name": "stdout",
     "output_type": "stream",
     "text": [
      "\n"
     ]
    }
   ],
   "source": [
    "#sklearn_phrases.transform(matched_sents)\n",
    "print(matched_sents)"
   ]
  },
  {
   "cell_type": "code",
   "execution_count": 147,
   "metadata": {},
   "outputs": [
    {
     "name": "stderr",
     "output_type": "stream",
     "text": [
      "C:\\Users\\alsherman\\AppData\\Local\\Continuum\\anaconda3\\envs\\guild\\lib\\site-packages\\gensim\\models\\phrases.py:486: UserWarning: For a faster implementation, use the gensim.models.phrases.Phraser class\n",
      "  warnings.warn(\"For a faster implementation, use the gensim.models.phrases.Phraser class\")\n"
     ]
    },
    {
     "name": "stdout",
     "output_type": "stream",
     "text": [
      "{'the_department_of_transportation', 'federal_aviation_administration', 'the_taxiway_safety_area', 'available_seat_mile', 'per_available_seat_mile', 'available_seat_mile_increase', 'required_navigation_performance'}\n"
     ]
    }
   ],
   "source": [
    "# review phrase matches\n",
    "phrases = []\n",
    "for terms in sklearn_phrases.transform(matched_sents):\n",
    "    for term in terms:\n",
    "        if term.count('_') >= 2:\n",
    "            phrases.append(term)\n",
    "print(set(phrases))"
   ]
  },
  {
   "cell_type": "code",
   "execution_count": 148,
   "metadata": {},
   "outputs": [],
   "source": [
    "# create a list of stop words\n",
    "from spacy.lang.en.stop_words import STOP_WORDS\n",
    "common_terms = list(STOP_WORDS)"
   ]
  },
  {
   "cell_type": "markdown",
   "metadata": {},
   "source": [
    "**common_terms:** optional list of “stop words” that won’t affect frequency count of expressions containing them.\n",
    "- The common_terms parameter add a way to give special treatment to common terms (aka stop words) such that their presence between two words won’t prevent bigram detection. It allows to detect expressions like “bank of america” or “eye of the beholder”.\n"
   ]
  },
  {
   "cell_type": "markdown",
   "metadata": {},
   "source": [
    "##### Gensim API\n",
    "A more complex API, though it is faster and has better integration with other gensim components (e.g. Phraser)"
   ]
  },
  {
   "cell_type": "code",
   "execution_count": 149,
   "metadata": {},
   "outputs": [],
   "source": [
    "from gensim.models.phrases import Phrases\n",
    "from gensim.models.phrases import Phraser"
   ]
  },
  {
   "cell_type": "code",
   "execution_count": 150,
   "metadata": {},
   "outputs": [
    {
     "data": {
      "text/plain": [
       "<gensim.models.phrases.Phrases at 0x2688c33b898>"
      ]
     },
     "execution_count": 150,
     "metadata": {},
     "output_type": "execute_result"
    }
   ],
   "source": [
    "phrases = Phrases(\n",
    "      matched_sents\n",
    "    , common_terms=common_terms\n",
    "    , min_count=3\n",
    "    , threshold=3\n",
    "    , scoring='default'\n",
    ")\n",
    "\n",
    "phrases"
   ]
  },
  {
   "cell_type": "markdown",
   "metadata": {},
   "source": [
    "### Phrases Params\n",
    "\n",
    "- **scoring:** specifies how potential phrases are scored for comparison to the threshold setting. scoring can be set with either a string that refers to a built-in scoring function, or with a function with the expected parameter names. Two built-in scoring functions are available by setting scoring to a string:\n",
    "\n",
    "    - ‘default’: from “Efficient Estimaton of Word Representations in Vector Space” by Mikolov, et. al.: \n",
    "    \n",
    "$$\\frac{count(AB) - count_{min}}{count(A) * count(B)} * N > threshold$$\n",
    "    \n",
    "\n",
    "    - where N is the total vocabulary size.\n",
    "    - Thus, it is easier to exceed the threshold when the two words occur together often or when the two words are rare (i.e. small product)"
   ]
  },
  {
   "cell_type": "code",
   "execution_count": 151,
   "metadata": {},
   "outputs": [
    {
     "data": {
      "text/plain": [
       "<gensim.models.phrases.Phraser at 0x2688c33b0f0>"
      ]
     },
     "execution_count": 151,
     "metadata": {},
     "output_type": "execute_result"
    }
   ],
   "source": [
    "bigram = Phraser(phrases)\n",
    "\n",
    "bigram"
   ]
  },
  {
   "cell_type": "markdown",
   "metadata": {},
   "source": [
    "The phrases object still contains all the source text in memory. A gensim Phraser will remove this extra data to become smaller and somewhat faster than using the full Phrases model. To determine what data to remove, the Phraser ues the  results of the source model’s min_count, threshold, and scoring settings. (You can tamper with those & create a new Phraser to try other values.)\n",
    "\n",
    "SOURCE: https://radimrehurek.com/gensim/models/phrases.html"
   ]
  },
  {
   "cell_type": "code",
   "execution_count": 152,
   "metadata": {},
   "outputs": [],
   "source": [
    "def print_phrases(phraser, text_stream, num_underscores=2):\n",
    "    \"\"\" identify phrases from a text stream by searching for terms that\n",
    "        are separated by underscores and include at least num_underscores\n",
    "    \"\"\"\n",
    "    \n",
    "    phrases = []\n",
    "    for terms in phraser[text_stream]:\n",
    "        for term in terms:\n",
    "            if term.count('_') >= num_underscores:\n",
    "                phrases.append(term)\n",
    "    print(set(phrases))"
   ]
  },
  {
   "cell_type": "code",
   "execution_count": 154,
   "metadata": {},
   "outputs": [
    {
     "name": "stdout",
     "output_type": "stream",
     "text": [
      "{'cancel_or_oversell', 'service_on_their_website', 'hold_a_reservation', 'taxiway_safety_area', 'increase_after_purchase', 'offer_by_airline', 'measure_have_conjurer', 'cost_such_a_credit', 'primarily_due_to_consult', 'attempt_to_monopolize', 'fee_and_other_rental', 'asif_on_each_airline', 'delay_of_much_than_minute', 'pay_for_ancillary', 'confirmation_and_vii', 'limitation_on_route', 'penalty_for_hour', 'decision_that_create', 'airfare_the_customer', 'fee_for_permanently', 'service_be_provide', 'operation_of_customs', 'gain_a_competitive', 'share_with_ticket', 'effort_to_reduce', 'payments_be_expect', 'new_and_expand', 'follow_the_acquisition', 'difficulty_in_obtain', 'intend_upon_full_integration', 'reservation_for_up_to_hour', 'allow_to_hold', 'fund_for_passenger', 'pursuant_to_authority', 'doe_not_charge', 'reduce_their_capacity', 'result_in_a_low', 'damage_on_behalf', 'information_for_basic', 'cancel_a_pay', 'rate_and_charge', 'require_that_i_advertise', 'numb_of_total', 'security_be_provide', 'damage_for_the_amount_of_1', 'day_in_advance', 'extension_or_transfer', 'passenger_be_unable', 'change_to_environmental', 'payment_of_facilities', 'reservation_be_make_at_little', 'long_a_the_reservation', 'changeable_and_include', 'duplicate_or_incompatible', 'additionally_when_other_airline', 'restriction_on_competitive', 'relief_against_a_broad', 'hedge_against_increase', 'refund_any_check', 'primarily_a_a_result', 'confirmation_and_viii', 'permit_and_approval', 'website_and_iv', 'generate_much_net', 'allow_to_cancel', 'advantage_of_such_service', 'fare_may_not_increase', 'legislation_which_can_result', 'stand_the_claim', 'federal_aviation_administration', 'advance_of_travel', 'remit_this_back_to_the_applicable', 'passenger_be_allow', 'primarily_due_to_high', 'change_in_law', 'passenger_at_the_time', 'law_that_affect', 'cancellation_or_diversion', 'domestic_and_foreign', 'item_such_a_1', 'business_through_the_imposition', 'doe_not_impose', 'reservation_be_make_a_long', 'fare_be_refundable', 'lease_and_for_terminal', 'continue_to_be_the_only_major', 'charge_a_change', 'complete_and_ongoing', 'grants_to_airport', 'impact_the_company', 'finance_may_conjurer', 'pay_up_to_in_deny', 'imposition_of_a_1', 'available_seat_mile_basis', 'curb_side_checkin', 'fare_and_the_adoption', 'hour_without_make_a_payment', 'violation_of_section', 'require_among_other_thing', 'respectfully_with_its_low', 'airtran_and_delta', 'serve_to_which_various_leasehold', 'rate_and_the_elimination', 'bump_from_flight', 'plan_can_change', 'cost_the_taxiway_safety_area', 'impose_a_annual', 'hour_after_the_reservation', 'include_in_aircraft', 'capacity_and_price', 'consist_of_distribution', 'fare_and_no_unexpected', 'taxis_and_fee', 'disclose_all_potential', 'initiative_a_previously', 'service_if_a_flight', 'august_the_court', 'subject_to_a_maximum', 'unlike_much_of_its_competitor', 'fee_must_apply', 'fee_must_be_disclose', 'difference_in_airfare', 'airline_that_doe', 'deduction_and_preference', 'enter_into_fuel', 'limit_or_regulate', 'facility_at_each_of_the_airport', 'delta_the_consolidated', 'allocate_among_a_few_numb', 'conspire_with_delta', 'generate_much_government', 'component_of_the_passenger', 'congress_may_consider', 'reservation_without_penalty', 'percent_of_operating', 'department_of_transportation_propose', 'advantage_by_differentiate', 'reimbursement_of_the_company', '1_or_2', 'department_of_transportation_on_the_amount_and_type', 'importance_to_southwest', 'conjurer_the_only_major', 'maximum_of_per_one_way', 'rental_per_available_seat_mile', 'pay_to_airtran', 'typically_the_flight', 'person_or_entity', 'include_but_not_limit', 'passenger_must_be_promptly', 'capacity_or_use', 'use_to_support', 'affect_through_future', 'airtran_to_have_a_consistent', 'customers_on_behalf', 'pay_a_usage', 'action_and_decision', 'notify_in_the_event', 'service_such_a_the_transportation', 'cost_be_then_allocate', 'change_and_therefore_doe', 'range_of_allege', 'grant_to_the_taxiway_safety_area', 'purchase_of_miles', 'addition_to_treble', 'million_or_percent', 'cost_for_safety', 'department_of_transportation_far', 'rule_by_implement', 'conspiracy_with_respect', 'report_much_information', 'propose_to_congress', 'item_such_a_seat', '1_and_2', 'project_the_majority', 'jurisdiction_over_its_operation', 'promote_the_company', 'pay_a_difference', 'access_at_slot', 'available_seat_mile', 'fee_for_optional', 'thing_that_airtran', 'taxiway_safety_area_to_assess', 'minimum_of_per_one_way', 'required_navigation_performance', 'necessary_to_cover', 'operation_can_be_negative', 'department_of_transportation'}\n"
     ]
    }
   ],
   "source": [
    "print_phrases(bigram, matched_sents)"
   ]
  },
  {
   "cell_type": "markdown",
   "metadata": {},
   "source": [
    "### Tri-gram phrase model\n",
    "\n",
    "We can place the text from the first phrase model into another Phrases object to create n-term phrase models. We can repear this process multiple times."
   ]
  },
  {
   "cell_type": "code",
   "execution_count": 157,
   "metadata": {},
   "outputs": [
    {
     "name": "stdout",
     "output_type": "stream",
     "text": [
      "{'1_or_2_bag', 'purchase_of_miles_rewards', 'approve_legislation_in_december', 'company_currently_expect_landing', 'landing_fee_and_other_rental_expense', 'pet_liquor_sale_advance', 'advance_of_travel_iii_fare', 'passenger_protection_rules_conjurer', 'capacity_and_price_decision', 'cost_such_a_credit', 'remit_this_back_to_the_applicable_governmental_entity', 'primarily_due_to_consult', 'baggage_allowance_and_fee_must_apply', 'passenger_at_the_time_of_book_vi', 'fee_and_other_rental', 'asif_on_each_airline', 'rental_respectively_in_the_consolidated_statement', 'reservation_without_penalty_for_hour_after_the_reservation', 'increase_after_purchase_iv', 'campaign_highlight_the_importance_to_southwest', 'amended_complaint_seek_injunctive', 'effective_july_and_ii_eliminate', 'unlike_much_of_its_competitor_southwest_doe', 'new_and_expand_component_of_the_passenger', 'conspiracy_with_respect_to_the_imposition_of_a_1', 'customer_service_by_show_that_southwest_understand', 'imposition_of_a_1_bag', 'august_the_court_dismiss_claim', 'intend_upon_full_integration', 'cost_be_then_allocate_among_a_few_numb_of_total', 'baggage_fee_must_be_disclose', 'result_in_a_low', 'fee_must_be_disclose_on_e_ticket', 'ii_passenger_be_allow_to_hold', 'passenger_trip_vii_baggage', 'bag_fee_for_permanently', 'lose_luggage_iii_prominently', 'confirmation_and_viii_passenger_must_be_promptly', 'long_a_the_reservation_be_make_at_little_seven', 'notify_in_the_event_of_delay_of_much_than_minute', 'airtran_and_delta_have_violate_section', 'pursuant_to_authority_grant_to_the_taxiway_safety_area', 'customer_change_in_flight', 'treat_customers_fairly_honestly', 'security_be_provide_in_part_by_a_per_enplanement_security', 'passenger_from_per_passenger_segment', 'campaign_emphasize_southwest_approach', 'service_be_provide_which_be_typically_the_flight', 'additionally_when_other_airline', 'air_carrier_if_necessary_to_cover', 'fee_for_permanently_lose_luggage', 'violation_of_section_of_the_sherman_act', 'primarily_a_a_result', 'lease_and_for_terminal_operation_lease', 'hour_without_make_a_payment_ii_passenger', 'advantage_of_such_service', 'legislation_which_can_result', 'relief_against_a_broad_range_of_allege', 'airfare_the_customer_will_not_be_charge_a_change', 'refund_any_check_bag', 'court_let_stand_the_claim', 'cost_associate_with_complete_and_ongoing', 'primarily_due_to_high', 'atsa_fund_for_passenger', 'sherman_act_the_court_let', 'generate_much_government_revenue_congress', 'conspire_with_delta_in_impose_bag', 'item_such_a_1_and_2_check', 'penalty_for_hour_after_the_reservation_be_make_a_long', 'cost_the_taxiway_safety_area_have_impose_a_annual', 'passenger_trip_vi_baggage', 'business_through_the_imposition', 'include_in_aircraft_rental', 'seat_assignment_call_center_service', 'federal_transportation_taxis_federal', 'continue_to_be_the_only_major', 'landing_fee_and_other_rental_respectively', 'available_seat_mile_basis', 'fare_and_the_adoption', 'additional_federal_aviation_security', 'confirmation_and_vii_passenger_must_be_promptly', 'customer_may_pay_a_difference', 'result_in_increase_land', 'person_or_entity_in_the_united_states', 'require_airline_to_i_pay_up_to_in_deny', 'collect_certain_taxis_and_fee', 'serve_to_which_various_leasehold', 'rate_and_the_elimination', 'violate_section_of_the_sherman_act', 'day_in_advance_of_travel_iv', 'unlike_much_of_its_competitor', 'pay_to_airtran_and_to_delta_the_consolidated', 'service_on_their_website_and_iv_refund', 'service_such_a_the_transportation_of_unaccompanied_minor', 'anticompetitive_activity_a_good', 'approximate_million_for_southwest', 'facility_at_each_of_the_airport', 'allocate_among_a_few_numb', 'cancel_or_oversell_and_a_passenger_be_unable', 'customers_on_behalf_of_government_agency', 'passenger_at_the_time_of_book_v', 'priority_seat_selection_special', 'attempt_to_monopolize_air_travel', 'rental_per_available_seat_mile_increase_percent', 'damage_on_behalf_of_a_putative_class', 'department_of_transportation_propose', 'fare_may_not_increase_after_purchase_v', 'reimbursement_of_the_company', 'reservation_be_make_at_little_seven_day', 'cancellation_or_diversion_of_their_flight', 'department_of_transportation_on_the_amount_and_type', 'southwest_be_conjurer_the_only_major', 'directly_pay_delta_airtran', 'complaint_allege_among_other_thing_that_airtran', 'maximum_of_per_one_way', 'allow_to_cancel_a_pay_reservation', 'rental_per_available_seat_mile', 'include_but_not_limit', 'protection_rule_require_among_other_thing', 'disclose_all_potential_fee_for_optional', 'check_bag_fee_for_permanently', 'generate_much_net_federal_revenue', 'effort_to_reduce_the_federal_deficit', 'airtran_to_have_a_consistent', 'stand_the_claim_of_a_conspiracy_with_respect', 'aviation_security_infrastructure_fee', 'pay_for_ancillary_service_if_a_flight', 'amounts_collect_from_passenger', 'addition_to_treble_damage_for_the_amount_of_1', 'passenger_be_allow_to_cancel_a_pay', 'ancillary_service_on_their_website_and_iv', 'change_and_therefore_doe', 'domestic_flight_begin_december', 'respectfully_with_its_low_fare_and_no_unexpected', 'plan_can_change_and_therefore_doe_not_charge', 'department_of_transportation_far', 'increase_by_million_or_percent', 'reservation_for_up_to_hour_without_make_a_payment_iii', 'item_such_a_seat', 'aircraft_operate_lease_and_for_terminal', 'bump_from_flight_ii_refund', 'conjurer_the_only_major_airline_that_doe', 'jurisdiction_over_its_operation', 'curb_side_checkin_and_telephone_reservation', 'landing_fee_and_other_rental_per_available_seat_mile', 'generally_recognize_a_other_revenue', 'subject_to_a_maximum_of_per_one_way_trip', 'extension_or_transfer_of_miles_rewards', 'pay_by_airline_directly', 'require_that_i_advertise_airfares_include', 'passenger_be_allow_to_hold_a_reservation', 'flight_ii_refund_any_check', 'company_be_conjurer_require', 'selection_fuel_surcharge_snack', 'taxiway_safety_area_to_assess', 'initial_complaint_seek_treble', 'minimum_of_per_one_way', 'operation_can_be_negative', 'expense_be_include_in_aircraft', 'rental_and_in_landing_fee', 'available_seat_mile_basis_landing_fee', 'consolidated_statement_of_income', '1_item_of_check_luggage'}\n"
     ]
    }
   ],
   "source": [
    "phrases = Phrases(bigram[matched_sents], common_terms=common_terms, min_count=5, threshold=5)\n",
    "trigram = Phraser(phrases)\n",
    "\n",
    "print_phrases(trigram, bigram[matched_sents], num_underscores=3)"
   ]
  },
  {
   "cell_type": "code",
   "execution_count": 158,
   "metadata": {},
   "outputs": [
    {
     "name": "stdout",
     "output_type": "stream",
     "text": [
      "DOC NUMBER: 5\n",
      "\n",
      "ORIGINAL SENTENT: landing fee and other rental per available_seat_mile increase percent in compare to which include a airport credit of million\n",
      "\n",
      "BIGRAM: landing_fee and other rental_per_available_seat_mile increase_percent in compare to which include a airport credit of million\n",
      "\n",
      "TRIGRAM: landing_fee_and_other_rental_per_available_seat_mile increase_percent in compare to which include a airport credit of million\n"
     ]
    }
   ],
   "source": [
    "for doc_num in [5]:\n",
    "    print('DOC NUMBER: {}\\n'.format(doc_num))\n",
    "    print('ORIGINAL SENTENT: {}\\n'.format(' '.join(matched_sents[doc_num])))\n",
    "    print('BIGRAM: {}\\n'.format(' '.join(bigram[matched_sents[doc_num]])))\n",
    "    print('TRIGRAM: {}'.format(' '.join(trigram[bigram[matched_sents[doc_num]]])))"
   ]
  },
  {
   "cell_type": "markdown",
   "metadata": {},
   "source": [
    "#### Export Cleaned Text"
   ]
  },
  {
   "cell_type": "code",
   "execution_count": 159,
   "metadata": {},
   "outputs": [],
   "source": [
    "# write the cleaned text to a new file for later use\n",
    "with open(AIRLINE_CLEANED_TEXT_PATH, 'w') as f:\n",
    "    for line in bigram[matched_sents]:\n",
    "        line = ' '.join(line) + '\\n'\n",
    "        line = line.encode('ascii', errors='ignore').decode('ascii')\n",
    "        f.write(line)"
   ]
  },
  {
   "cell_type": "markdown",
   "metadata": {},
   "source": [
    "### Advanced - clean text using SpaCy and gensim"
   ]
  },
  {
   "cell_type": "code",
   "execution_count": 167,
   "metadata": {},
   "outputs": [
    {
     "name": "stdout",
     "output_type": "stream",
     "text": [
      "The Company’s fleet included 51 aircraft on capital lease as of December 31, 2016, compared with     28 aircraft on capital lease, including one B717, as of December 31, 2015. \n",
      "\n",
      "Amounts applicable to these aircraft that are included in property and equipment were: Total rental expense for operating leases, both aircraft and other, charged to operations in 2016, 2015, and 2014 was $932 million, $909 million, and $931 million, respectively. \n",
      "\n",
      "The majority of the Company’s terminal operations space, as well as 83 aircraft, were under operating  leases  at  December 31, 2016. \n",
      "\n",
      "For aircraft operating leases and for terminal operations leases, expense is  recorded on a straight-line basis and included in Aircraft rentals and in Landing fees and other rentals, respectively, in the Consolidated Statement of Income. \n",
      "\n",
      "Future minimum lease payments under capital leases and noncancelable operating leases and rentals to be received under subleases with initial or remaining terms in excess of one year at December 31, 2016, were: \n",
      "\n",
      "{'rental_expense', 'aircraft_operate', 'operate_lease', 'fee_and_other_rental', 'lease_and_for_terminal', 'terminal_operation', 'operation_lease'}\n"
     ]
    }
   ],
   "source": [
    "def clean_text(doc):\n",
    "    print(doc, '\\n')\n",
    "\n",
    "    ents = nlp(doc.text).ents\n",
    "\n",
    "    # Add named entities, but only if they are a compound of more than word.\n",
    "    IGNORE_ENTS = ('QUANTITY','ORDINAL','CARDINAL','DATE'\n",
    "                   ,'PERCENT','MONEY','TIME')\n",
    "    ents = [ent for ent in ents if \n",
    "             (ent.label_ not in IGNORE_ENTS) and (len(ent) > 2)]\n",
    "    \n",
    "    # add underscores to combine words in entities\n",
    "    ents = [str(ent).strip().replace(' ','_') for ent in ents]\n",
    "    \n",
    "    # clean text for phrase model\n",
    "    # Keep only words (no numbers, no punctuation).\n",
    "    # Lemmatize tokens, remove punctuation and remove stopwords.\n",
    "    doc_ = [token.lemma_ for token in doc if token.is_alpha]\n",
    "    phrase_text = [str(term) for term in doc_]\n",
    "    sent = bigram[phrase_text]\n",
    "    phrases = []\n",
    "    for term in sent:\n",
    "        if '_' in term:\n",
    "            phrases.append(term)\n",
    "\n",
    "    # remove stops words - \n",
    "    # separate step as they are needed for the phrase model\n",
    "    doc = [token.lemma_ for token in doc if token.is_alpha and not token.is_stop]\n",
    "\n",
    "    # add phrases and entities\n",
    "    doc.extend([entity for entity in ents])\n",
    "    clean_text = [str(term) for term in doc] + phrases\n",
    "\n",
    "    return clean_text\n",
    "\n",
    "# combined terms after phrase model\n",
    "after_phrase = []\n",
    "for sent in doc.sents:\n",
    "    text = clean_text(sent)\n",
    "    for term in text:\n",
    "        if '_' in term:\n",
    "            after_phrase.append(term)\n",
    "\n",
    "print(set(after_phrase))"
   ]
  },
  {
   "cell_type": "code",
   "execution_count": null,
   "metadata": {},
   "outputs": [],
   "source": []
  }
 ],
 "metadata": {
  "kernelspec": {
   "display_name": "Python 3",
   "language": "python",
   "name": "python3"
  },
  "language_info": {
   "codemirror_mode": {
    "name": "ipython",
    "version": 3
   },
   "file_extension": ".py",
   "mimetype": "text/x-python",
   "name": "python",
   "nbconvert_exporter": "python",
   "pygments_lexer": "ipython3",
   "version": "3.6.5"
  }
 },
 "nbformat": 4,
 "nbformat_minor": 2
}
