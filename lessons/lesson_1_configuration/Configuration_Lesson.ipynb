{
 "cells": [
  {
   "cell_type": "markdown",
   "metadata": {},
   "source": [
    "# Configuration\n",
    "\n",
    "##### Author: Alex Sherman | alsherman@deloitte.com"
   ]
  },
  {
   "cell_type": "markdown",
   "metadata": {},
   "source": [
    "### Lesson Objectives:\n",
    "- Discuss magic commands to use command line functionality in a Jupyter Notebook\n",
    "- Learn ConfigParser to use configuration files"
   ]
  },
  {
   "cell_type": "code",
   "execution_count": 4,
   "metadata": {},
   "outputs": [
    {
     "data": {
      "image/png": "[encoded data removed]",
      "text/plain": [
       "<IPython.core.display.Image object>"
      ]
     },
     "execution_count": 4,
     "metadata": {
      "image/png": {
       "height": 700,
       "width": 700
      }
     },
     "output_type": "execute_result"
    }
   ],
   "source": [
    "from IPython.display import Image\n",
    "Image(\"../../raw_data/images/lesson1_configuration.png\", width=700, height=700)"
   ]
  },
  {
   "cell_type": "markdown",
   "metadata": {},
   "source": [
    "### Magic Commands\n",
    "\n",
    "By placing a '#' in from of command line commands, we can run them from a Jupyter Notebook. We call these magic commands"
   ]
  },
  {
   "cell_type": "code",
   "execution_count": 2,
   "metadata": {},
   "outputs": [
    {
     "data": {
      "text/plain": [
       "'C:\\\\Users\\\\alsherman\\\\Desktop\\\\PycharmProjects\\\\firm_initiatives\\\\ml_guild\\\\lessons\\\\lesson1_configuration'"
      ]
     },
     "execution_count": 2,
     "metadata": {},
     "output_type": "execute_result"
    }
   ],
   "source": [
    "# print working directory\n",
    "%pwd"
   ]
  },
  {
   "cell_type": "code",
   "execution_count": 3,
   "metadata": {},
   "outputs": [
    {
     "name": "stdout",
     "output_type": "stream",
     "text": [
      "C:\\Users\\alsherman\\Desktop\\PycharmProjects\\firm_initiatives\\ml_guild\n"
     ]
    }
   ],
   "source": [
    "# cd to the ml_guild\n",
    "%cd ../.."
   ]
  },
  {
   "cell_type": "code",
   "execution_count": 4,
   "metadata": {},
   "outputs": [
    {
     "name": "stdout",
     "output_type": "stream",
     "text": [
      " Volume in drive C is OSDisk\n",
      " Volume Serial Number is 1C4D-03FA\n",
      "\n",
      " Directory of C:\\Users\\alsherman\\Desktop\\PycharmProjects\\firm_initiatives\\ml_guild\n",
      "\n",
      "03/02/2018  11:12 PM    <DIR>          .\n",
      "03/02/2018  11:12 PM    <DIR>          ..\n",
      "03/02/2018  11:15 PM    <DIR>          .git\n",
      "01/11/2018  12:43 AM             1,299 .gitignore\n",
      "03/02/2018  11:22 PM    <DIR>          .idea\n",
      "01/04/2018  09:27 PM    <DIR>          .ipynb_checkpoints\n",
      "01/21/2018  01:59 PM             1,477 config.ini\n",
      "11/23/2017  10:42 AM    <DIR>          homework\n",
      "01/03/2018  09:40 PM    <DIR>          lessons\n",
      "01/10/2018  11:11 PM    <DIR>          project\n",
      "01/19/2018  07:40 PM    <DIR>          raw_data\n",
      "01/03/2018  01:05 PM             2,576 README.md\n",
      "11/26/2017  09:57 PM               846 test.spec\n",
      "01/19/2018  07:37 PM             1,663 TODO\n",
      "03/02/2018  11:13 PM    <DIR>          video\n",
      "               5 File(s)          7,861 bytes\n",
      "              10 Dir(s)  212,358,520,832 bytes free\n"
     ]
    }
   ],
   "source": [
    "# view the files to confirm the raw_data dir exists\n",
    "%ls"
   ]
  },
  {
   "cell_type": "code",
   "execution_count": 5,
   "metadata": {},
   "outputs": [
    {
     "name": "stdout",
     "output_type": "stream",
     "text": [
      " Volume in drive C is OSDisk\n",
      " Volume Serial Number is 1C4D-03FA\n",
      "\n",
      " Directory of C:\\Users\\alsherman\\Desktop\\PycharmProjects\\firm_initiatives\\ml_guild\\raw_data\n",
      "\n",
      "01/19/2018  07:40 PM    <DIR>          .\n",
      "01/19/2018  07:40 PM    <DIR>          ..\n",
      "01/02/2018  09:23 AM            31,468 airline_acronyms.csv\n",
      "01/19/2018  07:40 PM                 0 annual_report.db\n",
      "01/14/2018  05:07 AM    <DIR>          chromedriver\n",
      "03/02/2018  11:07 PM    <DIR>          configuration_files\n",
      "01/17/2018  11:14 AM    <DIR>          databases\n",
      "11/18/2017  11:32 PM            11,662 docx_example.zip\n",
      "01/04/2018  11:54 PM    <DIR>          docx_text\n",
      "11/22/2017  08:47 PM    <DIR>          ebay\n",
      "11/22/2017  08:47 PM    <DIR>          federal_open_demands\n",
      "01/02/2018  09:23 AM    <DIR>          gensim\n",
      "01/02/2018  09:23 AM    <DIR>          images\n",
      "11/26/2017  05:57 PM    <DIR>          lesson_images\n",
      "11/22/2017  08:47 PM    <DIR>          nvidia-corporation\n",
      "01/05/2018  11:33 AM    <DIR>          oracle-corporation\n",
      "12/23/2017  12:22 AM           534,269 oracle-corporation.zip\n",
      "11/22/2017  08:47 PM    <DIR>          sap-ag\n",
      "01/02/2018  09:23 AM           458,637 southwest_2016.txt\n",
      "01/07/2018  03:05 PM    <DIR>          southwest-airlines-co\n",
      "01/14/2018  05:41 AM     2,347,110,159 stackoverflow.zip\n",
      "11/22/2017  08:47 PM    <DIR>          yahoo\n",
      "               6 File(s)  2,348,146,195 bytes\n",
      "              16 Dir(s)  212,358,520,832 bytes free\n"
     ]
    }
   ],
   "source": [
    "# view the directories and files inside the raw_data dir\n",
    "%ls raw_data"
   ]
  },
  {
   "cell_type": "code",
   "execution_count": 6,
   "metadata": {},
   "outputs": [
    {
     "name": "stdout",
     "output_type": "stream",
     "text": [
      "C:\\Users\\alsherman\\Desktop\\PycharmProjects\\firm_initiatives\\ml_guild\\raw_data\\configuration_files\n"
     ]
    }
   ],
   "source": [
    "# change directory into the configuration_files folder\n",
    "%cd raw_data/configuration_files"
   ]
  },
  {
   "cell_type": "code",
   "execution_count": 7,
   "metadata": {},
   "outputs": [
    {
     "data": {
      "text/plain": [
       "'C:\\\\Users\\\\alsherman\\\\Desktop\\\\PycharmProjects\\\\firm_initiatives\\\\ml_guild\\\\raw_data\\\\configuration_files'"
      ]
     },
     "execution_count": 7,
     "metadata": {},
     "output_type": "execute_result"
    }
   ],
   "source": [
    "# confirm we are in the correct dir\n",
    "%pwd"
   ]
  },
  {
   "cell_type": "code",
   "execution_count": 8,
   "metadata": {},
   "outputs": [
    {
     "name": "stdout",
     "output_type": "stream",
     "text": [
      " Volume in drive C is OSDisk\n",
      " Volume Serial Number is 1C4D-03FA\n",
      "\n",
      " Directory of C:\\Users\\alsherman\\Desktop\\PycharmProjects\\firm_initiatives\\ml_guild\\raw_data\\configuration_files\n",
      "\n",
      "03/02/2018  11:07 PM    <DIR>          .\n",
      "03/02/2018  11:07 PM    <DIR>          ..\n",
      "03/02/2018  11:08 PM    <DIR>          all_ini\n",
      "03/02/2018  11:40 PM    <DIR>          aws_config_files_1\n",
      "12/10/2017  09:36 PM    <DIR>          aws_config_files_2\n",
      "12/10/2017  09:36 PM    <DIR>          aws_config_files_3\n",
      "12/10/2017  09:36 PM    <DIR>          aws_config_files_4\n",
      "12/10/2017  09:36 PM    <DIR>          aws_config_files_5\n",
      "               0 File(s)              0 bytes\n",
      "               8 Dir(s)  212,358,520,832 bytes free\n"
     ]
    }
   ],
   "source": [
    "# list the directories and files\n",
    "%ls"
   ]
  },
  {
   "cell_type": "code",
   "execution_count": 9,
   "metadata": {},
   "outputs": [
    {
     "name": "stdout",
     "output_type": "stream",
     "text": [
      "C:\\Users\\alsherman\\Desktop\\PycharmProjects\\firm_initiatives\\ml_guild\\raw_data\\configuration_files\\aws_config_files_1\n"
     ]
    }
   ],
   "source": [
    "# cd in aws_config_files_1\n",
    "%cd aws_config_files_1"
   ]
  },
  {
   "cell_type": "code",
   "execution_count": 10,
   "metadata": {},
   "outputs": [
    {
     "name": "stdout",
     "output_type": "stream",
     "text": [
      " Volume in drive C is OSDisk\n",
      " Volume Serial Number is 1C4D-03FA\n",
      "\n",
      " Directory of C:\\Users\\alsherman\\Desktop\\PycharmProjects\\firm_initiatives\\ml_guild\\raw_data\\configuration_files\\aws_config_files_1\n",
      "\n",
      "03/02/2018  11:40 PM    <DIR>          .\n",
      "03/02/2018  11:40 PM    <DIR>          ..\n",
      "03/02/2018  11:43 PM               187 config_extended.ini\n",
      "12/10/2017  10:21 PM               157 config1.ini\n",
      "12/10/2017  09:29 PM               156 config13.ini\n",
      "12/10/2017  09:29 PM               156 config16.ini\n",
      "12/10/2017  09:31 PM               322 config19.ini\n",
      "12/10/2017  09:31 PM               322 config22.ini\n",
      "12/10/2017  09:31 PM               322 config24.ini\n",
      "12/10/2017  09:28 PM               156 config5.ini\n",
      "               8 File(s)          1,778 bytes\n",
      "               2 Dir(s)  212,358,516,736 bytes free\n"
     ]
    }
   ],
   "source": [
    "# list the directories and files\n",
    "%ls"
   ]
  },
  {
   "cell_type": "markdown",
   "metadata": {},
   "source": [
    "### INI Files\n",
    "\n",
    "The INI file format is an informal standard for configuration files for some platforms or software. INI files are simple text files with a basic structure composed of sections, properties, and values.\n",
    "\n",
    "Source: https://en.wikipedia.org/wiki/INI_file"
   ]
  },
  {
   "cell_type": "code",
   "execution_count": 11,
   "metadata": {
    "collapsed": true
   },
   "outputs": [],
   "source": [
    "# view the config1.ini file\n",
    "%less config1.ini"
   ]
  },
  {
   "cell_type": "markdown",
   "metadata": {},
   "source": [
    "### ConfigParser\n",
    "\n",
    "This module defines the class ConfigParser. The ConfigParser class implements a basic configuration file parser language which provides a structure similar to what you would find on Microsoft Windows INI files. You can use this to write Python programs which can be customized by end users easily.\n",
    "\n",
    "Source: https://docs.python.org/2/library/configparser.html"
   ]
  },
  {
   "cell_type": "code",
   "execution_count": 12,
   "metadata": {},
   "outputs": [
    {
     "data": {
      "text/html": [
       "<iframe src=https://wiki.python.org/moin/ConfigParserExamples width=1100 height=300></iframe>"
      ],
      "text/plain": [
       "<IPython.core.display.HTML object>"
      ]
     },
     "execution_count": 12,
     "metadata": {},
     "output_type": "execute_result"
    }
   ],
   "source": [
    "from IPython.core.display import display, HTML\n",
    "\n",
    "sqlalchemy_url = 'https://wiki.python.org/moin/ConfigParserExamples'\n",
    "iframe = '<iframe src={} width=1100 height=300></iframe>'.format(sqlalchemy_url)\n",
    "HTML(iframe)"
   ]
  },
  {
   "cell_type": "code",
   "execution_count": 21,
   "metadata": {
    "collapsed": true
   },
   "outputs": [],
   "source": [
    "import configparser"
   ]
  },
  {
   "cell_type": "code",
   "execution_count": 22,
   "metadata": {
    "collapsed": true
   },
   "outputs": [],
   "source": [
    "# instantiate config parser\n",
    "config = configparser.ConfigParser()"
   ]
  },
  {
   "cell_type": "code",
   "execution_count": 23,
   "metadata": {},
   "outputs": [
    {
     "data": {
      "text/plain": [
       "['config1.ini']"
      ]
     },
     "execution_count": 23,
     "metadata": {},
     "output_type": "execute_result"
    }
   ],
   "source": [
    "# read a config file\n",
    "config.read('config1.ini')"
   ]
  },
  {
   "cell_type": "code",
   "execution_count": 24,
   "metadata": {},
   "outputs": [
    {
     "data": {
      "text/plain": [
       "['default', 'keys']"
      ]
     },
     "execution_count": 24,
     "metadata": {},
     "output_type": "execute_result"
    }
   ],
   "source": [
    "# observe the sections in the config file\n",
    "config.sections()"
   ]
  },
  {
   "cell_type": "code",
   "execution_count": 25,
   "metadata": {},
   "outputs": [
    {
     "data": {
      "text/plain": [
       "'us-west-2'"
      ]
     },
     "execution_count": 25,
     "metadata": {},
     "output_type": "execute_result"
    }
   ],
   "source": [
    "# config uses dict syntax to store values\n",
    "config['default']['region']"
   ]
  },
  {
   "cell_type": "code",
   "execution_count": 26,
   "metadata": {
    "collapsed": true
   },
   "outputs": [],
   "source": [
    "# store all config values\n",
    "REGION = config['default']['region']\n",
    "OUTPUT = config['default']['region']\n",
    "AWS_ACCESS_KEY_ID = config['keys']['aws_access_key_id']\n",
    "AWS_SECRET_ACCESS_KEY = config['keys']['aws_secret_access_key']"
   ]
  },
  {
   "cell_type": "markdown",
   "metadata": {},
   "source": [
    "### Advanced configparser usage\n",
    "\n",
    "**ExtendedInterpolation**: Using ExtendedInterpolation reuses variables across sections. \n",
    "\n",
    "- The equal signs are replaced with colons in ExtendedInterpolation\n",
    "- The format to create a variable is ${section_name:variable_name}"
   ]
  },
  {
   "cell_type": "code",
   "execution_count": 36,
   "metadata": {
    "collapsed": true
   },
   "outputs": [],
   "source": [
    "# view the config_extended.ini file\n",
    "%less config_extended.ini"
   ]
  },
  {
   "cell_type": "code",
   "execution_count": 30,
   "metadata": {},
   "outputs": [
    {
     "data": {
      "text/plain": [
       "['config_extended.ini']"
      ]
     },
     "execution_count": 30,
     "metadata": {},
     "output_type": "execute_result"
    }
   ],
   "source": [
    "# import, instantiate, and read a config parser with extended interpolation\n",
    "from configparser import ConfigParser, ExtendedInterpolation\n",
    "\n",
    "config = configparser.ConfigParser(interpolation=ExtendedInterpolation())\n",
    "config.read('config_extended.ini')"
   ]
  },
  {
   "cell_type": "code",
   "execution_count": 31,
   "metadata": {},
   "outputs": [
    {
     "data": {
      "text/plain": [
       "['default', 'profile user2', 'extended']"
      ]
     },
     "execution_count": 31,
     "metadata": {},
     "output_type": "execute_result"
    }
   ],
   "source": [
    "config.sections()"
   ]
  },
  {
   "cell_type": "code",
   "execution_count": 35,
   "metadata": {},
   "outputs": [
    {
     "data": {
      "text/plain": [
       "'us-east-1 is active'"
      ]
     },
     "execution_count": 35,
     "metadata": {},
     "output_type": "execute_result"
    }
   ],
   "source": [
    "# get a variable that uses extended interpolation\n",
    "config['extended']['active']"
   ]
  },
  {
   "cell_type": "markdown",
   "metadata": {},
   "source": [
    "### Application:"
   ]
  },
  {
   "cell_type": "markdown",
   "metadata": {},
   "source": [
    "We will continue to use config files for future lessons to maintain a single source for a file names and directory paths"
   ]
  },
  {
   "cell_type": "code",
   "execution_count": 42,
   "metadata": {
    "collapsed": true
   },
   "outputs": [],
   "source": [
    "# view project config file\n",
    "%less ../../../config.ini"
   ]
  }
 ],
 "metadata": {
  "kernelspec": {
   "display_name": "Python 3",
   "language": "python",
   "name": "python3"
  },
  "language_info": {
   "codemirror_mode": {
    "name": "ipython",
    "version": 3
   },
   "file_extension": ".py",
   "mimetype": "text/x-python",
   "name": "python",
   "nbconvert_exporter": "python",
   "pygments_lexer": "ipython3",
   "version": "3.6.3"
  }
 },
 "nbformat": 4,
 "nbformat_minor": 2
}
